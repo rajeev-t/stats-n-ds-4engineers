{
 "cells": [
  {
   "cell_type": "code",
   "execution_count": null,
   "metadata": {
    "deletable": false,
    "editable": false
   },
   "outputs": [],
   "source": [
    "# Initialize Otter\n",
    "import otter\n",
    "grader = otter.Notebook(\"lab00.ipynb\")"
   ]
  },
  {
   "cell_type": "markdown",
   "metadata": {},
   "source": [
    "---\n",
    "\n",
    "<h2><center>NumPy and Autograder demo<br></center></h2>\n",
    "\n",
    "---"
   ]
  },
  {
   "cell_type": "code",
   "execution_count": null,
   "metadata": {
    "execution": {
     "iopub.execute_input": "2025-01-28T07:40:49.197124Z",
     "iopub.status.busy": "2025-01-28T07:40:49.196755Z",
     "iopub.status.idle": "2025-01-28T07:40:49.353778Z",
     "shell.execute_reply": "2025-01-28T07:40:49.353151Z"
    }
   },
   "outputs": [],
   "source": [
    "from hashutils import *"
   ]
  },
  {
   "cell_type": "markdown",
   "metadata": {
    "deletable": false,
    "editable": false
   },
   "source": [
    "# Part 1) Tennis ball launcher\n",
    "A tennis ball launcher launches tennis balls from a height $h=80$ cm off the ground, at an angle $\\theta_0$, and intial speed of $v_0$. If the initial angle is $\\theta_0=\\pi/4$, find the speed $v_0$ so that the ball bounces at 10 meters from the launch point.\n",
    "\n",
    "<img src=\"launcher.png\" />\n",
    "\n",
    "The formula for $v_0$ as a function of $d$, $\\theta_0$, and $h$ is,\n",
    "\n",
    "$$v_0 = \\sqrt{ \\frac{gd^2}{2\\cos^2(\\theta_0)(h+d\\tan(\\theta_0))} }$$\n",
    "\n",
    "where $g=9.81$ m/s2 is the acceleration due to gravity."
   ]
  },
  {
   "cell_type": "code",
   "execution_count": null,
   "metadata": {
    "execution": {
     "iopub.execute_input": "2025-01-28T07:40:49.359446Z",
     "iopub.status.busy": "2025-01-28T07:40:49.359111Z",
     "iopub.status.idle": "2025-01-28T07:40:49.366587Z",
     "shell.execute_reply": "2025-01-28T07:40:49.366177Z"
    },
    "tags": [
     "otter_answer_cell"
    ]
   },
   "outputs": [],
   "source": [
    "g = 9.81\n",
    "h = 0.8\n",
    "d = 10\n",
    "theta0 = np.pi/4\n",
    "v0 = ..."
   ]
  },
  {
   "cell_type": "code",
   "execution_count": null,
   "metadata": {
    "deletable": false,
    "editable": false
   },
   "outputs": [],
   "source": [
    "grader.check(\"q1\")"
   ]
  },
  {
   "cell_type": "markdown",
   "metadata": {},
   "source": [
    "# Part 2) Cell phone tower\n",
    "\n",
    "The file `pos_phones.txt` contains the $(x,y,z)$ coordinates of 200 cell phones. The file \n",
    "`pos_tower.txt` contains the $(x,y,z)$ coordinates of a cell phone tower. Find the position of the phone that is closest to the tower. "
   ]
  },
  {
   "cell_type": "markdown",
   "metadata": {
    "deletable": false,
    "editable": false,
    "vscode": {
     "languageId": "raw"
    }
   },
   "source": [
    "### Part 2.1) Load the data\n",
    "\n",
    "Use [`np.loadtxt`](https://numpy.org/doc/2.1/reference/generated/numpy.loadtxt.html) to load the data into NumPy arrays."
   ]
  },
  {
   "cell_type": "code",
   "execution_count": null,
   "metadata": {
    "execution": {
     "iopub.execute_input": "2025-01-28T07:40:49.417081Z",
     "iopub.status.busy": "2025-01-28T07:40:49.416890Z",
     "iopub.status.idle": "2025-01-28T07:40:49.420771Z",
     "shell.execute_reply": "2025-01-28T07:40:49.420412Z"
    },
    "tags": [
     "otter_answer_cell"
    ]
   },
   "outputs": [],
   "source": [
    "pos_tower = ...\n",
    "pos_phones = ..."
   ]
  },
  {
   "cell_type": "code",
   "execution_count": null,
   "metadata": {
    "deletable": false,
    "editable": false
   },
   "outputs": [],
   "source": [
    "grader.check(\"q2p1\")"
   ]
  },
  {
   "cell_type": "markdown",
   "metadata": {
    "deletable": false,
    "editable": false
   },
   "source": [
    "### Part 2.2) Compute the distances from each of the phones to the cell tower."
   ]
  },
  {
   "cell_type": "code",
   "execution_count": null,
   "metadata": {
    "execution": {
     "iopub.execute_input": "2025-01-28T07:40:49.441741Z",
     "iopub.status.busy": "2025-01-28T07:40:49.441472Z",
     "iopub.status.idle": "2025-01-28T07:40:49.445822Z",
     "shell.execute_reply": "2025-01-28T07:40:49.445430Z"
    },
    "tags": [
     "otter_answer_cell"
    ]
   },
   "outputs": [],
   "source": [
    "d = ..."
   ]
  },
  {
   "cell_type": "code",
   "execution_count": null,
   "metadata": {
    "deletable": false,
    "editable": false
   },
   "outputs": [],
   "source": [
    "grader.check(\"q2p2\")"
   ]
  },
  {
   "cell_type": "markdown",
   "metadata": {
    "deletable": false,
    "editable": false
   },
   "source": [
    "### Part 2.3) Find the distance to the closest phone, as well as its  $(x,y,z)$ coordinates. "
   ]
  },
  {
   "cell_type": "code",
   "execution_count": null,
   "metadata": {
    "execution": {
     "iopub.execute_input": "2025-01-28T07:40:49.458318Z",
     "iopub.status.busy": "2025-01-28T07:40:49.458044Z",
     "iopub.status.idle": "2025-01-28T07:40:49.461433Z",
     "shell.execute_reply": "2025-01-28T07:40:49.461097Z"
    },
    "tags": [
     "otter_answer_cell"
    ]
   },
   "outputs": [],
   "source": [
    "ind = ...                   # index of the closest phone\n",
    "d_closest = ...             # distance to the closest phone\n",
    "pos_closest = ...           # position of the closest phone"
   ]
  },
  {
   "cell_type": "code",
   "execution_count": null,
   "metadata": {
    "deletable": false,
    "editable": false
   },
   "outputs": [],
   "source": [
    "grader.check(\"q2p3\")"
   ]
  },
  {
   "cell_type": "markdown",
   "metadata": {
    "deletable": false,
    "editable": false
   },
   "source": [
    "---\n",
    "\n",
    "To double-check your work, the cell below will rerun all of the autograder tests."
   ]
  },
  {
   "cell_type": "code",
   "execution_count": null,
   "metadata": {
    "deletable": false,
    "editable": false
   },
   "outputs": [],
   "source": [
    "grader.check_all()"
   ]
  },
  {
   "cell_type": "markdown",
   "metadata": {
    "deletable": false,
    "editable": false
   },
   "source": [
    "## Submission\n",
    "\n",
    "Make sure you have run all cells in your notebook in order before running the cell below, so that all images/graphs appear in the output. The cell below will generate a zip file for you to submit. **Please save before exporting!**\n",
    "\n",
    "Please submit the .zip file to Gradescope."
   ]
  },
  {
   "cell_type": "code",
   "execution_count": null,
   "metadata": {
    "deletable": false,
    "editable": false
   },
   "outputs": [],
   "source": [
    "# Save your notebook first, then run this cell to export your submission.\n",
    "grader.export(pdf=False)"
   ]
  },
  {
   "cell_type": "markdown",
   "metadata": {},
   "source": [
    " "
   ]
  }
 ],
 "metadata": {
  "kernelspec": {
   "display_name": "sdse",
   "language": "python",
   "name": "python3"
  },
  "language_info": {
   "codemirror_mode": {
    "name": "ipython",
    "version": 3
   },
   "file_extension": ".py",
   "mimetype": "text/x-python",
   "name": "python",
   "nbconvert_exporter": "python",
   "pygments_lexer": "ipython3",
   "version": "3.12.3"
  },
  "otter": {
   "OK_FORMAT": true,
   "assignment_name": "lab00",
   "tests": {
    "q1": {
     "name": "q1",
     "points": null,
     "suites": [
      {
       "cases": [
        {
         "code": ">>> bool(v0 > 5 and v0 < 12)\nTrue",
         "hidden": false,
         "locked": false,
         "points": 0
        },
        {
         "code": ">>> get_hash(v0, 4) == 'f22a50d170f47b09eca595e9cbce5e6a'\nTrue",
         "hidden": false,
         "locked": false,
         "points": 1
        }
       ],
       "scored": true,
       "setup": "",
       "teardown": "",
       "type": "doctest"
      }
     ]
    },
    "q2p1": {
     "name": "q2p1",
     "points": null,
     "suites": [
      {
       "cases": [
        {
         "code": ">>> pos_tower.shape == (3,) and pos_phones.shape == (200, 3)\nTrue",
         "hidden": false,
         "locked": false,
         "points": 0
        },
        {
         "code": ">>> get_hash(pos_tower, 4) == '0754256bded584cec121b93843b34cae'\nTrue",
         "hidden": false,
         "locked": false,
         "points": 1
        },
        {
         "code": ">>> get_hash(pos_phones, 4) == '5e373f45e96f37b4dbf30513ce9635f8'\nTrue",
         "hidden": false,
         "locked": false,
         "points": 1
        }
       ],
       "scored": true,
       "setup": "",
       "teardown": "",
       "type": "doctest"
      }
     ]
    },
    "q2p2": {
     "name": "q2p2",
     "points": null,
     "suites": [
      {
       "cases": [
        {
         "code": ">>> d.shape == (200,) and bool(np.isclose(d[0], 328.78, atol=0.01))\nTrue",
         "hidden": false,
         "locked": false,
         "points": 0
        },
        {
         "code": ">>> get_hash(d, 4) == '0cabdd79004b2d945c1fbd12b7c714f8'\nTrue",
         "hidden": false,
         "locked": false,
         "points": 1
        }
       ],
       "scored": true,
       "setup": "",
       "teardown": "",
       "type": "doctest"
      }
     ]
    },
    "q2p3": {
     "name": "q2p3",
     "points": null,
     "suites": [
      {
       "cases": [
        {
         "code": ">>> bool(d_closest < 180 and d_closest > 160)\nTrue",
         "hidden": false,
         "locked": false,
         "points": 0
        },
        {
         "code": ">>> get_hash(d_closest, 4) == '433eefa36fe98ce9b67bb20b3d30e848'\nTrue",
         "hidden": false,
         "locked": false,
         "points": 1
        },
        {
         "code": ">>> get_hash(pos_closest, 4) == 'b13f7a1de29e245f09756a2ba6b272e0'\nTrue",
         "hidden": false,
         "locked": false,
         "points": 1
        }
       ],
       "scored": true,
       "setup": "",
       "teardown": "",
       "type": "doctest"
      }
     ]
    }
   }
  }
 },
 "nbformat": 4,
 "nbformat_minor": 2
}
