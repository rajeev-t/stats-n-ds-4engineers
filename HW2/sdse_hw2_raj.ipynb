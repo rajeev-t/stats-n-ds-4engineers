{
 "cells": [
  {
   "cell_type": "markdown",
   "metadata": {},
   "source": [
    "### SDSE Homework 2 — Raj Thimmareddy"
   ]
  },
  {
   "cell_type": "code",
   "execution_count": 9,
   "metadata": {},
   "outputs": [],
   "source": [
    "# Dependencies\n",
    "\n",
    "import numpy as np\n",
    "import sympy as sy\n",
    "import matplotlib.pyplot as plt"
   ]
  },
  {
   "cell_type": "code",
   "execution_count": 3,
   "metadata": {},
   "outputs": [],
   "source": [
    "# Define the objective function\n",
    "\n",
    "x1, x2 = sy.symbols('x1 x2')\n",
    "obj_eq = (x1**3 / 3) - (4*x1) + (x2**3 / 3) - (16*x2)"
   ]
  },
  {
   "cell_type": "code",
   "execution_count": 4,
   "metadata": {},
   "outputs": [],
   "source": [
    "# Obtain gradient of objective function\n",
    "\n",
    "df_x1 = sy.diff(obj_eq, x1)\n",
    "df_x2 = sy.diff(obj_eq, x2)"
   ]
  },
  {
   "cell_type": "code",
   "execution_count": 8,
   "metadata": {},
   "outputs": [
    {
     "name": "stdout",
     "output_type": "stream",
     "text": [
      "Stationary Points: [(-2, -4), (-2, 4), (2, -4), (2, 4)]\n"
     ]
    }
   ],
   "source": [
    "# Identify stationary points\n",
    "\n",
    "stat_pts = sy.solve((df_x1, df_x2), (x1, x2))\n",
    "print(\"Stationary Points:\", stat_pts)"
   ]
  },
  {
   "cell_type": "markdown",
   "metadata": {},
   "source": [
    "<span style=\"color:red\">\n",
    "    1.a. Pair of Stationary Points = [(-2, -4), (-2, 4), (2, -4), (2, 4)]\n",
    "</span>"
   ]
  },
  {
   "cell_type": "code",
   "execution_count": null,
   "metadata": {},
   "outputs": [],
   "source": [
    "# Calculating Hessians to classify Gradients\n",
    "\n",
    "d2f_x12 = sy.diff(df_x1, x1)\n",
    "d2f_x22 = sy.diff(df_x2, x2)\n",
    "d2f_x1x2 = sy.diff(df_x1, x2)\n",
    "\n",
    "# hessian = [[d2f_x22, d2f_x1x2], [d2f_x1x2, ]]"
   ]
  },
  {
   "cell_type": "code",
   "execution_count": null,
   "metadata": {},
   "outputs": [],
   "source": []
  }
 ],
 "metadata": {
  "kernelspec": {
   "display_name": "RajDS",
   "language": "python",
   "name": "python3"
  },
  "language_info": {
   "codemirror_mode": {
    "name": "ipython",
    "version": 3
   },
   "file_extension": ".py",
   "mimetype": "text/x-python",
   "name": "python",
   "nbconvert_exporter": "python",
   "pygments_lexer": "ipython3",
   "version": "3.12.8"
  }
 },
 "nbformat": 4,
 "nbformat_minor": 2
}
