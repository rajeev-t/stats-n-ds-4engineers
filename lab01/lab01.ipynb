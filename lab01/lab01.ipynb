{
 "cells": [
  {
   "cell_type": "code",
   "execution_count": 42,
   "metadata": {
    "deletable": false,
    "editable": false
   },
   "outputs": [],
   "source": [
    "# Initialize Otter\n",
    "import otter\n",
    "grader = otter.Notebook(\"lab01.ipynb\")"
   ]
  },
  {
   "cell_type": "markdown",
   "metadata": {},
   "source": [
    "---\n",
    "\n",
    "<h1><center>SDSE Lab 1<br><br> Randomness and Monte Carlo simulation</center></h1>\n",
    "\n",
    "---"
   ]
  },
  {
   "cell_type": "code",
   "execution_count": 43,
   "metadata": {
    "execution": {
     "iopub.execute_input": "2025-02-01T01:02:01.392425Z",
     "iopub.status.busy": "2025-02-01T01:02:01.392059Z",
     "iopub.status.idle": "2025-02-01T01:02:02.147564Z",
     "shell.execute_reply": "2025-02-01T01:02:02.147036Z"
    }
   },
   "outputs": [],
   "source": [
    "import numpy as np\n",
    "import matplotlib.pyplot as plt\n",
    "from resources.hashutils import *\n",
    "from scipy.integrate import solve_ivp\n",
    "import scipy.stats as stats"
   ]
  },
  {
   "cell_type": "markdown",
   "metadata": {},
   "source": [
    "# Question 1: Area and perimeter of pumpkin seeds\n",
    "\n",
    "Pumpkin seeds are a popular snack in many parts of the world. Two types of seeds that are grown in Turkey are called Ürgüp Sivrisi and Çerçevelik. We will refer to these respectively as types A and B. Researchers from Selcuk University have created a machine learning model to automatically classify type A and B seeds based on measurable attributes, such as their area, perimeter, major axis length, compactness, etc. [1]. Such a study begins with the arduous task of collecting and measuring a large number of seeds. In this lab activity we will load the data assembled by the researchers, compute its sample statistics (mean and standard deviations), and plot it in histograms.\n",
    "\n",
    "The image below is from [1] and shows the two seed types.\n",
    "\n",
    "<center><img src=\"resources/Core-type-of-pumpkin-seed-varieties.png\" width=500></center>\n",
    "\n",
    "[1] Koklu, Murat & Sarigil, Şeyma & Özbek, Osman. (2021). \"The use of machine learning methods in classification of pumpkin seeds (Cucurbita pepo L.)\". Genetic Resources and Crop Evolution. 68. 10.1007/s10722-021-01226-0. "
   ]
  },
  {
   "cell_type": "markdown",
   "metadata": {
    "deletable": false,
    "editable": false,
    "id": "m1IUkyzN9u7h"
   },
   "source": [
    "## Question 1.1: Load the dataset\n",
    "\n",
    "The data is contained in two separate files: `A.csv` for Ürgüp Sivrisi seeds, and `B.csv` for Çerçevelik seeds. Each of these files has two columns of comma-separated data. Each row represents a particular seed. The two columns are its measured \"major axis length\" (column 0) and  \"compactness\" (column 1). The definitions of these two quantities are not important for the purposes of this lab. \n",
    "\n",
    "+ Use [`np.loadtxt`](https://numpy.org/doc/stable/reference/generated/numpy.loadtxt.html) to load the two data files into two NumPy arrays `A` and `B`. \n",
    "+ Create these variables:\n",
    "    + `nA`: the number of seeds of type `A`. \n",
    "    + `major_axis_len_A`: column index 0 of `A`.\n",
    "    + `compactness_A`: column index 1 of `A`.\n",
    "    + `nB`: the number of seeds of type `B`.\n",
    "    + `major_axis_len_B`: column index 0 of `B`.\n",
    "    + `compactness_B`: column index 1 of `B`.\n",
    "\n",
    "**Hints**: \n",
    "+ Below are the first 5 rows of `A.txt`. Notice the use of commas. Use the `delimiter` keyword to inform `np.loadtxt` that the column separator is a comma.\n",
    "\n",
    "```text\n",
    "483.5875,0.6471\n",
    "629.723,0.6175\n",
    "508.1608,0.6533\n",
    "484.9191,0.6248\n",
    "509.7207,0.6518\n",
    "```"
   ]
  },
  {
   "cell_type": "code",
   "execution_count": 44,
   "metadata": {
    "execution": {
     "iopub.execute_input": "2025-02-01T01:02:02.149738Z",
     "iopub.status.busy": "2025-02-01T01:02:02.149511Z",
     "iopub.status.idle": "2025-02-01T01:02:02.156586Z",
     "shell.execute_reply": "2025-02-01T01:02:02.156050Z"
    },
    "tags": []
   },
   "outputs": [],
   "source": [
    "#  Ürgüp Sivrisi seeds\n",
    "A = np.loadtxt('A.csv', delimiter=',')\n",
    "nA = len(A)\n",
    "major_axis_len_A = A[:, 0]\n",
    "compactness_A = A[:, 1]\n",
    "\n",
    "# Çerçevelik seeds\n",
    "B = np.loadtxt('B.csv', delimiter=',')\n",
    "nB = len(B)\n",
    "major_axis_len_B = B[:, 0]\n",
    "compactness_B = B[:, 1]"
   ]
  },
  {
   "cell_type": "code",
   "execution_count": 45,
   "metadata": {
    "deletable": false,
    "editable": false
   },
   "outputs": [
    {
     "data": {
      "text/html": [
       "<p><strong><pre style='display: inline;'>q1p1</pre></strong> passed! 🌟</p>"
      ],
      "text/plain": [
       "q1p1 results: All test cases passed!"
      ]
     },
     "execution_count": 45,
     "metadata": {},
     "output_type": "execute_result"
    }
   ],
   "source": [
    "grader.check(\"q1p1\")"
   ]
  },
  {
   "cell_type": "markdown",
   "metadata": {
    "deletable": false,
    "editable": false
   },
   "source": [
    "## Question 1.2: Sample mean and sample standard deviation\n",
    "\n",
    "Recall from lecture the formulas for the sample mean $\\hat\\mu_x$ and sample standard deviation $\\hat{s}_x$ of a sample $\\{x_1,...,x_n\\}$:\n",
    "\\begin{align*}\n",
    "&\\hat{\\mu}_x = \\frac{1}{n}\\sum_{i=1}^{n} x_i \\\\ \n",
    "&\\hat{s}_x = \\sqrt{\\frac{1}{n-1}\\sum_{i=1}^{n} (x_i-\\hat{\\mu}_x)^2}\n",
    "\\end{align*} \n",
    "Compute these quantities for both the major axis length and the compactness of both seed types. Save these to the following variable names.\n",
    "\n",
    "| Variable | Description |\n",
    "| --- | --- |\n",
    "| `major_axis_len_A_mean` | mean of major axis length for type A seeds. |\n",
    "| `major_axis_len_A_std` | standard deviation of major axis length for type A seeds. |\n",
    "| `compactness_A_mean` | mean of compactness for type A seeds. |\n",
    "| `compactness_A_std` | standard deviation of compactness for type A seeds. |\n",
    "| `major_axis_len_B_mean` | mean of major axis length for type B seeds. |\n",
    "| `major_axis_len_B_std` | standard deviation of major axis length for type B seeds. |\n",
    "| `compactness_B_mean` | mean of compactness for type B seeds. |\n",
    "| `compactness_B_std`  | standard deviation of compactness for type B seeds. |\n",
    "\n",
    "\n",
    "**Hints**: \n",
    "+ [np.mean](https://numpy.org/doc/stable/reference/generated/numpy.mean.html)\n",
    "+ [np.std](https://numpy.org/doc/stable/reference/generated/numpy.std.html): Notice that the parameter `ddof` must be set to 1 to get the correct denominator ($n-1$). \n",
    "\n"
   ]
  },
  {
   "cell_type": "code",
   "execution_count": 46,
   "metadata": {
    "execution": {
     "iopub.execute_input": "2025-02-01T01:02:02.212675Z",
     "iopub.status.busy": "2025-02-01T01:02:02.212531Z",
     "iopub.status.idle": "2025-02-01T01:02:02.218448Z",
     "shell.execute_reply": "2025-02-01T01:02:02.217966Z"
    },
    "tags": []
   },
   "outputs": [],
   "source": [
    "major_axis_len_A_mean = np.mean(major_axis_len_A)\n",
    "major_axis_len_A_std = np.std(major_axis_len_A, ddof=1)\n",
    "compactness_A_mean = np.mean(compactness_A)\n",
    "compactness_A_std = np.std(compactness_A, ddof=1)\n",
    "major_axis_len_B_mean = np.mean(major_axis_len_B)\n",
    "major_axis_len_B_std = np.std(major_axis_len_B, ddof=1)\n",
    "compactness_B_mean = np.mean(compactness_B)\n",
    "compactness_B_std = np.std(compactness_B, ddof=1)"
   ]
  },
  {
   "cell_type": "code",
   "execution_count": 47,
   "metadata": {
    "deletable": false,
    "editable": false
   },
   "outputs": [
    {
     "data": {
      "text/html": [
       "<p><strong><pre style='display: inline;'>q1p2</pre></strong> passed! 🍀</p>"
      ],
      "text/plain": [
       "q1p2 results: All test cases passed!"
      ]
     },
     "execution_count": 47,
     "metadata": {},
     "output_type": "execute_result"
    }
   ],
   "source": [
    "grader.check(\"q1p2\")"
   ]
  },
  {
   "cell_type": "markdown",
   "metadata": {
    "deletable": false,
    "editable": false
   },
   "source": [
    "## Question 1.3: Histograms\n",
    "\n",
    "Create the pair of histograms shown below with the following characteristics:\n",
    "\n",
    "+ `figsize=(10,4)`.\n",
    "+ The figure has two subplots (`ncols=2`). Major axis length is on the left side, compactness is on the right side. \n",
    "+ Each subplot has two histograms: one for type A seeds (`color='dodgerblue'`), one for type B seeds (`color='crimson'`).\n",
    "+ The histograms are created with [`ax.hist`](https://matplotlib.org/stable/api/_as_gen/matplotlib.pyplot.hist.html) and setting the transparency to 0.5 (`alpha=0.5`).\n",
    "+ The vertical lines indicating the mean values are made with [`axvline`](https://matplotlib.org/stable/api/_as_gen/matplotlib.pyplot.axvline.html).\n",
    "+ Add the legend and x-axis labels.\n",
    "\n",
    "<center><img src=\"resources/hist.png\" width=750></center>"
   ]
  },
  {
   "cell_type": "code",
   "execution_count": 48,
   "metadata": {
    "execution": {
     "iopub.execute_input": "2025-02-01T01:02:02.242054Z",
     "iopub.status.busy": "2025-02-01T01:02:02.241741Z",
     "iopub.status.idle": "2025-02-01T01:02:02.571138Z",
     "shell.execute_reply": "2025-02-01T01:02:02.570662Z"
    },
    "tags": []
   },
   "outputs": [
    {
     "data": {
      "text/plain": [
       "<matplotlib.legend.Legend at 0x191788110>"
      ]
     },
     "execution_count": 48,
     "metadata": {},
     "output_type": "execute_result"
    },
    {
     "data": {
      "image/png": "[encoded data removed]",
      "text/plain": [
       "<Figure size 1300x500 with 2 Axes>"
      ]
     },
     "metadata": {},
     "output_type": "display_data"
    }
   ],
   "source": [
    "fig1, ax1 = plt.subplots(figsize=(13,5),ncols=2)\n",
    "\n",
    "# left hand side plot\n",
    "ax1[0].hist(major_axis_len_A, color='dodgerblue',alpha=0.5,label='type A')\n",
    "ax1[0].axvline(major_axis_len_A_mean,color='dodgerblue',linewidth=2)\n",
    "ax1[0].hist(major_axis_len_B, color='crimson',alpha=0.5,label='type B')\n",
    "ax1[0].axvline(major_axis_len_B_mean,color='crimson',linewidth=2)\n",
    "ax1[0].set_xlabel('Major axis length',fontsize=16)\n",
    "ax1[0].legend(fontsize=12)\n",
    "\n",
    "# repeat for the right-hand side plot\n",
    "ax1[1].hist(compactness_A, color='dodgerblue',alpha=0.5,label='type A')\n",
    "ax1[1].axvline(compactness_A_mean,color='dodgerblue',linewidth=2)\n",
    "ax1[1].hist(compactness_B, color='crimson',alpha=0.5,label='type B')\n",
    "ax1[1].axvline(compactness_B_mean,color='crimson',linewidth=2)\n",
    "ax1[1].set_xlabel('Compactness',fontsize=16)\n",
    "ax1[1].legend(fontsize=12) "
   ]
  },
  {
   "cell_type": "code",
   "execution_count": 49,
   "metadata": {
    "deletable": false,
    "editable": false
   },
   "outputs": [
    {
     "data": {
      "text/html": [
       "<p><strong><pre style='display: inline;'>q1p3</pre></strong> passed! 🙌</p>"
      ],
      "text/plain": [
       "q1p3 results: All test cases passed!"
      ]
     },
     "execution_count": 49,
     "metadata": {},
     "output_type": "execute_result"
    }
   ],
   "source": [
    "grader.check(\"q1p3\")"
   ]
  },
  {
   "cell_type": "markdown",
   "metadata": {},
   "source": [
    "# Question 2: Monte Carlo simulation of a free throw in basketball\n",
    "\n",
    "\n",
    "A [free throw](https://en.wikipedia.org/wiki/Free_throw) in basketball is a penalty shot awarded to a player who has been fouled. The player is allowed to throw the ball unopposed from behind the \"free throw\" line, which is about 14 horizontal feet from the basket. The goal is for the ball to go through the hoop (a.k.a. the basket), which is about 10 feet off the ground and 18 inches in diameter (see illustration below).\n",
    "\n",
    "<center><img src=\"resources/freethrow.png\" width=600></center>\n",
    "\n",
    "Free throws are difficult to make. Professional players typically have around a 75\\% success rate. Very good players may reach 90\\%. Stephen Curry of the Golden State Warriors' career average is 91\\%!\n",
    "\n",
    "In this activity we will use physics and Monte Carlo simulation to get a sense of how variations in the throw affect whether the free throw is successful. We will use a *very* simplified model which ignores many details, such as the rotation of the ball, the backboard, and the interaction of the ball with the rim of the hoop.\n",
    "\n",
    "**Dynamics of the ball in flight**\n",
    "\n",
    "Our model considers the ball as a particle traveling in a two dimensional plane, subject to two forces: weight and aerodynamic drag. A free body diagram is shown below. The weight is the product of the ball's mass $m=0.6\\;kg$ and the acceleration due to gravity $g=9.8\\;m/s^2$. The drag force $F_d$ is:\n",
    "\\begin{equation*}\n",
    "F_d = (1/2)\\rho A C v^2\n",
    "\\end{equation*}\n",
    "where $A$ is the cross-sectional area of the ball, $C$ is the drag coefficient, $\\rho$ is the density of the air, and $v$ is the speed of the ball.\n",
    "Values for these and other constants are defined in the next cell.\n",
    "\n",
    "<center><img src=\"resources/ball.png\" width=340></center>\n"
   ]
  },
  {
   "cell_type": "code",
   "execution_count": 50,
   "metadata": {
    "execution": {
     "iopub.execute_input": "2025-02-01T01:02:02.598351Z",
     "iopub.status.busy": "2025-02-01T01:02:02.598186Z",
     "iopub.status.idle": "2025-02-01T01:02:02.601467Z",
     "shell.execute_reply": "2025-02-01T01:02:02.601052Z"
    }
   },
   "outputs": [],
   "source": [
    "# geometry of the free throw\n",
    "ft2meter = 0.3048                   # feet to meters conversion factor\n",
    "basket_x = 14*ft2meter              # x component of the position of the basket [m]\n",
    "basket_y = 10*ft2meter              # y component of the position of the basket [m]\n",
    "basket_diameter = 18/12*ft2meter    # diameter of the hoop [m]\n",
    "\n",
    "# parameters of the drag force\n",
    "d = 0.25                # diameter of the ball [m]\n",
    "A = np.pi*(d**2)/4      # cross-sectional area of the ball [m^2]\n",
    "C = 0.001               # drag coefficient [-]\n",
    "rho = 1.2               # density of air [kg/m^3]\n",
    "\n",
    "# parameters of the weight force\n",
    "g = 9.8                 # gravitational acceleartion [m/s^2]\n",
    "m = 0.6                 # mass of the ball [kg]"
   ]
  },
  {
   "cell_type": "markdown",
   "metadata": {},
   "source": [
    "### State equation for the ball in flight\n",
    "\n",
    "The ball leaves the player's hand at time $t=0$. The *state* of the ball at any time consists of four numbers: its position in $xy$ coordinates $(p_x, p_y)$, and its velocity in $xy$ coordinates $(v_x,v_y)$. We arrange these into a state vector $z$:\n",
    "\\begin{equation*}\n",
    "z = (p_x,p_y,v_x,v_y)\n",
    "\\end{equation*}\n",
    "\n",
    "Applying the standard rules of particle mechanics we then obtain a system of four ODEs describing the motion of the ball:\n",
    "\\begin{align*}\n",
    "p'_x &= v_x \\\\\n",
    "p'_y &= v_y \\\\\n",
    "v'_x &= -K \\:v\\: v_x \\\\\n",
    "v'_y &= -K \\:v \\: v_y - g \n",
    "\\end{align*}\n",
    "Here $v$ is the velocity of the ball  and $K$ is a constant:\n",
    "\\begin{align*}\n",
    "&v = \\sqrt{v_x^2+v_y^2} \\\\ \n",
    "&K = \\frac{\\rho A C}{2m}\n",
    "\\end{align*}\n",
    "\n",
    "These formulas give a transformation from the state $z = (p_x,p_y,v_x,v_y)$ to its derivative $z' = (p'_x,p'_y,v'_x,v'_y)$. This transformation is implemented in the function `ball_flight_equation(t,z)` in the next cell. The function takes the current value of time `t` (not used) and the state `z`, and it returns the derivatives `pxprime, pyprime, vxprime, vyprime`."
   ]
  },
  {
   "cell_type": "code",
   "execution_count": 51,
   "metadata": {
    "execution": {
     "iopub.execute_input": "2025-02-01T01:02:02.603033Z",
     "iopub.status.busy": "2025-02-01T01:02:02.602876Z",
     "iopub.status.idle": "2025-02-01T01:02:02.606014Z",
     "shell.execute_reply": "2025-02-01T01:02:02.605533Z"
    }
   },
   "outputs": [],
   "source": [
    "def ball_flight_equation(t,z):\n",
    "\n",
    "    # unpack z into variables px, py, vx, vy\n",
    "    px, py, vx, vy = z\n",
    "\n",
    "    # define the velocity v in terms of vx and vy\n",
    "    v = np.sqrt( vx**2 + vy**2 )\n",
    "    \n",
    "    # define the constant K\n",
    "    K = rho*A*C/2/m\n",
    "\n",
    "    # state equation\n",
    "    pxprime = vx\n",
    "    pyprime = vy\n",
    "    vxprime = -K*v*vx\n",
    "    vyprime = -K*v*vy-g\n",
    "\n",
    "    # return the derivatives in the correct order\n",
    "    return pxprime, pyprime, vxprime, vyprime"
   ]
  },
  {
   "cell_type": "markdown",
   "metadata": {},
   "source": [
    "### Initial state of the ball\n",
    "\n",
    "The initial time ($t=0$) for the system of ODEs described above is the instant when the ball leaves the player's hand. That is the last moment at which the player can affect the trajectory of the ball. The initial state consists of the $xy$ coordinates of the initial position and velocity:\n",
    "\\begin{equation*}\n",
    "z(0) = (p_x(0),p_y(0),v_x(0),v_y(0))\n",
    "\\end{equation*}\n",
    "The initial velocities are computed from an initial angle $\\theta_0$ and speed $v_0$:\n",
    "\\begin{align*}\n",
    "v_x(0) &= v_0 \\cos(\\theta_0) \\\\\n",
    "v_y(0) &= v_0 \\sin(\\theta_0)\n",
    "\\end{align*}\n",
    "\n",
    "\n",
    "This computation is demonstrated in the next cell for an initial position $p_x(0)=0$ and $p_y(0)=6.5$ feet, an initial velocity of velocity $v_0=7.4\\:m/s$, and an initial angle of $\\theta_0=55^o$. These are packed into a tuple called `z_test_ic`, where `z_test_ic=(px0,py0,vx0,vy0)`.\n",
    "\n",
    "**Note:**\n",
    "+ All distances velocities are in SI units. The global constant `ft2meter` is used to convert distances from feet to meters. `np.deg2rad` is used to convert from degrees to radians."
   ]
  },
  {
   "cell_type": "code",
   "execution_count": 52,
   "metadata": {
    "execution": {
     "iopub.execute_input": "2025-02-01T01:02:02.607567Z",
     "iopub.status.busy": "2025-02-01T01:02:02.607403Z",
     "iopub.status.idle": "2025-02-01T01:02:02.610458Z",
     "shell.execute_reply": "2025-02-01T01:02:02.610067Z"
    }
   },
   "outputs": [],
   "source": [
    "px0 = 0\n",
    "py0 = 6.5*ft2meter\n",
    "theta0 = np.deg2rad(55)\n",
    "v0 = 7.4\n",
    "vx0 = v0*np.cos(theta0)\n",
    "vy0 = v0*np.sin(theta0)\n",
    "z_test_ic=(px0,py0,vx0,vy0)"
   ]
  },
  {
   "cell_type": "markdown",
   "metadata": {},
   "source": [
    "### Trajectory of the ball\n",
    "\n",
    "With the initial condition and state equations defined, we can now use an ODE solver to compute the trajectory of the ball. We will use SciPy's [`solve_ivp`](https://docs.scipy.org/doc/scipy/reference/generated/scipy.integrate.solve_ivp.html) for this. Note the following.\n",
    "\n",
    "+ The trajectory of the ball is computed over the time period from zero to 2 seconds. \n",
    "+ The `t_eval` argument of `solve_ivp` is used to evaluate the solution on a uniform grid with 100 intervals (i.e. `np.linspace(0,2,100)`).\n",
    "+ The return value of `solve_ivp`, which we've called `sol`, contains the state trajectory as `sol.y`. `sol.y` is a 2D NumPy array with shape `(4,100)` where 4 is the number of states `(px,py,vx,vy)` and 100 is the number of time steps. Hence, the trajectory of the x-position of the ball ($p_x$) is stored as `sol.y[0,:]`.\n",
    "+ We extract the trajectories of the individual states and keep them as 1D NumPy arrays `test_px`, `test_py`, `test_vx`, and `test_vy`."
   ]
  },
  {
   "cell_type": "code",
   "execution_count": 53,
   "metadata": {
    "execution": {
     "iopub.execute_input": "2025-02-01T01:02:02.612067Z",
     "iopub.status.busy": "2025-02-01T01:02:02.611903Z",
     "iopub.status.idle": "2025-02-01T01:02:02.616306Z",
     "shell.execute_reply": "2025-02-01T01:02:02.615870Z"
    }
   },
   "outputs": [],
   "source": [
    "tf = 2    # final time in seconds\n",
    "sol = solve_ivp( fun=ball_flight_equation,      # the state equation\n",
    "                 t_span=[0,tf],                 # initial and final time\n",
    "                 y0=z_test_ic,                  # initial state                 # Updated by me to use the ic var created instead of stating again\n",
    "                 t_eval=np.linspace(0,tf,100))  # evaluation instants\n",
    "\n",
    "# Extract individual state trajectories from `sol`\n",
    "test_px = sol.y[0,:]     # px trajectory\n",
    "test_py = sol.y[1,:]     # py trajectory\n",
    "test_vx = sol.y[2,:]     # vx trajectory\n",
    "test_vy = sol.y[3,:]     # vy trajectory"
   ]
  },
  {
   "cell_type": "markdown",
   "metadata": {},
   "source": [
    "### Plot\n",
    "The plot below shows the trajectory of the ball and the hoop. The trajectory in this case intersects with the hoop, and so we consider this as a successful free throw. Swish!"
   ]
  },
  {
   "cell_type": "code",
   "execution_count": 54,
   "metadata": {
    "execution": {
     "iopub.execute_input": "2025-02-01T01:02:02.618076Z",
     "iopub.status.busy": "2025-02-01T01:02:02.617654Z",
     "iopub.status.idle": "2025-02-01T01:02:02.706329Z",
     "shell.execute_reply": "2025-02-01T01:02:02.705855Z"
    }
   },
   "outputs": [
    {
     "data": {
      "text/plain": [
       "(0.0, 5.0)"
      ]
     },
     "execution_count": 54,
     "metadata": {},
     "output_type": "execute_result"
    },
    {
     "name": "stderr",
     "output_type": "stream",
     "text": [
      "Ignoring fixed y limits to fulfill fixed data aspect with adjustable data limits.\n"
     ]
    },
    {
     "data": {
      "image/png": "[encoded data removed]",
      "text/plain": [
       "<Figure size 400x400 with 1 Axes>"
      ]
     },
     "metadata": {},
     "output_type": "display_data"
    }
   ],
   "source": [
    "fig, ax = plt.subplots(figsize=(4,4))\n",
    "ax.plot(test_px,test_py,color='black')\n",
    "ax.plot([basket_x-basket_diameter/2,basket_x+basket_diameter/2],[basket_y,basket_y],color='m',linewidth=4)\n",
    "ax.axis('equal')\n",
    "ax.set_xlim(-1,5)\n",
    "ax.set_ylim(0,5)"
   ]
  },
  {
   "cell_type": "markdown",
   "metadata": {
    "deletable": false,
    "editable": false
   },
   "source": [
    "## Question 2.1: Score?\n",
    "\n",
    "A free throw is successful if the ball goes through the hoop. We will take a very simplified approach to determining this: we will consider the ball to have gone through the hoop if and only if its trajectory intersects with the interval of the rim.\n",
    "\n",
    "The figure below illustrates the calculation. The trajectory of the ball is the red line and the rim of the basket is the purple interval. $k$ is the last time step for which the height of the ball is greater than 10 feet. We must find the point $x^*$ where the ball intersects the horizontal and determine whether $x^*$ falls within the purple interval:\n",
    "\\begin{equation*}\n",
    "x^* \\stackrel{?}{\\in} \\Bigl[x_{\\text{basket}}- \\frac{d_{\\text{basket}}}{2},x_{\\text{basket}}+ \\frac{d_{\\text{basket}}}{2}\\Bigr]\n",
    "\\end{equation*}\n",
    "\n",
    "<center><img src=\"resources/success.jpg\" width=700></center>\n",
    "\n",
    "By similarity of the two triangles in the picture we have:\n",
    "\\begin{equation*}\n",
    "\\frac{p_y[k]-y_{\\text{basket}}}{x^*-p_x[k]} = \n",
    "\\frac{y_{\\text{basket}}-p_y[k\\!+\\!1]}{p_x[k\\!+\\!1]-x^*}\n",
    "\\end{equation*}\n",
    "\n",
    "From here we get a formula for $x^*$:\n",
    "\\begin{equation*}\n",
    "x^* = \\frac{p_x[k\\!+\\!1](p_y[k]-y_{\\text{basket}}) + p_x[k](y_{\\text{basket}}-p_y[k\\!+\\!1])}{p_y[k]-p_y[k\\!+\\!1]}\n",
    "\\end{equation*}\n",
    "Write a function called `success(px,py)` that carries out this computation and returns `True` if the free throw was successful and `False` otherwise. The input arguments `px` and `py` are the 1D NumPy arrays from part 2.3.\n",
    "\n",
    "**Hints:**\n",
    "+ Use [np.where](https://numpy.org/doc/stable/reference/generated/numpy.where.html) to find $k$. Note that this function returns a tuple, whose first element is the array of indexes that satisfy the condition. Hence you have to index the result twice: first to obtain the array of indexes, and second to obtain the last value in the array. \n",
    "+ `basket_x`, `basket_y`, and `basket_diameter` are global constants."
   ]
  },
  {
   "cell_type": "code",
   "execution_count": 55,
   "metadata": {
    "execution": {
     "iopub.execute_input": "2025-02-01T01:02:02.708421Z",
     "iopub.status.busy": "2025-02-01T01:02:02.708130Z",
     "iopub.status.idle": "2025-02-01T01:02:02.713355Z",
     "shell.execute_reply": "2025-02-01T01:02:02.712919Z"
    },
    "tags": []
   },
   "outputs": [],
   "source": [
    "def success(px,py):\n",
    "\n",
    "    # Find k, the index of the last point in the trajectory where the ball is above the rim.\n",
    "    indices_above_hoop = np.where(py > basket_y)\n",
    "    k = indices_above_hoop[0][-1]\n",
    "\n",
    "    # compute xstar\n",
    "    xstar = ((px[k + 1] * (py[k] - basket_y)) + (px[k] * (basket_y - py[k+1]))) / (py[k] - py[k+1])\n",
    "\n",
    "    # success if and only if xstar is in the interval\n",
    "    success = True if xstar >= (basket_x - (basket_diameter/2)) and xstar <= (basket_x + (basket_diameter/2)) else False\n",
    "\n",
    "    return success"
   ]
  },
  {
   "cell_type": "code",
   "execution_count": 56,
   "metadata": {
    "execution": {
     "iopub.execute_input": "2025-02-01T01:02:02.714887Z",
     "iopub.status.busy": "2025-02-01T01:02:02.714728Z",
     "iopub.status.idle": "2025-02-01T01:02:02.718403Z",
     "shell.execute_reply": "2025-02-01T01:02:02.717896Z"
    },
    "tags": []
   },
   "outputs": [
    {
     "data": {
      "text/plain": [
       "True"
      ]
     },
     "execution_count": 56,
     "metadata": {},
     "output_type": "execute_result"
    }
   ],
   "source": [
    "# Check your code\n",
    "\n",
    "# This should return True:\n",
    "success(test_px,test_py)"
   ]
  },
  {
   "cell_type": "code",
   "execution_count": 57,
   "metadata": {
    "deletable": false,
    "editable": false
   },
   "outputs": [
    {
     "data": {
      "text/html": [
       "<p><strong><pre style='display: inline;'>q2p1</pre></strong> passed! 🙌</p>"
      ],
      "text/plain": [
       "q2p1 results: All test cases passed!"
      ]
     },
     "execution_count": 57,
     "metadata": {},
     "output_type": "execute_result"
    }
   ],
   "source": [
    "grader.check(\"q2p1\")"
   ]
  },
  {
   "cell_type": "markdown",
   "metadata": {
    "deletable": false,
    "editable": false
   },
   "source": [
    "## Question 2.2: Input samples\n",
    "\n",
    "Now that we can generate a trajectory for a given initial condition, and evaluate whether the ball goes in the hoop, our next task is to create a \"cloud\" of initial conditions $(z^0_0,z^1_0,...,z^{N}_0)$ with which to perform Monte Carlo simulation. Each initial condition $z^i_0$ consists of randomly chosen values of $(p_{x0},p_{y0},v_{x0},v_{y0})$. However, again, instead of choosing $v_{x0}$ and $v_{y0}$ directly, we will compute them from a randomly chosen speed $v_0$ and angle $\\theta_0$. \n",
    "\n",
    "Create four 1D NumPy arrays, each with length $N=150$, and containing randomly sampled values of $p_{x0}$, $p_{y0}$, $\\theta_0$, and $v_0$ respectively. The parameters for the four sampling distributions are:\n",
    "\n",
    "| Quantity | Array variable | Distribution | Mean | Standard deviation |\n",
    "| --- | --- | --- | --- |--- | \n",
    "| $p_{x0}$ | `px0_arr` | Normal | 0 m |  3 cm | \n",
    "| $p_{y0}$ | `py0_arr` | Normal | 6.5 feet | 2 cm | \n",
    "| $\\theta_0$| `theta0_arr` | Normal | $55^o$ |  0.03 radians | \n",
    "|$v_0$ | `v0_arr` | Normal | $7.4\\:m/s$ | $0.1\\:m/s$ | \n",
    "\n",
    "**Note**\n",
    "+ Autograding with random numbers is delicate. It is important that the random number generator be initialized in every execution with the same seed. Please do not modify the `random_state` values passed to the `rvs` methods in the cell below. Here they are recorded in case you change them by accident: \n",
    "\n",
    "| variable | `random_state` |\n",
    "| --- |--- | \n",
    "| `px0_arr` | 94582 |\n",
    "| `py0_arr` | 98595 |\n",
    "| `theta0_arr`| 23134 |\n",
    "| `v0_arr` | 453456 |"
   ]
  },
  {
   "cell_type": "code",
   "execution_count": 58,
   "metadata": {
    "execution": {
     "iopub.execute_input": "2025-02-01T01:02:02.736305Z",
     "iopub.status.busy": "2025-02-01T01:02:02.736141Z",
     "iopub.status.idle": "2025-02-01T01:02:02.743781Z",
     "shell.execute_reply": "2025-02-01T01:02:02.743241Z"
    },
    "tags": []
   },
   "outputs": [],
   "source": [
    "N = 150\n",
    "px0_arr    = stats.norm(loc=0, scale=0.03).rvs(size=N, random_state=94582)\n",
    "py0_arr    = stats.norm(loc=6.5*ft2meter, scale=0.02).rvs(size=N, random_state=98595)\n",
    "theta0_arr = stats.norm(loc=np.deg2rad(55), scale=0.03).rvs(size=N, random_state=23134)\n",
    "v0_arr     = stats.norm(loc=7.4, scale=0.1).rvs(size=N, random_state=453456)"
   ]
  },
  {
   "cell_type": "code",
   "execution_count": 59,
   "metadata": {
    "deletable": false,
    "editable": false
   },
   "outputs": [
    {
     "data": {
      "text/html": [
       "<p><strong><pre style='display: inline;'>q2p2</pre></strong> passed! 🎉</p>"
      ],
      "text/plain": [
       "q2p2 results: All test cases passed!"
      ]
     },
     "execution_count": 59,
     "metadata": {},
     "output_type": "execute_result"
    }
   ],
   "source": [
    "grader.check(\"q2p2\")"
   ]
  },
  {
   "cell_type": "markdown",
   "metadata": {
    "deletable": false,
    "editable": false
   },
   "source": [
    "## Question 2.3: Monte Carlo simulation\n",
    "\n",
    "Run a simulation for each of the 150 randomly sampled initial conditions. \n",
    "\n",
    "+ Each of the simulations is similar to the one from the example: simulation time `tf` is 2 seconds, and the trajectory should be evaluated on a grid with $K=100$ points. \n",
    "+ Evaluate `success(px,py)` on each of the 150 trajectories and store the results in a 1D NumPy array called `successes`.\n",
    "+ Store the position values $p_x$ and $p_y$ of the simulated trajectories in a 3D NumPy array with shape (100,2,150) called `traj`. That is, the `px` array for the $i$'th run is stored as `traj[:,0,i]` and the corresponding `py` is stored as `traj[:,1,i]`"
   ]
  },
  {
   "cell_type": "code",
   "execution_count": 60,
   "metadata": {
    "execution": {
     "iopub.execute_input": "2025-02-01T01:02:02.777539Z",
     "iopub.status.busy": "2025-02-01T01:02:02.777379Z",
     "iopub.status.idle": "2025-02-01T01:02:02.949506Z",
     "shell.execute_reply": "2025-02-01T01:02:02.948955Z"
    },
    "tags": []
   },
   "outputs": [],
   "source": [
    "tf = 2     # seconds\n",
    "K = 100    # time steps\n",
    "t_eval = np.linspace(0, tf, K)  # evaluation grid\n",
    "\n",
    "N = 150    # number of random initial conditions\n",
    " \n",
    "successes = np.empty(150,dtype=bool)    # array of succes/no-success values\n",
    "traj = np.empty((100,2,150))              # array to store px and py trajectories\n",
    "\n",
    "# iterate through all initial conditions\n",
    "for i in range(N):\n",
    "\n",
    "    # initial condition\n",
    "    px0 = px0_arr[i]\n",
    "    py0 = py0_arr[i]\n",
    "    theta0 = theta0_arr[i]\n",
    "    v0 = v0_arr[i]\n",
    "\n",
    "    # compute initial vx and vy\n",
    "    vx0 = v0*np.cos(theta0)\n",
    "    vy0 = v0*np.sin(theta0)\n",
    "\n",
    "    # call solve_ivp\n",
    "    sol = solve_ivp( fun=ball_flight_equation,       # the state equation\n",
    "                     t_span=[0, tf],    # initial and final time\n",
    "                     y0=(px0, py0, vx0, vy0),        # initial state\n",
    "                     t_eval=t_eval)    # evaluation instants\n",
    "\n",
    "    # Extract px and py from sol\n",
    "    px = sol.y[0, :]\n",
    "    py = sol.y[1, :]\n",
    "\n",
    "    # Store px and py in traj\n",
    "    traj[:, 0, i] = px; traj[:, 1, i] = py\n",
    "\n",
    "    # Evaluate success\n",
    "    indices_above_hoop = np.where(py > basket_y)\n",
    "    k = indices_above_hoop[0][-1]\n",
    "    xstar = ((px[k + 1] * (py[k] - basket_y)) + (px[k] * (basket_y - py[k+1]))) / (py[k] - py[k+1])\n",
    "    successes[i] = True if xstar >= (basket_x - (basket_diameter/2)) and xstar <= (basket_x + (basket_diameter/2)) else False"
   ]
  },
  {
   "cell_type": "code",
   "execution_count": 61,
   "metadata": {
    "execution": {
     "iopub.execute_input": "2025-02-01T01:02:02.952512Z",
     "iopub.status.busy": "2025-02-01T01:02:02.951871Z",
     "iopub.status.idle": "2025-02-01T01:02:03.185245Z",
     "shell.execute_reply": "2025-02-01T01:02:03.184770Z"
    },
    "tags": []
   },
   "outputs": [
    {
     "data": {
      "text/plain": [
       "(0.0, 5.0)"
      ]
     },
     "execution_count": 61,
     "metadata": {},
     "output_type": "execute_result"
    },
    {
     "name": "stderr",
     "output_type": "stream",
     "text": [
      "Ignoring fixed x limits to fulfill fixed data aspect with adjustable data limits.\n"
     ]
    },
    {
     "data": {
      "image/png": "[encoded data removed]",
      "text/plain": [
       "<Figure size 640x480 with 1 Axes>"
      ]
     },
     "metadata": {},
     "output_type": "display_data"
    }
   ],
   "source": [
    "fig2, ax2 = plt.subplots()\n",
    "\n",
    "for i in range(N):\n",
    "    px = traj[:,0,i]\n",
    "    py = traj[:,1,i]\n",
    "    ax2.plot(px,py,'k',linewidth=0.5,alpha=0.4)\n",
    "\n",
    "ax2.plot([basket_x-basket_diameter/2,basket_x+basket_diameter/2],[basket_y,basket_y],color='m',linewidth=4)\n",
    "ax2.set_title(f'Monte Carlo estimate of free throw percentage')\n",
    "ax2.text(5.7,4.3,f'mean(successes) = {np.mean(successes):.2f}\\nstd(successes) = {np.std(successes):.2f}',fontsize=12,horizontalalignment='right')\n",
    "ax2.axis('equal')\n",
    "ax2.set_xlim(0,5)\n",
    "ax2.set_ylim(0,5)"
   ]
  },
  {
   "cell_type": "code",
   "execution_count": 62,
   "metadata": {
    "deletable": false,
    "editable": false
   },
   "outputs": [
    {
     "data": {
      "text/html": [
       "<p><strong><pre style='display: inline;'>q2p3</pre></strong> passed! 💯</p>"
      ],
      "text/plain": [
       "q2p3 results: All test cases passed!"
      ]
     },
     "execution_count": 62,
     "metadata": {},
     "output_type": "execute_result"
    }
   ],
   "source": [
    "grader.check(\"q2p3\")"
   ]
  },
  {
   "cell_type": "markdown",
   "metadata": {
    "deletable": false,
    "editable": false
   },
   "source": [
    "---\n",
    "\n",
    "To double-check your work, the cell below will rerun all of the autograder tests."
   ]
  },
  {
   "cell_type": "code",
   "execution_count": 63,
   "metadata": {
    "deletable": false,
    "editable": false
   },
   "outputs": [
    {
     "data": {
      "text/plain": [
       "q1p1 results: All test cases passed!\n",
       "\n",
       "q1p2 results: All test cases passed!\n",
       "\n",
       "q1p3 results: All test cases passed!\n",
       "\n",
       "q2p1 results: All test cases passed!\n",
       "\n",
       "q2p2 results: All test cases passed!\n",
       "\n",
       "q2p3 results: All test cases passed!"
      ]
     },
     "execution_count": 63,
     "metadata": {},
     "output_type": "execute_result"
    }
   ],
   "source": [
    "grader.check_all()"
   ]
  },
  {
   "cell_type": "markdown",
   "metadata": {
    "deletable": false,
    "editable": false
   },
   "source": [
    "## Submission\n",
    "\n",
    "Make sure you have run all cells in your notebook in order before running the cell below, so that all images/graphs appear in the output. The cell below will generate a zip file for you to submit. **Please save before exporting!**\n",
    "\n",
    "Make sure you submit the .zip file to Gradescope."
   ]
  },
  {
   "cell_type": "code",
   "execution_count": 64,
   "metadata": {
    "deletable": false,
    "editable": false
   },
   "outputs": [
    {
     "data": {
      "text/html": [
       "\n",
       "                    <p>\n",
       "                        Your submission has been exported. Click\n",
       "                        <a href=\"lab01_2025_02_18T19_52_13_105523.zip\" download=\"lab01_2025_02_18T19_52_13_105523.zip\" target=\"_blank\">here</a> to download\n",
       "                        the zip file.\n",
       "                    </p>\n",
       "                "
      ],
      "text/plain": [
       "<IPython.core.display.HTML object>"
      ]
     },
     "metadata": {},
     "output_type": "display_data"
    }
   ],
   "source": [
    "# Save your notebook first, then run this cell to export your submission.\n",
    "grader.export(pdf=False)"
   ]
  },
  {
   "cell_type": "markdown",
   "metadata": {},
   "source": [
    " "
   ]
  }
 ],
 "metadata": {
  "anaconda-cloud": {},
  "colab": {
   "provenance": []
  },
  "kernelspec": {
   "display_name": "RajDS",
   "language": "python",
   "name": "python3"
  },
  "language_info": {
   "codemirror_mode": {
    "name": "ipython",
    "version": 3
   },
   "file_extension": ".py",
   "mimetype": "text/x-python",
   "name": "python",
   "nbconvert_exporter": "python",
   "pygments_lexer": "ipython3",
   "version": "3.12.8"
  },
  "otter": {
   "OK_FORMAT": true,
   "assignment_name": "lab01",
   "tests": {
    "q1p1": {
     "name": "q1p1",
     "points": null,
     "suites": [
      {
       "cases": [
        {
         "code": ">>> nA > 1000 and nB > nA\nTrue",
         "hidden": false,
         "locked": false,
         "points": 0
        },
        {
         "code": ">>> major_axis_len_A.shape == compactness_A.shape == (nA,) and major_axis_len_B.shape == compactness_B.shape == (nB,)\nTrue",
         "hidden": false,
         "locked": false,
         "points": 0
        },
        {
         "code": ">>> get_hash(nA, 2) == '6f8f8c09f1d61e8f6c583841bf13d5ac' and get_hash(major_axis_len_A, 4) == '145b1da2811eb3d8d5685a6612ce1842' and (get_hash(compactness_A, 4) == '1ccf9ab61d8355094cd3e2e8af19fc17')\nTrue",
         "hidden": false,
         "locked": false,
         "points": 1
        },
        {
         "code": ">>> get_hash(nB, 2) == '88f66f54558346f0b807cda7e2d44429' and get_hash(major_axis_len_B, 4) == 'a919219c2d7988635c9a50c2925b69ad' and (get_hash(compactness_B, 4) == '22f4c24079bfc095ec9293d7afc49b2e')\nTrue",
         "hidden": false,
         "locked": false,
         "points": 1
        }
       ],
       "scored": true,
       "setup": "",
       "teardown": "",
       "type": "doctest"
      }
     ]
    },
    "q1p2": {
     "name": "q1p2",
     "points": null,
     "suites": [
      {
       "cases": [
        {
         "code": ">>> get_hash(major_axis_len_A_mean, 4) == '4712a16e30aea2f1ed23762240ce6f85' and get_hash(compactness_A_mean, 4) == '185d2cefe1eec54c5a3fdf252fc33bc4'\nTrue",
         "hidden": false,
         "locked": false,
         "points": 0.5
        },
        {
         "code": ">>> get_hash(major_axis_len_B_mean, 4) == '540b899faeb877b54a9ef0dee7f78fe3' and get_hash(compactness_B_mean, 4) == '045ecbcc402c41bc16b91684165e27a5'\nTrue",
         "hidden": false,
         "locked": false,
         "points": 0.5
        },
        {
         "code": ">>> get_hash(major_axis_len_A_std, 4) == 'e36deba8d7c9a02dc6cf49d9671728a5' and get_hash(compactness_A_std, 4) == '4b80de29c9e941d628cf5f9d8e112875'\nTrue",
         "hidden": false,
         "locked": false,
         "points": 0.5
        },
        {
         "code": ">>> get_hash(major_axis_len_B_std, 4) == '73f9e972d62f6d85e4d51630e8030f96' and get_hash(compactness_B_std, 4) == 'fe6c3926c2ad3b64ad2432ad3edc50e8'\nTrue",
         "hidden": false,
         "locked": false,
         "points": 0.5
        }
       ],
       "scored": true,
       "setup": "",
       "teardown": "",
       "type": "doctest"
      }
     ]
    },
    "q1p3": {
     "name": "q1p3",
     "points": null,
     "suites": [
      {
       "cases": [
        {
         "code": ">>> bins0 = np.array([r.xy[0] for r in ax1[0].containers[0].get_children()])\n>>> bins1 = np.array([r.xy[0] for r in ax1[0].containers[1].get_children()])\n>>> Abins = np.array([324.0113, 357.8013, 391.5913, 425.3813, 459.1713, 492.9613, 526.7513, 560.5413, 594.3313, 628.1213])\n>>> Bbins = np.array([320.8446, 350.24973, 379.65486, 409.05999, 438.46512, 467.87025, 497.27538, 526.68051, 556.08564, 585.49077])\n>>> bool(np.all(np.isclose(Abins, bins0, atol=0.001)) and np.all(np.isclose(Bbins, bins1, atol=0.001)) or (np.all(np.isclose(Abins, bins1, atol=0.001)) and np.all(np.isclose(Bbins, bins0, atol=0.001))))\nTrue",
         "hidden": false,
         "locked": false,
         "points": 0.5
        },
        {
         "code": ">>> bins0 = np.array([r.xy[0] for r in ax1[1].containers[0].get_children()])\n>>> bins1 = np.array([r.xy[0] for r in ax1[1].containers[1].get_children()])\n>>> Abins = np.array([0.5608, 0.58574, 0.61068, 0.63562, 0.66056, 0.6855, 0.71044, 0.73538, 0.76032, 0.78526])\n>>> Bbins = np.array([0.5884, 0.62005, 0.6517, 0.68335, 0.715, 0.74665, 0.7783, 0.80995, 0.8416, 0.87325])\n>>> bool(np.all(np.isclose(Abins, bins0, atol=0.001)) and np.all(np.isclose(Bbins, bins1, atol=0.001)) or (np.all(np.isclose(Abins, bins1, atol=0.001)) and np.all(np.isclose(Bbins, bins0, atol=0.001))))\nTrue",
         "hidden": false,
         "locked": false,
         "points": 0.5
        },
        {
         "code": ">>> bool(np.all(np.isclose(np.sort([line.get_xdata()[0] for line in ax1[0].get_lines()]), [426.272615, 489.45850075], atol=0.001)))\nTrue",
         "hidden": false,
         "locked": false,
         "points": 0.5
        },
        {
         "code": ">>> bool(np.all(np.isclose(np.sort([line.get_xdata()[0] for line in ax1[1].get_lines()]), [0.6639915, 0.74116269], atol=0.001)))\nTrue",
         "hidden": false,
         "locked": false,
         "points": 0.5
        }
       ],
       "scored": true,
       "setup": "",
       "teardown": "",
       "type": "doctest"
      }
     ]
    },
    "q2p1": {
     "name": "q2p1",
     "points": null,
     "suites": [
      {
       "cases": [
        {
         "code": ">>> xval = np.linspace(0, 8, 100)\n>>> yval = basket_y + basket_x - xval\n>>> bool(success(xval, yval))\nTrue",
         "hidden": false,
         "locked": false,
         "points": 0
        },
        {
         "code": ">>> xval = np.linspace(0, 8, 100)\n>>> yval = basket_y + basket_x - xval - 1\n>>> not success(xval, yval)\nTrue",
         "hidden": false,
         "locked": false,
         "points": 0
        },
        {
         "code": ">>> xval = np.linspace(0, 8, 100)\n>>> yval = basket_y + basket_x - xval\n>>> get_hash([success(xval, yval - z) for z in np.linspace(-1, 1)], 1) == '342dba40e75996f4fc6d0e464143c9b9'\nTrue",
         "hidden": false,
         "locked": false,
         "points": 3
        }
       ],
       "scored": true,
       "setup": "",
       "teardown": "",
       "type": "doctest"
      }
     ]
    },
    "q2p2": {
     "name": "q2p2",
     "points": null,
     "suites": [
      {
       "cases": [
        {
         "code": ">>> px0_arr.shape == py0_arr.shape == theta0_arr.shape == v0_arr.shape == (150,)\nTrue",
         "hidden": false,
         "locked": false,
         "points": 0
        },
        {
         "code": ">>> bool(np.all(np.isclose([px0_arr[0], py0_arr[0], theta0_arr[0], v0_arr[0]], [0.01471607, 2.00465, 0.98408, 7.54194], rtol=0.001)))\nTrue",
         "hidden": false,
         "locked": false,
         "points": 0
        },
        {
         "code": ">>> get_hash(px0_arr, 4) == 'f9aaf0f60dd3c21632fc5b416c8b2ac2'\nTrue",
         "hidden": false,
         "locked": false,
         "points": 0.5
        },
        {
         "code": ">>> get_hash(py0_arr, 4) == '733356103903c9f2033bff356b03b737'\nTrue",
         "hidden": false,
         "locked": false,
         "points": 0.5
        },
        {
         "code": ">>> get_hash(theta0_arr, 4) == 'a05c863db92cdd087f1b0e057dec8b6c'\nTrue",
         "hidden": false,
         "locked": false,
         "points": 0.5
        },
        {
         "code": ">>> get_hash(v0_arr, 4) == '5ab793e43bec987b0f380f7cf70e6c7b'\nTrue",
         "hidden": false,
         "locked": false,
         "points": 0.5
        }
       ],
       "scored": true,
       "setup": "",
       "teardown": "",
       "type": "doctest"
      }
     ]
    },
    "q2p3": {
     "name": "q2p3",
     "points": null,
     "suites": [
      {
       "cases": [
        {
         "code": ">>> t_eval.shape == (100,) and successes.shape == (150,) and (traj.shape == (100, 2, 150))\nTrue",
         "hidden": false,
         "locked": false,
         "points": 0
        },
        {
         "code": ">>> get_hash(t_eval, 3) == 'a4f430c9e0fd0e7c62a4901138ed6ab3'\nTrue",
         "hidden": false,
         "locked": false,
         "points": 1
        },
        {
         "code": ">>> get_hash(successes, 1) == 'bb554de153997fe9c7d9ad3e4ae4f2d3'\nTrue",
         "hidden": false,
         "locked": false,
         "points": 1.5
        },
        {
         "code": ">>> get_hash(traj[:5, :, :5], 4) == 'dbe82d82f744b00166dd4a376c800478'\nTrue",
         "hidden": false,
         "locked": false,
         "points": 1.5
        }
       ],
       "scored": true,
       "setup": "",
       "teardown": "",
       "type": "doctest"
      }
     ]
    }
   }
  }
 },
 "nbformat": 4,
 "nbformat_minor": 4
}
