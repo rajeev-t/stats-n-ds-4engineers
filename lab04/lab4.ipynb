{
 "cells": [
  {
   "cell_type": "code",
   "execution_count": 314,
   "metadata": {
    "deletable": false,
    "editable": false
   },
   "outputs": [],
   "source": [
    "# Initialize Otter\n",
    "import otter\n",
    "grader = otter.Notebook(\"lab4.ipynb\")"
   ]
  },
  {
   "cell_type": "markdown",
   "metadata": {},
   "source": [
    "---\n",
    "\n",
    "<h1><center>SDSE Lab 4 <br><br> Linear regression and Feature selection </center></h1>\n",
    "\n",
    "---\n",
    "\n",
    "In this lab we will use linear regression to predict cancer mortality rates based on data obtained from the American Community Survey of the [U.S. Census Bureau](https://www.census.gov/). The lab has four parts. In part 1 you will load the data and do basic manipulations using [pandas](https://pandas.pydata.org/docs/index.html). Pandas is a Python package that specializes in tabular data. It is widely used in data science and machine learning since the data in these fields are usually structured as a table. Pandas is a very powerful library that is well worth investing some time in. [Here](https://pandas.pydata.org/docs/getting_started/index.html#getting-started) and [here](https://pandas.pydata.org/docs/user_guide/index.html) are resources to learn more.\n",
    "\n",
    "In part 2 you will perform linear regression on the full feature set. In part 3 you will compute confidence intervals on the paramters from part 2. Finally, in part 4 you will run the forward and backward stepwise feature selection algorithms and estimate the performance of the resulting model using a test dataset."
   ]
  },
  {
   "cell_type": "code",
   "execution_count": 315,
   "metadata": {
    "execution": {
     "iopub.execute_input": "2025-03-17T23:12:33.183099Z",
     "iopub.status.busy": "2025-03-17T23:12:33.182542Z",
     "iopub.status.idle": "2025-03-17T23:12:33.882239Z",
     "shell.execute_reply": "2025-03-17T23:12:33.881639Z"
    }
   },
   "outputs": [],
   "source": [
    "import numpy as np\n",
    "import matplotlib.pyplot as plt\n",
    "import pandas as pd\n",
    "import scipy.stats as stats\n",
    "from resources.hashutils import *"
   ]
  },
  {
   "cell_type": "markdown",
   "metadata": {},
   "source": [
    "# Part 1:  Loading and cleaning the data"
   ]
  },
  {
   "cell_type": "markdown",
   "metadata": {
    "deletable": false,
    "editable": false
   },
   "source": [
    "## 1.1 Load the data into a pandas DataFrame\n",
    "\n",
    "Use [pd.read_csv](https://pandas.pydata.org/docs/reference/api/pandas.read_csv.html) to load the data from `cancerdata.csv`.\n",
    "\n",
    "You can obtain information about the data using these DataFrame methods and attributes:\n",
    "+ [`data0.head()`](https://pandas.pydata.org/docs/reference/api/pandas.DataFrame.head.html): displays the first 5 rows of the DataFrame.\n",
    "+ [`data0.tail()`](https://pandas.pydata.org/docs/reference/api/pandas.DataFrame.tail.html): displays the last 5 rows of the DataFrame.\n",
    "+ [`data0.shape`](https://pandas.pydata.org/docs/reference/api/pandas.DataFrame.shape.html): a tuple with the number of rows and of columns in the DataFrame.\n",
    "+ [`data0.columns`](https://pandas.pydata.org/docs/reference/api/pandas.DataFrame.columns.html): the column headers.\n",
    "+ [`data0.index`](https://pandas.pydata.org/docs/reference/api/pandas.DataFrame.index.html): a unique identifier for each row."
   ]
  },
  {
   "cell_type": "code",
   "execution_count": 316,
   "metadata": {
    "execution": {
     "iopub.execute_input": "2025-03-17T23:12:33.884305Z",
     "iopub.status.busy": "2025-03-17T23:12:33.883929Z",
     "iopub.status.idle": "2025-03-17T23:12:33.895557Z",
     "shell.execute_reply": "2025-03-17T23:12:33.895270Z"
    },
    "tags": [
     "otter_answer_cell"
    ]
   },
   "outputs": [],
   "source": [
    "data0 = pd.read_csv('cancerdata.csv')"
   ]
  },
  {
   "cell_type": "markdown",
   "metadata": {
    "deletable": false,
    "editable": false
   },
   "source": [
    "## 1.2 Inspect columns\n",
    "\n",
    "Run `data0.info()` and note:\n",
    " a) which inputs are non-numerical (Dtype=object), and\n",
    " b) which inputs have null entries (Non-Null Count<3047).\n",
    "\n",
    "Store the names ('Column' entry) of the non-numerical inputs in a [set](https://www.w3schools.com/python/python_sets.asp) called `non_numerical_inputs`. Store the names of inputs with null entries in a set called `null_entry_inputs`.\n",
    "\n",
    "**Note**: If not all of the rows of `data0.info()` are displayed, you'll probably have this message at the bottom:\n",
    "\n",
    "*``Output is truncated. View as a scrollable element or open in a text editor. Adjust cell output settings...''*"
   ]
  },
  {
   "cell_type": "code",
   "execution_count": 317,
   "metadata": {
    "execution": {
     "iopub.execute_input": "2025-03-17T23:12:33.919045Z",
     "iopub.status.busy": "2025-03-17T23:12:33.918894Z",
     "iopub.status.idle": "2025-03-17T23:12:33.925724Z",
     "shell.execute_reply": "2025-03-17T23:12:33.925355Z"
    },
    "tags": [
     "otter_answer_cell"
    ]
   },
   "outputs": [
    {
     "name": "stdout",
     "output_type": "stream",
     "text": [
      "<class 'pandas.core.frame.DataFrame'>\n",
      "RangeIndex: 3047 entries, 0 to 3046\n",
      "Data columns (total 28 columns):\n",
      " #   Column                   Non-Null Count  Dtype  \n",
      "---  ------                   --------------  -----  \n",
      " 0   target_deathrate         3047 non-null   float64\n",
      " 1   incidencerate            3047 non-null   float64\n",
      " 2   medincome                3047 non-null   int64  \n",
      " 3   povertypercent           3047 non-null   float64\n",
      " 4   binnedinc                3047 non-null   object \n",
      " 5   medianage                3047 non-null   float64\n",
      " 6   geography                3047 non-null   object \n",
      " 7   avghouseholdsize         3047 non-null   float64\n",
      " 8   percentmarried           3047 non-null   float64\n",
      " 9   pctnohs18_24             3047 non-null   float64\n",
      " 10  pcths18_24               3047 non-null   float64\n",
      " 11  pctsomecol18_24          762 non-null    float64\n",
      " 12  pctbachdeg18_24          3047 non-null   float64\n",
      " 13  pcths25_over             3047 non-null   float64\n",
      " 14  pctbachdeg25_over        3047 non-null   float64\n",
      " 15  pctemployed16_over       2895 non-null   float64\n",
      " 16  pctunemployed16_over     3047 non-null   float64\n",
      " 17  pctprivatecoverage       3047 non-null   float64\n",
      " 18  pctprivatecoveragealone  2438 non-null   float64\n",
      " 19  pctempprivcoverage       3047 non-null   float64\n",
      " 20  pctpubliccoverage        3047 non-null   float64\n",
      " 21  pctpubliccoveragealone   3047 non-null   float64\n",
      " 22  pctwhite                 3047 non-null   float64\n",
      " 23  pctblack                 3047 non-null   float64\n",
      " 24  pctasian                 3047 non-null   float64\n",
      " 25  pctotherrace             3047 non-null   float64\n",
      " 26  pctmarriedhouseholds     3047 non-null   float64\n",
      " 27  birthrate                3047 non-null   float64\n",
      "dtypes: float64(25), int64(1), object(2)\n",
      "memory usage: 666.7+ KB\n"
     ]
    }
   ],
   "source": [
    "data0.info()\n",
    "non_numerical_inputs = {'binnedinc', 'geography'}\n",
    "null_entry_inputs = {'pctsomecol18_24','pctemployed16_over','pctprivatecoveragealone'}"
   ]
  },
  {
   "cell_type": "code",
   "execution_count": 318,
   "metadata": {
    "deletable": false,
    "editable": false
   },
   "outputs": [
    {
     "data": {
      "text/html": [
       "<p><strong><pre style='display: inline;'>q1p2</pre></strong> passed! ✨</p>"
      ],
      "text/plain": [
       "q1p2 results: All test cases passed!"
      ]
     },
     "execution_count": 318,
     "metadata": {},
     "output_type": "execute_result"
    }
   ],
   "source": [
    "grader.check(\"q1p2\")"
   ]
  },
  {
   "cell_type": "markdown",
   "metadata": {
    "deletable": false,
    "editable": false
   },
   "source": [
    "## 1.3 Discard non-numerical columns\n",
    "\n",
    "Remove the two columns with non-numeric data.\n",
    "\n",
    "Hints:\n",
    "+ `data0.dtypes` lists the data types for each column.\n",
    "+ You can construct a boolean mask for non-numeric columns with `data0.dtypes=='object'`.\n",
    "+ Use that mask to index `data.columns`\n",
    "+ Use [`data0.drop`](https://pandas.pydata.org/docs/reference/api/pandas.DataFrame.drop.html) to remove the selected columns.\n",
    "+ Save the result as `data1`"
   ]
  },
  {
   "cell_type": "code",
   "execution_count": 319,
   "metadata": {
    "execution": {
     "iopub.execute_input": "2025-03-17T23:12:33.933687Z",
     "iopub.status.busy": "2025-03-17T23:12:33.933411Z",
     "iopub.status.idle": "2025-03-17T23:12:33.936890Z",
     "shell.execute_reply": "2025-03-17T23:12:33.936608Z"
    },
    "tags": [
     "otter_answer_cell"
    ]
   },
   "outputs": [],
   "source": [
    "ind = np.where(data0.dtypes=='object')[0]\n",
    "drop_cols = data0.columns[ind]\n",
    "data1 = data0.drop(columns=drop_cols)"
   ]
  },
  {
   "cell_type": "code",
   "execution_count": 320,
   "metadata": {
    "deletable": false,
    "editable": false
   },
   "outputs": [
    {
     "data": {
      "text/html": [
       "<p><strong><pre style='display: inline;'>q1p3</pre></strong> passed! 🍀</p>"
      ],
      "text/plain": [
       "q1p3 results: All test cases passed!"
      ]
     },
     "execution_count": 320,
     "metadata": {},
     "output_type": "execute_result"
    }
   ],
   "source": [
    "grader.check(\"q1p3\")"
   ]
  },
  {
   "cell_type": "markdown",
   "metadata": {
    "deletable": false,
    "editable": false
   },
   "source": [
    "## 1.4 Discard columns where more than 10% of values are nan\n",
    "\n",
    "Hints:\n",
    "+ [`.dropna`](https://pandas.pydata.org/docs/reference/api/pandas.DataFrame.dropna.html)\n",
    "+ Use `axis=1` to drop columns (as opposed to `axis=1` for rows.\n",
    "+ Use the `thresh` argument. The condition for dropping a column is that it has less than `round(0.9*data1.shape[0])` non-nans.\n",
    "+ Save the result as `data2`"
   ]
  },
  {
   "cell_type": "code",
   "execution_count": 321,
   "metadata": {
    "execution": {
     "iopub.execute_input": "2025-03-17T23:12:33.948964Z",
     "iopub.status.busy": "2025-03-17T23:12:33.948760Z",
     "iopub.status.idle": "2025-03-17T23:12:33.952264Z",
     "shell.execute_reply": "2025-03-17T23:12:33.951989Z"
    },
    "tags": [
     "otter_answer_cell"
    ]
   },
   "outputs": [],
   "source": [
    "thresh = round(0.9*data1.shape[0])\n",
    "data2 = data1.dropna(axis=1, thresh=thresh)"
   ]
  },
  {
   "cell_type": "code",
   "execution_count": 322,
   "metadata": {
    "deletable": false,
    "editable": false
   },
   "outputs": [
    {
     "data": {
      "text/html": [
       "<p><strong><pre style='display: inline;'>q1p4</pre></strong> passed! 🚀</p>"
      ],
      "text/plain": [
       "q1p4 results: All test cases passed!"
      ]
     },
     "execution_count": 322,
     "metadata": {},
     "output_type": "execute_result"
    }
   ],
   "source": [
    "grader.check(\"q1p4\")"
   ]
  },
  {
   "cell_type": "markdown",
   "metadata": {
    "deletable": false,
    "editable": false
   },
   "source": [
    "## 1.5 Drop all rows that contain one or more nans.\n",
    "\n",
    "Save the result as `data3`.\n",
    "\n",
    "Hint: You can again use `dropna` for this."
   ]
  },
  {
   "cell_type": "code",
   "execution_count": 323,
   "metadata": {
    "execution": {
     "iopub.execute_input": "2025-03-17T23:12:33.966785Z",
     "iopub.status.busy": "2025-03-17T23:12:33.966657Z",
     "iopub.status.idle": "2025-03-17T23:12:33.969754Z",
     "shell.execute_reply": "2025-03-17T23:12:33.969492Z"
    },
    "tags": [
     "otter_answer_cell"
    ]
   },
   "outputs": [
    {
     "data": {
      "text/html": [
       "<div>\n",
       "<style scoped>\n",
       "    .dataframe tbody tr th:only-of-type {\n",
       "        vertical-align: middle;\n",
       "    }\n",
       "\n",
       "    .dataframe tbody tr th {\n",
       "        vertical-align: top;\n",
       "    }\n",
       "\n",
       "    .dataframe thead th {\n",
       "        text-align: right;\n",
       "    }\n",
       "</style>\n",
       "<table border=\"1\" class=\"dataframe\">\n",
       "  <thead>\n",
       "    <tr style=\"text-align: right;\">\n",
       "      <th></th>\n",
       "      <th>target_deathrate</th>\n",
       "      <th>incidencerate</th>\n",
       "      <th>medincome</th>\n",
       "      <th>povertypercent</th>\n",
       "      <th>medianage</th>\n",
       "      <th>avghouseholdsize</th>\n",
       "      <th>percentmarried</th>\n",
       "      <th>pctnohs18_24</th>\n",
       "      <th>pcths18_24</th>\n",
       "      <th>pctbachdeg18_24</th>\n",
       "      <th>...</th>\n",
       "      <th>pctprivatecoverage</th>\n",
       "      <th>pctempprivcoverage</th>\n",
       "      <th>pctpubliccoverage</th>\n",
       "      <th>pctpubliccoveragealone</th>\n",
       "      <th>pctwhite</th>\n",
       "      <th>pctblack</th>\n",
       "      <th>pctasian</th>\n",
       "      <th>pctotherrace</th>\n",
       "      <th>pctmarriedhouseholds</th>\n",
       "      <th>birthrate</th>\n",
       "    </tr>\n",
       "  </thead>\n",
       "  <tbody>\n",
       "    <tr>\n",
       "      <th>0</th>\n",
       "      <td>164.9</td>\n",
       "      <td>489.8</td>\n",
       "      <td>61898</td>\n",
       "      <td>11.2</td>\n",
       "      <td>39.3</td>\n",
       "      <td>2.54</td>\n",
       "      <td>52.5</td>\n",
       "      <td>11.5</td>\n",
       "      <td>39.5</td>\n",
       "      <td>6.9</td>\n",
       "      <td>...</td>\n",
       "      <td>75.1</td>\n",
       "      <td>41.6</td>\n",
       "      <td>32.9</td>\n",
       "      <td>14.0</td>\n",
       "      <td>81.780529</td>\n",
       "      <td>2.594728</td>\n",
       "      <td>4.821857</td>\n",
       "      <td>1.843479</td>\n",
       "      <td>52.856076</td>\n",
       "      <td>6.118831</td>\n",
       "    </tr>\n",
       "    <tr>\n",
       "      <th>1</th>\n",
       "      <td>161.3</td>\n",
       "      <td>411.6</td>\n",
       "      <td>48127</td>\n",
       "      <td>18.6</td>\n",
       "      <td>33.0</td>\n",
       "      <td>2.34</td>\n",
       "      <td>44.5</td>\n",
       "      <td>6.1</td>\n",
       "      <td>22.4</td>\n",
       "      <td>7.5</td>\n",
       "      <td>...</td>\n",
       "      <td>70.2</td>\n",
       "      <td>43.6</td>\n",
       "      <td>31.1</td>\n",
       "      <td>15.3</td>\n",
       "      <td>89.228509</td>\n",
       "      <td>0.969102</td>\n",
       "      <td>2.246233</td>\n",
       "      <td>3.741352</td>\n",
       "      <td>45.372500</td>\n",
       "      <td>4.333096</td>\n",
       "    </tr>\n",
       "    <tr>\n",
       "      <th>2</th>\n",
       "      <td>174.7</td>\n",
       "      <td>349.7</td>\n",
       "      <td>49348</td>\n",
       "      <td>14.6</td>\n",
       "      <td>45.0</td>\n",
       "      <td>2.62</td>\n",
       "      <td>54.2</td>\n",
       "      <td>24.0</td>\n",
       "      <td>36.6</td>\n",
       "      <td>9.5</td>\n",
       "      <td>...</td>\n",
       "      <td>63.7</td>\n",
       "      <td>34.9</td>\n",
       "      <td>42.1</td>\n",
       "      <td>21.1</td>\n",
       "      <td>90.922190</td>\n",
       "      <td>0.739673</td>\n",
       "      <td>0.465898</td>\n",
       "      <td>2.747358</td>\n",
       "      <td>54.444868</td>\n",
       "      <td>3.729488</td>\n",
       "    </tr>\n",
       "    <tr>\n",
       "      <th>3</th>\n",
       "      <td>194.8</td>\n",
       "      <td>430.4</td>\n",
       "      <td>44243</td>\n",
       "      <td>17.1</td>\n",
       "      <td>42.8</td>\n",
       "      <td>2.52</td>\n",
       "      <td>52.7</td>\n",
       "      <td>20.2</td>\n",
       "      <td>41.2</td>\n",
       "      <td>2.5</td>\n",
       "      <td>...</td>\n",
       "      <td>58.4</td>\n",
       "      <td>35.0</td>\n",
       "      <td>45.3</td>\n",
       "      <td>25.0</td>\n",
       "      <td>91.744686</td>\n",
       "      <td>0.782626</td>\n",
       "      <td>1.161359</td>\n",
       "      <td>1.362643</td>\n",
       "      <td>51.021514</td>\n",
       "      <td>4.603841</td>\n",
       "    </tr>\n",
       "    <tr>\n",
       "      <th>4</th>\n",
       "      <td>144.4</td>\n",
       "      <td>350.1</td>\n",
       "      <td>49955</td>\n",
       "      <td>12.5</td>\n",
       "      <td>48.3</td>\n",
       "      <td>2.34</td>\n",
       "      <td>57.8</td>\n",
       "      <td>14.9</td>\n",
       "      <td>43.0</td>\n",
       "      <td>2.0</td>\n",
       "      <td>...</td>\n",
       "      <td>61.6</td>\n",
       "      <td>35.1</td>\n",
       "      <td>44.0</td>\n",
       "      <td>22.7</td>\n",
       "      <td>94.104024</td>\n",
       "      <td>0.270192</td>\n",
       "      <td>0.665830</td>\n",
       "      <td>0.492135</td>\n",
       "      <td>54.027460</td>\n",
       "      <td>6.796657</td>\n",
       "    </tr>\n",
       "  </tbody>\n",
       "</table>\n",
       "<p>5 rows × 24 columns</p>\n",
       "</div>"
      ],
      "text/plain": [
       "   target_deathrate  incidencerate  medincome  povertypercent  medianage  \\\n",
       "0             164.9          489.8      61898            11.2       39.3   \n",
       "1             161.3          411.6      48127            18.6       33.0   \n",
       "2             174.7          349.7      49348            14.6       45.0   \n",
       "3             194.8          430.4      44243            17.1       42.8   \n",
       "4             144.4          350.1      49955            12.5       48.3   \n",
       "\n",
       "   avghouseholdsize  percentmarried  pctnohs18_24  pcths18_24  \\\n",
       "0              2.54            52.5          11.5        39.5   \n",
       "1              2.34            44.5           6.1        22.4   \n",
       "2              2.62            54.2          24.0        36.6   \n",
       "3              2.52            52.7          20.2        41.2   \n",
       "4              2.34            57.8          14.9        43.0   \n",
       "\n",
       "   pctbachdeg18_24  ...  pctprivatecoverage  pctempprivcoverage  \\\n",
       "0              6.9  ...                75.1                41.6   \n",
       "1              7.5  ...                70.2                43.6   \n",
       "2              9.5  ...                63.7                34.9   \n",
       "3              2.5  ...                58.4                35.0   \n",
       "4              2.0  ...                61.6                35.1   \n",
       "\n",
       "   pctpubliccoverage  pctpubliccoveragealone   pctwhite  pctblack  pctasian  \\\n",
       "0               32.9                    14.0  81.780529  2.594728  4.821857   \n",
       "1               31.1                    15.3  89.228509  0.969102  2.246233   \n",
       "2               42.1                    21.1  90.922190  0.739673  0.465898   \n",
       "3               45.3                    25.0  91.744686  0.782626  1.161359   \n",
       "4               44.0                    22.7  94.104024  0.270192  0.665830   \n",
       "\n",
       "   pctotherrace  pctmarriedhouseholds  birthrate  \n",
       "0      1.843479             52.856076   6.118831  \n",
       "1      3.741352             45.372500   4.333096  \n",
       "2      2.747358             54.444868   3.729488  \n",
       "3      1.362643             51.021514   4.603841  \n",
       "4      0.492135             54.027460   6.796657  \n",
       "\n",
       "[5 rows x 24 columns]"
      ]
     },
     "execution_count": 323,
     "metadata": {},
     "output_type": "execute_result"
    }
   ],
   "source": [
    "data3 = data2.dropna(axis=0)\n",
    "data3.head()"
   ]
  },
  {
   "cell_type": "code",
   "execution_count": 324,
   "metadata": {
    "deletable": false,
    "editable": false
   },
   "outputs": [
    {
     "data": {
      "text/html": [
       "<p><strong><pre style='display: inline;'>q1p5</pre></strong> passed! ✨</p>"
      ],
      "text/plain": [
       "q1p5 results: All test cases passed!"
      ]
     },
     "execution_count": 324,
     "metadata": {},
     "output_type": "execute_result"
    }
   ],
   "source": [
    "grader.check(\"q1p5\")"
   ]
  },
  {
   "cell_type": "markdown",
   "metadata": {
    "deletable": false,
    "editable": false
   },
   "source": [
    "## 1.6 Inspect correlations\n",
    "\n",
    "Next we'll look at the sample correlation coefficients between each of the inputs and the output (a.k.a. target variable) `target_deathrate`. This is a quick way to check which of the inputs may be most useful to include in a model. Correlations only provide an initial guess, however. Remember that the correlation coefficient only measures the linear relationship between variables. That's perfect when the model is linear (as in this lab activity), but less useful for nonlinear models.\n",
    "\n",
    "1) Use `data3.corr()` to build the correlations matrix.\n",
    "2) Inspect the column (or row) corresponding to `target_deathrate`.\n",
    "3) Rank (i.e. sort) the inputs from most to least correlated with the output. This ranking is in terms of the absolute value of the sample correlation coefficient.\n",
    "4) Save the top 5 correlated inputs to `top_5_corr`. `top_5_corr` should be a numpy array with shape `(5,)`.\n",
    "\n",
    "Hints:\n",
    "+ [`abs`](https://pandas.pydata.org/docs/reference/api/pandas.Series.abs.html)\n",
    "+ [`sort_values`](https://pandas.pydata.org/docs/reference/api/pandas.Series.sort_values.html)\n",
    "+ [`to_numpy`](https://pandas.pydata.org/docs/reference/api/pandas.Series.to_numpy.html)"
   ]
  },
  {
   "cell_type": "code",
   "execution_count": 325,
   "metadata": {
    "execution": {
     "iopub.execute_input": "2025-03-17T23:12:33.977351Z",
     "iopub.status.busy": "2025-03-17T23:12:33.977204Z",
     "iopub.status.idle": "2025-03-17T23:12:33.983155Z",
     "shell.execute_reply": "2025-03-17T23:12:33.982921Z"
    },
    "tags": [
     "otter_answer_cell"
    ]
   },
   "outputs": [],
   "source": [
    "# correlation matrix\n",
    "C = data3.corr()\n",
    "\n",
    "# vector correlations between the inputs and target_deathrate\n",
    "corr_target = C['target_deathrate']\n",
    "\n",
    "# sorted corr_target_sort\n",
    "corr_target_sort = corr_target.abs().sort_values(ascending=False)\n",
    "\n",
    "# top 5 correlations with target_deathrate\n",
    "top_5_sort = corr_target_sort[1:6].index.to_numpy()"
   ]
  },
  {
   "cell_type": "code",
   "execution_count": 326,
   "metadata": {
    "deletable": false,
    "editable": false
   },
   "outputs": [
    {
     "data": {
      "text/html": [
       "<p><strong><pre style='display: inline;'>q1p6</pre></strong> passed! 🍀</p>"
      ],
      "text/plain": [
       "q1p6 results: All test cases passed!"
      ]
     },
     "execution_count": 326,
     "metadata": {},
     "output_type": "execute_result"
    }
   ],
   "source": [
    "grader.check(\"q1p6\")"
   ]
  },
  {
   "cell_type": "markdown",
   "metadata": {
    "deletable": false,
    "editable": false
   },
   "source": [
    "## 1.7 Scatter plot\n",
    "\n",
    "Make a scatter plot of the data with the most correlated input along the x axis, and the target along the y axis.\n",
    "\n",
    "Hint: You can use the plotting function attached to the DataFrame: [data3.plot(kind='scatter',x=..., y=...)](https://pandas.pydata.org/docs/reference/api/pandas.DataFrame.plot.html)"
   ]
  },
  {
   "cell_type": "code",
   "execution_count": 327,
   "metadata": {
    "execution": {
     "iopub.execute_input": "2025-03-17T23:12:33.991101Z",
     "iopub.status.busy": "2025-03-17T23:12:33.990979Z",
     "iopub.status.idle": "2025-03-17T23:12:34.076001Z",
     "shell.execute_reply": "2025-03-17T23:12:34.075729Z"
    },
    "tags": [
     "otter_answer_cell"
    ]
   },
   "outputs": [
    {
     "data": {
      "text/plain": [
       "<Axes: xlabel='pctbachdeg25_over', ylabel='target_deathrate'>"
      ]
     },
     "execution_count": 327,
     "metadata": {},
     "output_type": "execute_result"
    },
    {
     "data": {
      "image/png": "[encoded data removed]",
      "text/plain": [
       "<Figure size 640x480 with 1 Axes>"
      ]
     },
     "metadata": {},
     "output_type": "display_data"
    }
   ],
   "source": [
    "data3.plot(kind='scatter',x=top_5_sort[0],y='target_deathrate')"
   ]
  },
  {
   "cell_type": "markdown",
   "metadata": {},
   "source": [
    "---\n",
    "\n",
    "# Part 2: Linear regression "
   ]
  },
  {
   "cell_type": "markdown",
   "metadata": {
    "deletable": false,
    "editable": false
   },
   "source": [
    "## 2.1 Extract `X` and `Y` from `data3`\n",
    "\n",
    "The next cell extracts the `X` and `Y` matrices from `data3` and constructs a list of `inputs`. Define the number of samples `N` and the total number of inputs `D`."
   ]
  },
  {
   "cell_type": "code",
   "execution_count": 328,
   "metadata": {
    "execution": {
     "iopub.execute_input": "2025-03-17T23:12:34.077288Z",
     "iopub.status.busy": "2025-03-17T23:12:34.077179Z",
     "iopub.status.idle": "2025-03-17T23:12:34.080513Z",
     "shell.execute_reply": "2025-03-17T23:12:34.080259Z"
    },
    "tags": [
     "otter_answer_cell"
    ]
   },
   "outputs": [],
   "source": [
    "X = data3.drop(columns='target_deathrate').values\n",
    "all_inputs = data3.columns.values\n",
    "all_inputs = all_inputs[all_inputs!='target_deathrate']\n",
    "Y = data3['target_deathrate'].values\n",
    "\n",
    "N = len(Y)\n",
    "D = X.shape[1]"
   ]
  },
  {
   "cell_type": "code",
   "execution_count": 329,
   "metadata": {
    "deletable": false,
    "editable": false
   },
   "outputs": [
    {
     "data": {
      "text/html": [
       "<p><strong><pre style='display: inline;'>q2p1</pre></strong> passed! ✨</p>"
      ],
      "text/plain": [
       "q2p1 results: All test cases passed!"
      ]
     },
     "execution_count": 329,
     "metadata": {},
     "output_type": "execute_result"
    }
   ],
   "source": [
    "grader.check(\"q2p1\")"
   ]
  },
  {
   "cell_type": "markdown",
   "metadata": {
    "deletable": false,
    "editable": false
   },
   "source": [
    "## 2.2 Center the inputs\n",
    "\n",
    "\\begin{align*}\n",
    "\\hat\\mu_X &= \\frac{1}{N} \\mathbf{1}^T_N \\mathbf{X} \\\\\n",
    "\\mathbf{X}^c&=\\mathbf{X}-\\mathbf{1}_N\\hat\\mu_X\n",
    "\\end{align*}\n",
    "\n",
    "Compute the column-wise means `muhatX` and subtract them from `X` to obtain `Xc`. \n",
    "\n",
    "Hint: \n",
    "+ Use `X.mean(axis=...)`. Should it be `axis=0` or `axis=1`? \n",
    "+ The formula for `Xc` above has $\\mathbf{1}_N\\hat\\mu_X$. The broadcasting rules of numpy make multiplying $\\hat\\mu_X$ by $\\mathbf{1}_N$ unnecessary.\n",
    "\n",
    "Check that the column-wise means of `Xc` equal zero (to machine precision). "
   ]
  },
  {
   "cell_type": "code",
   "execution_count": 330,
   "metadata": {
    "execution": {
     "iopub.execute_input": "2025-03-17T23:12:34.091772Z",
     "iopub.status.busy": "2025-03-17T23:12:34.091683Z",
     "iopub.status.idle": "2025-03-17T23:12:34.094206Z",
     "shell.execute_reply": "2025-03-17T23:12:34.093971Z"
    },
    "tags": [
     "otter_answer_cell"
    ]
   },
   "outputs": [],
   "source": [
    "muhatX = X.mean(axis=0)\n",
    "Xc = X - muhatX"
   ]
  },
  {
   "cell_type": "code",
   "execution_count": 331,
   "metadata": {
    "deletable": false,
    "editable": false
   },
   "outputs": [
    {
     "data": {
      "text/html": [
       "<p><strong><pre style='display: inline;'>q2p2</pre></strong> passed! 🙌</p>"
      ],
      "text/plain": [
       "q2p2 results: All test cases passed!"
      ]
     },
     "execution_count": 331,
     "metadata": {},
     "output_type": "execute_result"
    }
   ],
   "source": [
    "grader.check(\"q2p2\")"
   ]
  },
  {
   "cell_type": "markdown",
   "metadata": {
    "deletable": false,
    "editable": false
   },
   "source": [
    "## 2.3 Center the outputs\n",
    "\n",
    "Compute `muhatY` and the centered outputs `Yc` according to\n",
    "\n",
    "\\begin{align*}\n",
    "\\hat\\mu_Y &= \\frac{1}{N} \\mathbf{1}^T_N \\mathbf{Y} \\\\\n",
    "\\mathbf{Y}^c&=\\mathbf{Y}-\\mathbf{1}_N\\hat\\mu_Y\n",
    "\\end{align*}\n"
   ]
  },
  {
   "cell_type": "code",
   "execution_count": 332,
   "metadata": {
    "execution": {
     "iopub.execute_input": "2025-03-17T23:12:34.109822Z",
     "iopub.status.busy": "2025-03-17T23:12:34.109731Z",
     "iopub.status.idle": "2025-03-17T23:12:34.112025Z",
     "shell.execute_reply": "2025-03-17T23:12:34.111797Z"
    },
    "tags": [
     "otter_answer_cell"
    ]
   },
   "outputs": [],
   "source": [
    "muhatY = Y.mean()\n",
    "Yc = Y - muhatY"
   ]
  },
  {
   "cell_type": "code",
   "execution_count": 333,
   "metadata": {
    "deletable": false,
    "editable": false
   },
   "outputs": [
    {
     "data": {
      "text/html": [
       "<p><strong><pre style='display: inline;'>q2p3</pre></strong> passed! 🌈</p>"
      ],
      "text/plain": [
       "q2p3 results: All test cases passed!"
      ]
     },
     "execution_count": 333,
     "metadata": {},
     "output_type": "execute_result"
    }
   ],
   "source": [
    "grader.check(\"q2p3\")"
   ]
  },
  {
   "cell_type": "markdown",
   "metadata": {
    "deletable": false,
    "editable": false
   },
   "source": [
    "## 2.4 Compute the input covariance martrix.\n",
    "\n",
    "\n",
    "$$\\Sigma^{2}_X=\\frac{1}{N-1}(\\mathbf{X}^c)^T \\mathbf{X}^c$$\n",
    "\n",
    "Hints:\n",
    "+ NumPy's @ operator and matrix transposition (`Xc.T`). See [this](https://numpy.org/devdocs/user/numpy-for-matlab-users.html) summary of the key differences between numpy and Matlab.\n"
   ]
  },
  {
   "cell_type": "code",
   "execution_count": 334,
   "metadata": {
    "execution": {
     "iopub.execute_input": "2025-03-17T23:12:34.123265Z",
     "iopub.status.busy": "2025-03-17T23:12:34.123112Z",
     "iopub.status.idle": "2025-03-17T23:12:34.125312Z",
     "shell.execute_reply": "2025-03-17T23:12:34.125061Z"
    },
    "tags": [
     "otter_answer_cell"
    ]
   },
   "outputs": [],
   "source": [
    "Sigma2X = (1 / (N - 1)) * Xc.T @ Xc"
   ]
  },
  {
   "cell_type": "code",
   "execution_count": 335,
   "metadata": {
    "deletable": false,
    "editable": false
   },
   "outputs": [
    {
     "data": {
      "text/html": [
       "<p><strong><pre style='display: inline;'>q2p4</pre></strong> passed! 🌈</p>"
      ],
      "text/plain": [
       "q2p4 results: All test cases passed!"
      ]
     },
     "execution_count": 335,
     "metadata": {},
     "output_type": "execute_result"
    }
   ],
   "source": [
    "grader.check(\"q2p4\")"
   ]
  },
  {
   "cell_type": "markdown",
   "metadata": {
    "deletable": false,
    "editable": false,
    "vscode": {
     "languageId": "raw"
    }
   },
   "source": [
    "# Compute Input/Output covariance matrix\n",
    "\n",
    "$$\\Sigma_{XY}=\\frac{1}{N-1}(\\mathbf{X}^c)^T \\mathbf{Y}^c$$"
   ]
  },
  {
   "cell_type": "code",
   "execution_count": 336,
   "metadata": {
    "execution": {
     "iopub.execute_input": "2025-03-17T23:12:34.134385Z",
     "iopub.status.busy": "2025-03-17T23:12:34.134227Z",
     "iopub.status.idle": "2025-03-17T23:12:34.136359Z",
     "shell.execute_reply": "2025-03-17T23:12:34.136112Z"
    },
    "tags": [
     "otter_answer_cell"
    ]
   },
   "outputs": [],
   "source": [
    "SigmaXY = (1 / (N - 1)) * Xc.T @ Yc"
   ]
  },
  {
   "cell_type": "code",
   "execution_count": 337,
   "metadata": {
    "deletable": false,
    "editable": false
   },
   "outputs": [
    {
     "data": {
      "text/html": [
       "<p><strong><pre style='display: inline;'>q2p5</pre></strong> passed! 🌟</p>"
      ],
      "text/plain": [
       "q2p5 results: All test cases passed!"
      ]
     },
     "execution_count": 337,
     "metadata": {},
     "output_type": "execute_result"
    }
   ],
   "source": [
    "grader.check(\"q2p5\")"
   ]
  },
  {
   "cell_type": "markdown",
   "metadata": {
    "deletable": false,
    "editable": false
   },
   "source": [
    "## 2.6 Compute the least squares estimates of the parameters\n",
    "\n",
    "\\begin{align*}\n",
    "\\underline{\\hat\\theta}_1 &= (\\Sigma^{2}_X)^{-1}\\Sigma_{XY} \\\\\n",
    "\\hat\\theta_0 &= \\hat\\mu_Y - \\hat\\mu_X \\underline{\\hat\\theta}_1\n",
    "\\end{align*}\n",
    "\n",
    "\n",
    "Hint:\n",
    "+ [np.linalg.inv](https://numpy.org/doc/stable/reference/generated/numpy.linalg.inv.html)\n"
   ]
  },
  {
   "cell_type": "code",
   "execution_count": 338,
   "metadata": {
    "execution": {
     "iopub.execute_input": "2025-03-17T23:12:34.143949Z",
     "iopub.status.busy": "2025-03-17T23:12:34.143783Z",
     "iopub.status.idle": "2025-03-17T23:12:34.145943Z",
     "shell.execute_reply": "2025-03-17T23:12:34.145733Z"
    },
    "tags": [
     "otter_answer_cell"
    ]
   },
   "outputs": [],
   "source": [
    "theta1hat = np.linalg.inv(Sigma2X) @ SigmaXY\n",
    "theta0hat = muhatY - (muhatX @ theta1hat)"
   ]
  },
  {
   "cell_type": "code",
   "execution_count": 339,
   "metadata": {
    "deletable": false,
    "editable": false
   },
   "outputs": [
    {
     "data": {
      "text/html": [
       "<p><strong><pre style='display: inline;'>q2p6</pre></strong> passed! 🌈</p>"
      ],
      "text/plain": [
       "q2p6 results: All test cases passed!"
      ]
     },
     "execution_count": 339,
     "metadata": {},
     "output_type": "execute_result"
    }
   ],
   "source": [
    "grader.check(\"q2p6\")"
   ]
  },
  {
   "cell_type": "markdown",
   "metadata": {
    "deletable": false,
    "editable": false
   },
   "source": [
    "## 2.7 Compute predictions for each of the training samples\n",
    "\n",
    "$$\\mathbf{\\hat{Y}} = \\mathbf{1}_N\\hat\\theta_0 + \\mathbf{X}\\underline{\\hat\\theta}_1$$\n"
   ]
  },
  {
   "cell_type": "code",
   "execution_count": 340,
   "metadata": {
    "execution": {
     "iopub.execute_input": "2025-03-17T23:12:34.156700Z",
     "iopub.status.busy": "2025-03-17T23:12:34.156548Z",
     "iopub.status.idle": "2025-03-17T23:12:34.158800Z",
     "shell.execute_reply": "2025-03-17T23:12:34.158543Z"
    },
    "tags": [
     "otter_answer_cell"
    ]
   },
   "outputs": [],
   "source": [
    "Yhat = (np.full((1, N), 1) * theta0hat)[0] + (X @ theta1hat)"
   ]
  },
  {
   "cell_type": "code",
   "execution_count": 341,
   "metadata": {
    "deletable": false,
    "editable": false
   },
   "outputs": [
    {
     "data": {
      "text/html": [
       "<p><strong><pre style='display: inline;'>q2p7</pre></strong> passed! 🎉</p>"
      ],
      "text/plain": [
       "q2p7 results: All test cases passed!"
      ]
     },
     "execution_count": 341,
     "metadata": {},
     "output_type": "execute_result"
    }
   ],
   "source": [
    "grader.check(\"q2p7\")"
   ]
  },
  {
   "cell_type": "markdown",
   "metadata": {
    "deletable": false,
    "editable": false
   },
   "source": [
    "## 2.8 Model performance\n",
    "\n",
    "Compute the coefficient of determination $R^2$ for this model on the training data.\n",
    "\n",
    "$$ R^2 = 1 - \\frac{\\sum_{i=1}^N (y_i-\\hat{y}_i)^2}{\\sum_{i=1}^N (y_i-\\hat\\mu_Y)^2}$$"
   ]
  },
  {
   "cell_type": "code",
   "execution_count": 342,
   "metadata": {
    "execution": {
     "iopub.execute_input": "2025-03-17T23:12:34.166648Z",
     "iopub.status.busy": "2025-03-17T23:12:34.166496Z",
     "iopub.status.idle": "2025-03-17T23:12:34.168881Z",
     "shell.execute_reply": "2025-03-17T23:12:34.168634Z"
    },
    "tags": [
     "otter_answer_cell"
    ]
   },
   "outputs": [],
   "source": [
    "R2 = 1 - (sum((Y - Yhat) ** 2) / sum((Y - muhatY) ** 2))"
   ]
  },
  {
   "cell_type": "code",
   "execution_count": 343,
   "metadata": {
    "deletable": false,
    "editable": false
   },
   "outputs": [
    {
     "data": {
      "text/html": [
       "<p><strong><pre style='display: inline;'>q2p8</pre></strong> passed! 🌈</p>"
      ],
      "text/plain": [
       "q2p8 results: All test cases passed!"
      ]
     },
     "execution_count": 343,
     "metadata": {},
     "output_type": "execute_result"
    }
   ],
   "source": [
    "grader.check(\"q2p8\")"
   ]
  },
  {
   "cell_type": "markdown",
   "metadata": {},
   "source": [
    "---\n",
    "\n",
    "# Part 3: Parameter uncertainty"
   ]
  },
  {
   "cell_type": "markdown",
   "metadata": {
    "deletable": false,
    "editable": false
   },
   "source": [
    "## 3.1 Estimate the variance of the output\n",
    "\n",
    "$$\\hat\\sigma^2 = \\frac{1}{N-D-1} \\sum_{i=1}^{N}(y_i-\\hat{y}_i)^2$$"
   ]
  },
  {
   "cell_type": "code",
   "execution_count": 344,
   "metadata": {
    "execution": {
     "iopub.execute_input": "2025-03-17T23:12:34.176308Z",
     "iopub.status.busy": "2025-03-17T23:12:34.176159Z",
     "iopub.status.idle": "2025-03-17T23:12:34.178435Z",
     "shell.execute_reply": "2025-03-17T23:12:34.178206Z"
    },
    "tags": [
     "otter_answer_cell"
    ]
   },
   "outputs": [],
   "source": [
    "sigmahat2 = (1 / (N - D - 1)) * sum((Y - Yhat) ** 2)"
   ]
  },
  {
   "cell_type": "code",
   "execution_count": 345,
   "metadata": {
    "deletable": false,
    "editable": false
   },
   "outputs": [
    {
     "data": {
      "text/html": [
       "<p><strong><pre style='display: inline;'>q3p1</pre></strong> passed! 💯</p>"
      ],
      "text/plain": [
       "q3p1 results: All test cases passed!"
      ]
     },
     "execution_count": 345,
     "metadata": {},
     "output_type": "execute_result"
    }
   ],
   "source": [
    "grader.check(\"q3p1\")"
   ]
  },
  {
   "cell_type": "markdown",
   "metadata": {
    "deletable": false,
    "editable": false
   },
   "source": [
    "## 3.2 Compute the variances of the slope parameters\n",
    "\n",
    "These are the diagonal entries of \n",
    "\n",
    "$$Var\\left[ \\underline{\\widehat{\\Theta}}_1 \\right]\\;=\\;   \\sigma^2  \\left((\\mathbf{X}^c)^T \\mathbf{X}^c \\right)^{-1}  $$\n",
    "\n",
    "The variance of $\\hat\\theta_d$ is the $(d\\!-\\!1)$'th diagonal entry of $\\hat\\sigma^2 (\\Sigma^{2}_X)^{-1}$.\n",
    "\n",
    "`var_thetahat` should be a 1D array with the variances of each of the slope parameters. \n",
    "\n",
    "**Hint**: [`np.diag`](https://numpy.org/doc/stable/reference/generated/numpy.diag.html)"
   ]
  },
  {
   "cell_type": "code",
   "execution_count": 346,
   "metadata": {
    "execution": {
     "iopub.execute_input": "2025-03-17T23:12:34.186023Z",
     "iopub.status.busy": "2025-03-17T23:12:34.185874Z",
     "iopub.status.idle": "2025-03-17T23:12:34.188115Z",
     "shell.execute_reply": "2025-03-17T23:12:34.187851Z"
    },
    "tags": [
     "otter_answer_cell"
    ]
   },
   "outputs": [],
   "source": [
    "var_thetahat = np.diag(sigmahat2 * np.linalg.inv(Xc.T @ Xc))"
   ]
  },
  {
   "cell_type": "code",
   "execution_count": 347,
   "metadata": {
    "deletable": false,
    "editable": false
   },
   "outputs": [
    {
     "data": {
      "text/html": [
       "<p><strong><pre style='display: inline;'>q3p2</pre></strong> passed! 🙌</p>"
      ],
      "text/plain": [
       "q3p2 results: All test cases passed!"
      ]
     },
     "execution_count": 347,
     "metadata": {},
     "output_type": "execute_result"
    }
   ],
   "source": [
    "grader.check(\"q3p2\")"
   ]
  },
  {
   "cell_type": "markdown",
   "metadata": {
    "deletable": false,
    "editable": false
   },
   "source": [
    "## 3.3 Compute the radiuses of the confidence intervals"
   ]
  },
  {
   "cell_type": "markdown",
   "metadata": {
    "deletable": false,
    "editable": false
   },
   "source": [
    "Having the variances of each of the slope parameters in `var_thetahat`, and assuming that the output measurement noise is Gaussian, we can compute the radius of the confidence interval for the $d$'th slope parameter with\n",
    "$$\\rho_d =\\sqrt{v_d} \\left| F^{-1}_{\\mathcal{N}}\\left( \\frac{1-\\gamma}{2}\\right)\\right| $$\n",
    "Here $v_d$ is the variance of the $d$'th slope parameter, i.e. `var_thetahat[d]`.\n",
    "\n",
    "Compute the radiuses of the 95\\% confidence intervals for the slope parameters. Store these in the array `rho`."
   ]
  },
  {
   "cell_type": "code",
   "execution_count": 348,
   "metadata": {
    "execution": {
     "iopub.execute_input": "2025-03-17T23:12:34.195691Z",
     "iopub.status.busy": "2025-03-17T23:12:34.195533Z",
     "iopub.status.idle": "2025-03-17T23:12:34.198361Z",
     "shell.execute_reply": "2025-03-17T23:12:34.198113Z"
    },
    "tags": [
     "otter_answer_cell"
    ]
   },
   "outputs": [],
   "source": [
    "gamma = 0.95\n",
    "rho = np.sqrt(var_thetahat) * np.abs(stats.norm.ppf((1 - gamma) / 2))"
   ]
  },
  {
   "cell_type": "code",
   "execution_count": 349,
   "metadata": {
    "deletable": false,
    "editable": false
   },
   "outputs": [
    {
     "data": {
      "text/html": [
       "<p><strong><pre style='display: inline;'>q3p3</pre></strong> passed! 🚀</p>"
      ],
      "text/plain": [
       "q3p3 results: All test cases passed!"
      ]
     },
     "execution_count": 349,
     "metadata": {},
     "output_type": "execute_result"
    }
   ],
   "source": [
    "grader.check(\"q3p3\")"
   ]
  },
  {
   "cell_type": "code",
   "execution_count": 350,
   "metadata": {},
   "outputs": [
    {
     "data": {
      "text/plain": [
       "array([1.50151527e-02, 1.60650343e-04, 3.16924954e-01, 1.60424466e-02,\n",
       "       1.94025959e+00, 3.25474403e-01, 1.11940748e-01, 9.85249150e-02,\n",
       "       2.15722179e-01, 1.92409867e-01, 3.09867001e-01, 2.15017984e-01,\n",
       "       3.32256495e-01, 2.59259264e-01, 2.09044555e-01, 3.60296969e-01,\n",
       "       5.04830840e-01, 1.16005352e-01, 1.10959483e-01, 3.58291112e-01,\n",
       "       2.45003860e-01, 3.22979177e-01, 3.80379528e-01])"
      ]
     },
     "execution_count": 350,
     "metadata": {},
     "output_type": "execute_result"
    }
   ],
   "source": [
    "rho"
   ]
  },
  {
   "cell_type": "code",
   "execution_count": 351,
   "metadata": {},
   "outputs": [
    {
     "data": {
      "text/plain": [
       "array([ 1.87505833e-01,  3.61306252e-05,  2.91681846e-01, -5.21889897e-03,\n",
       "        7.97011938e-01,  1.16614470e+00, -1.94668271e-01,  1.83443757e-01,\n",
       "       -1.14887641e-01,  3.69316646e-01, -1.22025599e+00, -6.73615947e-01,\n",
       "        1.59057230e-01, -4.51364801e-01,  4.21374442e-01, -9.48335441e-01,\n",
       "        1.01122197e+00, -1.31077327e-01, -6.33288134e-02, -1.61776706e-01,\n",
       "       -9.03197535e-01, -1.27050925e+00, -8.30525469e-01])"
      ]
     },
     "execution_count": 351,
     "metadata": {},
     "output_type": "execute_result"
    }
   ],
   "source": [
    "theta1hat"
   ]
  },
  {
   "cell_type": "markdown",
   "metadata": {
    "deletable": false,
    "editable": false,
    "vscode": {
     "languageId": "raw"
    }
   },
   "source": [
    "## 3.4 Tag as \"significant\" those parameters whose confidence interval does not include zero.\n",
    "\n",
    "Create a 1D NumPy boolean array of the same size as `theta1hat` called `significant`. The $d$'th entry of `significant` should be `True` if the 95\\% confidence interval for the corresponding slope parameter **does not** include 0, and `False` otherwise. In other words, an input is considered significant if its slope parameter is non-zero with 95\\% confidence. "
   ]
  },
  {
   "cell_type": "code",
   "execution_count": 352,
   "metadata": {
    "execution": {
     "iopub.execute_input": "2025-03-17T23:12:34.205609Z",
     "iopub.status.busy": "2025-03-17T23:12:34.205474Z",
     "iopub.status.idle": "2025-03-17T23:12:34.207609Z",
     "shell.execute_reply": "2025-03-17T23:12:34.207361Z"
    },
    "tags": [
     "otter_answer_cell"
    ]
   },
   "outputs": [],
   "source": [
    "significant = [False if 0 > theta1hat[d] - rho[d] and 0 < theta1hat[d] + rho[d] else True for d in range(len(theta1hat))]"
   ]
  },
  {
   "cell_type": "code",
   "execution_count": 353,
   "metadata": {
    "deletable": false,
    "editable": false
   },
   "outputs": [
    {
     "data": {
      "text/html": [
       "<p><strong><pre style='display: inline;'>q3p4</pre></strong> passed! 🌈</p>"
      ],
      "text/plain": [
       "q3p4 results: All test cases passed!"
      ]
     },
     "execution_count": 353,
     "metadata": {},
     "output_type": "execute_result"
    }
   ],
   "source": [
    "grader.check(\"q3p4\")"
   ]
  },
  {
   "cell_type": "markdown",
   "metadata": {},
   "source": [
    "## 3.5 Parameters table (done already)\n",
    "Make a DataFrame with one row for each input. The index of the table should be the input names. The columns should be:\n",
    "+ `slope`: the estimates of the slope parameter associated with the input. \n",
    "+ `slope stddev`: the standard deviation of the slope parameter.\n",
    "+ `significant`: whether the input is significant according to part 3.4."
   ]
  },
  {
   "cell_type": "code",
   "execution_count": 354,
   "metadata": {
    "execution": {
     "iopub.execute_input": "2025-03-17T23:12:34.214821Z",
     "iopub.status.busy": "2025-03-17T23:12:34.214676Z",
     "iopub.status.idle": "2025-03-17T23:12:34.220408Z",
     "shell.execute_reply": "2025-03-17T23:12:34.220160Z"
    }
   },
   "outputs": [
    {
     "data": {
      "text/html": [
       "<div>\n",
       "<style scoped>\n",
       "    .dataframe tbody tr th:only-of-type {\n",
       "        vertical-align: middle;\n",
       "    }\n",
       "\n",
       "    .dataframe tbody tr th {\n",
       "        vertical-align: top;\n",
       "    }\n",
       "\n",
       "    .dataframe thead th {\n",
       "        text-align: right;\n",
       "    }\n",
       "</style>\n",
       "<table border=\"1\" class=\"dataframe\">\n",
       "  <thead>\n",
       "    <tr style=\"text-align: right;\">\n",
       "      <th></th>\n",
       "      <th>slope</th>\n",
       "      <th>slope stddev</th>\n",
       "      <th>significant</th>\n",
       "    </tr>\n",
       "  </thead>\n",
       "  <tbody>\n",
       "    <tr>\n",
       "      <th>incidencerate</th>\n",
       "      <td>0.187506</td>\n",
       "      <td>0.007661</td>\n",
       "      <td>True</td>\n",
       "    </tr>\n",
       "    <tr>\n",
       "      <th>medincome</th>\n",
       "      <td>0.000036</td>\n",
       "      <td>0.000082</td>\n",
       "      <td>False</td>\n",
       "    </tr>\n",
       "    <tr>\n",
       "      <th>povertypercent</th>\n",
       "      <td>0.291682</td>\n",
       "      <td>0.161699</td>\n",
       "      <td>False</td>\n",
       "    </tr>\n",
       "    <tr>\n",
       "      <th>medianage</th>\n",
       "      <td>-0.005219</td>\n",
       "      <td>0.008185</td>\n",
       "      <td>False</td>\n",
       "    </tr>\n",
       "    <tr>\n",
       "      <th>avghouseholdsize</th>\n",
       "      <td>0.797012</td>\n",
       "      <td>0.989947</td>\n",
       "      <td>False</td>\n",
       "    </tr>\n",
       "    <tr>\n",
       "      <th>percentmarried</th>\n",
       "      <td>1.166145</td>\n",
       "      <td>0.166061</td>\n",
       "      <td>True</td>\n",
       "    </tr>\n",
       "    <tr>\n",
       "      <th>pctnohs18_24</th>\n",
       "      <td>-0.194668</td>\n",
       "      <td>0.057114</td>\n",
       "      <td>True</td>\n",
       "    </tr>\n",
       "    <tr>\n",
       "      <th>pcths18_24</th>\n",
       "      <td>0.183444</td>\n",
       "      <td>0.050269</td>\n",
       "      <td>True</td>\n",
       "    </tr>\n",
       "    <tr>\n",
       "      <th>pctbachdeg18_24</th>\n",
       "      <td>-0.114888</td>\n",
       "      <td>0.110064</td>\n",
       "      <td>False</td>\n",
       "    </tr>\n",
       "    <tr>\n",
       "      <th>pcths25_over</th>\n",
       "      <td>0.369317</td>\n",
       "      <td>0.098170</td>\n",
       "      <td>True</td>\n",
       "    </tr>\n",
       "    <tr>\n",
       "      <th>pctbachdeg25_over</th>\n",
       "      <td>-1.220256</td>\n",
       "      <td>0.158098</td>\n",
       "      <td>True</td>\n",
       "    </tr>\n",
       "    <tr>\n",
       "      <th>pctemployed16_over</th>\n",
       "      <td>-0.673616</td>\n",
       "      <td>0.109705</td>\n",
       "      <td>True</td>\n",
       "    </tr>\n",
       "    <tr>\n",
       "      <th>pctunemployed16_over</th>\n",
       "      <td>0.159057</td>\n",
       "      <td>0.169522</td>\n",
       "      <td>False</td>\n",
       "    </tr>\n",
       "    <tr>\n",
       "      <th>pctprivatecoverage</th>\n",
       "      <td>-0.451365</td>\n",
       "      <td>0.132278</td>\n",
       "      <td>True</td>\n",
       "    </tr>\n",
       "    <tr>\n",
       "      <th>pctempprivcoverage</th>\n",
       "      <td>0.421374</td>\n",
       "      <td>0.106657</td>\n",
       "      <td>True</td>\n",
       "    </tr>\n",
       "    <tr>\n",
       "      <th>pctpubliccoverage</th>\n",
       "      <td>-0.948335</td>\n",
       "      <td>0.183828</td>\n",
       "      <td>True</td>\n",
       "    </tr>\n",
       "    <tr>\n",
       "      <th>pctpubliccoveragealone</th>\n",
       "      <td>1.011222</td>\n",
       "      <td>0.257571</td>\n",
       "      <td>True</td>\n",
       "    </tr>\n",
       "    <tr>\n",
       "      <th>pctwhite</th>\n",
       "      <td>-0.131077</td>\n",
       "      <td>0.059187</td>\n",
       "      <td>True</td>\n",
       "    </tr>\n",
       "    <tr>\n",
       "      <th>pctblack</th>\n",
       "      <td>-0.063329</td>\n",
       "      <td>0.056613</td>\n",
       "      <td>False</td>\n",
       "    </tr>\n",
       "    <tr>\n",
       "      <th>pctasian</th>\n",
       "      <td>-0.161777</td>\n",
       "      <td>0.182805</td>\n",
       "      <td>False</td>\n",
       "    </tr>\n",
       "    <tr>\n",
       "      <th>pctotherrace</th>\n",
       "      <td>-0.903198</td>\n",
       "      <td>0.125004</td>\n",
       "      <td>True</td>\n",
       "    </tr>\n",
       "    <tr>\n",
       "      <th>pctmarriedhouseholds</th>\n",
       "      <td>-1.270509</td>\n",
       "      <td>0.164788</td>\n",
       "      <td>True</td>\n",
       "    </tr>\n",
       "    <tr>\n",
       "      <th>birthrate</th>\n",
       "      <td>-0.830525</td>\n",
       "      <td>0.194075</td>\n",
       "      <td>True</td>\n",
       "    </tr>\n",
       "  </tbody>\n",
       "</table>\n",
       "</div>"
      ],
      "text/plain": [
       "                           slope  slope stddev  significant\n",
       "incidencerate           0.187506      0.007661         True\n",
       "medincome               0.000036      0.000082        False\n",
       "povertypercent          0.291682      0.161699        False\n",
       "medianage              -0.005219      0.008185        False\n",
       "avghouseholdsize        0.797012      0.989947        False\n",
       "percentmarried          1.166145      0.166061         True\n",
       "pctnohs18_24           -0.194668      0.057114         True\n",
       "pcths18_24              0.183444      0.050269         True\n",
       "pctbachdeg18_24        -0.114888      0.110064        False\n",
       "pcths25_over            0.369317      0.098170         True\n",
       "pctbachdeg25_over      -1.220256      0.158098         True\n",
       "pctemployed16_over     -0.673616      0.109705         True\n",
       "pctunemployed16_over    0.159057      0.169522        False\n",
       "pctprivatecoverage     -0.451365      0.132278         True\n",
       "pctempprivcoverage      0.421374      0.106657         True\n",
       "pctpubliccoverage      -0.948335      0.183828         True\n",
       "pctpubliccoveragealone  1.011222      0.257571         True\n",
       "pctwhite               -0.131077      0.059187         True\n",
       "pctblack               -0.063329      0.056613        False\n",
       "pctasian               -0.161777      0.182805        False\n",
       "pctotherrace           -0.903198      0.125004         True\n",
       "pctmarriedhouseholds   -1.270509      0.164788         True\n",
       "birthrate              -0.830525      0.194075         True"
      ]
     },
     "execution_count": 354,
     "metadata": {},
     "output_type": "execute_result"
    }
   ],
   "source": [
    "params_table = pd.DataFrame(index=all_inputs,\n",
    "             data={'slope':theta1hat,\n",
    "                   'slope stddev':np.sqrt(var_thetahat),\n",
    "                   'significant':significant})\n",
    "\n",
    "params_table"
   ]
  },
  {
   "cell_type": "markdown",
   "metadata": {
    "deletable": false,
    "editable": false
   },
   "source": [
    "## 3.6 Build an array of significant inputs\n",
    "\n",
    "Extract the names of the significant inputs from `params_table` using the `significant` array from part 3.4.\n",
    "\n",
    "Store these significant input names as `significant_inputs`. \n",
    "\n",
    "`significant_inputs` should be a NumPy array with shape `(15,)`.\n",
    "\n",
    "Here's one way you can do this that doesn't require a \"for\" loop:\n",
    "1. Use the `significant` column to select the rows of the table corresponding to significant inputs. \n",
    "2. Use `.index` to obtain the names of the inputs for those rows. \n",
    "3. Use `.to_numpy()` to convert the result to a NumPy array."
   ]
  },
  {
   "cell_type": "code",
   "execution_count": 355,
   "metadata": {
    "execution": {
     "iopub.execute_input": "2025-03-17T23:12:34.221553Z",
     "iopub.status.busy": "2025-03-17T23:12:34.221426Z",
     "iopub.status.idle": "2025-03-17T23:12:34.223795Z",
     "shell.execute_reply": "2025-03-17T23:12:34.223551Z"
    },
    "tags": [
     "otter_answer_cell"
    ]
   },
   "outputs": [],
   "source": [
    "significant_inputs = params_table.loc[params_table['significant'] == True].index.to_numpy()"
   ]
  },
  {
   "cell_type": "code",
   "execution_count": 356,
   "metadata": {
    "deletable": false,
    "editable": false
   },
   "outputs": [
    {
     "data": {
      "text/html": [
       "<p><strong><pre style='display: inline;'>q3p6</pre></strong> passed! 🌈</p>"
      ],
      "text/plain": [
       "q3p6 results: All test cases passed!"
      ]
     },
     "execution_count": 356,
     "metadata": {},
     "output_type": "execute_result"
    }
   ],
   "source": [
    "grader.check(\"q3p6\")"
   ]
  },
  {
   "cell_type": "markdown",
   "metadata": {},
   "source": [
    "## 3.7 Create a new table with significant inputs only (done already)\n",
    "\n",
    "This table is called `data` and the target variable is now called `Y`."
   ]
  },
  {
   "cell_type": "code",
   "execution_count": 357,
   "metadata": {
    "execution": {
     "iopub.execute_input": "2025-03-17T23:12:34.234519Z",
     "iopub.status.busy": "2025-03-17T23:12:34.234357Z",
     "iopub.status.idle": "2025-03-17T23:12:34.244802Z",
     "shell.execute_reply": "2025-03-17T23:12:34.244559Z"
    }
   },
   "outputs": [
    {
     "data": {
      "text/html": [
       "<div>\n",
       "<style scoped>\n",
       "    .dataframe tbody tr th:only-of-type {\n",
       "        vertical-align: middle;\n",
       "    }\n",
       "\n",
       "    .dataframe tbody tr th {\n",
       "        vertical-align: top;\n",
       "    }\n",
       "\n",
       "    .dataframe thead th {\n",
       "        text-align: right;\n",
       "    }\n",
       "</style>\n",
       "<table border=\"1\" class=\"dataframe\">\n",
       "  <thead>\n",
       "    <tr style=\"text-align: right;\">\n",
       "      <th></th>\n",
       "      <th>incidencerate</th>\n",
       "      <th>percentmarried</th>\n",
       "      <th>pctnohs18_24</th>\n",
       "      <th>pcths18_24</th>\n",
       "      <th>pcths25_over</th>\n",
       "      <th>pctbachdeg25_over</th>\n",
       "      <th>pctemployed16_over</th>\n",
       "      <th>pctprivatecoverage</th>\n",
       "      <th>pctempprivcoverage</th>\n",
       "      <th>pctpubliccoverage</th>\n",
       "      <th>pctpubliccoveragealone</th>\n",
       "      <th>pctwhite</th>\n",
       "      <th>pctotherrace</th>\n",
       "      <th>pctmarriedhouseholds</th>\n",
       "      <th>birthrate</th>\n",
       "      <th>Y</th>\n",
       "    </tr>\n",
       "  </thead>\n",
       "  <tbody>\n",
       "    <tr>\n",
       "      <th>0</th>\n",
       "      <td>489.800000</td>\n",
       "      <td>52.5</td>\n",
       "      <td>11.5</td>\n",
       "      <td>39.5</td>\n",
       "      <td>23.2</td>\n",
       "      <td>19.6</td>\n",
       "      <td>51.9</td>\n",
       "      <td>75.1</td>\n",
       "      <td>41.6</td>\n",
       "      <td>32.9</td>\n",
       "      <td>14.0</td>\n",
       "      <td>81.780529</td>\n",
       "      <td>1.843479</td>\n",
       "      <td>52.856076</td>\n",
       "      <td>6.118831</td>\n",
       "      <td>164.9</td>\n",
       "    </tr>\n",
       "    <tr>\n",
       "      <th>1</th>\n",
       "      <td>411.600000</td>\n",
       "      <td>44.5</td>\n",
       "      <td>6.1</td>\n",
       "      <td>22.4</td>\n",
       "      <td>26.0</td>\n",
       "      <td>22.7</td>\n",
       "      <td>55.9</td>\n",
       "      <td>70.2</td>\n",
       "      <td>43.6</td>\n",
       "      <td>31.1</td>\n",
       "      <td>15.3</td>\n",
       "      <td>89.228509</td>\n",
       "      <td>3.741352</td>\n",
       "      <td>45.372500</td>\n",
       "      <td>4.333096</td>\n",
       "      <td>161.3</td>\n",
       "    </tr>\n",
       "    <tr>\n",
       "      <th>2</th>\n",
       "      <td>349.700000</td>\n",
       "      <td>54.2</td>\n",
       "      <td>24.0</td>\n",
       "      <td>36.6</td>\n",
       "      <td>29.0</td>\n",
       "      <td>16.0</td>\n",
       "      <td>45.9</td>\n",
       "      <td>63.7</td>\n",
       "      <td>34.9</td>\n",
       "      <td>42.1</td>\n",
       "      <td>21.1</td>\n",
       "      <td>90.922190</td>\n",
       "      <td>2.747358</td>\n",
       "      <td>54.444868</td>\n",
       "      <td>3.729488</td>\n",
       "      <td>174.7</td>\n",
       "    </tr>\n",
       "    <tr>\n",
       "      <th>3</th>\n",
       "      <td>430.400000</td>\n",
       "      <td>52.7</td>\n",
       "      <td>20.2</td>\n",
       "      <td>41.2</td>\n",
       "      <td>31.6</td>\n",
       "      <td>9.3</td>\n",
       "      <td>48.3</td>\n",
       "      <td>58.4</td>\n",
       "      <td>35.0</td>\n",
       "      <td>45.3</td>\n",
       "      <td>25.0</td>\n",
       "      <td>91.744686</td>\n",
       "      <td>1.362643</td>\n",
       "      <td>51.021514</td>\n",
       "      <td>4.603841</td>\n",
       "      <td>194.8</td>\n",
       "    </tr>\n",
       "    <tr>\n",
       "      <th>4</th>\n",
       "      <td>350.100000</td>\n",
       "      <td>57.8</td>\n",
       "      <td>14.9</td>\n",
       "      <td>43.0</td>\n",
       "      <td>33.4</td>\n",
       "      <td>15.0</td>\n",
       "      <td>48.2</td>\n",
       "      <td>61.6</td>\n",
       "      <td>35.1</td>\n",
       "      <td>44.0</td>\n",
       "      <td>22.7</td>\n",
       "      <td>94.104024</td>\n",
       "      <td>0.492135</td>\n",
       "      <td>54.027460</td>\n",
       "      <td>6.796657</td>\n",
       "      <td>144.4</td>\n",
       "    </tr>\n",
       "    <tr>\n",
       "      <th>...</th>\n",
       "      <td>...</td>\n",
       "      <td>...</td>\n",
       "      <td>...</td>\n",
       "      <td>...</td>\n",
       "      <td>...</td>\n",
       "      <td>...</td>\n",
       "      <td>...</td>\n",
       "      <td>...</td>\n",
       "      <td>...</td>\n",
       "      <td>...</td>\n",
       "      <td>...</td>\n",
       "      <td>...</td>\n",
       "      <td>...</td>\n",
       "      <td>...</td>\n",
       "      <td>...</td>\n",
       "      <td>...</td>\n",
       "    </tr>\n",
       "    <tr>\n",
       "      <th>3041</th>\n",
       "      <td>453.549422</td>\n",
       "      <td>45.1</td>\n",
       "      <td>2.9</td>\n",
       "      <td>17.7</td>\n",
       "      <td>27.7</td>\n",
       "      <td>21.9</td>\n",
       "      <td>68.6</td>\n",
       "      <td>80.0</td>\n",
       "      <td>52.9</td>\n",
       "      <td>24.3</td>\n",
       "      <td>9.5</td>\n",
       "      <td>94.291726</td>\n",
       "      <td>1.014038</td>\n",
       "      <td>43.276779</td>\n",
       "      <td>3.977583</td>\n",
       "      <td>146.4</td>\n",
       "    </tr>\n",
       "    <tr>\n",
       "      <th>3042</th>\n",
       "      <td>453.549422</td>\n",
       "      <td>51.0</td>\n",
       "      <td>20.9</td>\n",
       "      <td>27.9</td>\n",
       "      <td>32.2</td>\n",
       "      <td>15.2</td>\n",
       "      <td>51.7</td>\n",
       "      <td>78.3</td>\n",
       "      <td>44.6</td>\n",
       "      <td>31.7</td>\n",
       "      <td>13.2</td>\n",
       "      <td>90.280811</td>\n",
       "      <td>1.700468</td>\n",
       "      <td>51.063830</td>\n",
       "      <td>7.773512</td>\n",
       "      <td>149.6</td>\n",
       "    </tr>\n",
       "    <tr>\n",
       "      <th>3043</th>\n",
       "      <td>453.549422</td>\n",
       "      <td>52.6</td>\n",
       "      <td>26.7</td>\n",
       "      <td>33.9</td>\n",
       "      <td>23.1</td>\n",
       "      <td>12.4</td>\n",
       "      <td>70.1</td>\n",
       "      <td>64.5</td>\n",
       "      <td>48.6</td>\n",
       "      <td>28.8</td>\n",
       "      <td>17.7</td>\n",
       "      <td>75.706245</td>\n",
       "      <td>14.130288</td>\n",
       "      <td>52.007937</td>\n",
       "      <td>8.186470</td>\n",
       "      <td>150.1</td>\n",
       "    </tr>\n",
       "    <tr>\n",
       "      <th>3044</th>\n",
       "      <td>453.549422</td>\n",
       "      <td>54.8</td>\n",
       "      <td>19.7</td>\n",
       "      <td>44.5</td>\n",
       "      <td>23.0</td>\n",
       "      <td>12.8</td>\n",
       "      <td>64.8</td>\n",
       "      <td>62.0</td>\n",
       "      <td>47.8</td>\n",
       "      <td>26.6</td>\n",
       "      <td>16.8</td>\n",
       "      <td>87.961629</td>\n",
       "      <td>5.680705</td>\n",
       "      <td>55.153949</td>\n",
       "      <td>7.809192</td>\n",
       "      <td>153.9</td>\n",
       "    </tr>\n",
       "    <tr>\n",
       "      <th>3046</th>\n",
       "      <td>453.549422</td>\n",
       "      <td>59.5</td>\n",
       "      <td>8.0</td>\n",
       "      <td>43.3</td>\n",
       "      <td>29.8</td>\n",
       "      <td>13.7</td>\n",
       "      <td>48.8</td>\n",
       "      <td>76.1</td>\n",
       "      <td>22.9</td>\n",
       "      <td>25.1</td>\n",
       "      <td>12.6</td>\n",
       "      <td>70.098132</td>\n",
       "      <td>1.356457</td>\n",
       "      <td>56.040242</td>\n",
       "      <td>8.981723</td>\n",
       "      <td>213.6</td>\n",
       "    </tr>\n",
       "  </tbody>\n",
       "</table>\n",
       "<p>2895 rows × 16 columns</p>\n",
       "</div>"
      ],
      "text/plain": [
       "      incidencerate  percentmarried  pctnohs18_24  pcths18_24  pcths25_over  \\\n",
       "0        489.800000            52.5          11.5        39.5          23.2   \n",
       "1        411.600000            44.5           6.1        22.4          26.0   \n",
       "2        349.700000            54.2          24.0        36.6          29.0   \n",
       "3        430.400000            52.7          20.2        41.2          31.6   \n",
       "4        350.100000            57.8          14.9        43.0          33.4   \n",
       "...             ...             ...           ...         ...           ...   \n",
       "3041     453.549422            45.1           2.9        17.7          27.7   \n",
       "3042     453.549422            51.0          20.9        27.9          32.2   \n",
       "3043     453.549422            52.6          26.7        33.9          23.1   \n",
       "3044     453.549422            54.8          19.7        44.5          23.0   \n",
       "3046     453.549422            59.5           8.0        43.3          29.8   \n",
       "\n",
       "      pctbachdeg25_over  pctemployed16_over  pctprivatecoverage  \\\n",
       "0                  19.6                51.9                75.1   \n",
       "1                  22.7                55.9                70.2   \n",
       "2                  16.0                45.9                63.7   \n",
       "3                   9.3                48.3                58.4   \n",
       "4                  15.0                48.2                61.6   \n",
       "...                 ...                 ...                 ...   \n",
       "3041               21.9                68.6                80.0   \n",
       "3042               15.2                51.7                78.3   \n",
       "3043               12.4                70.1                64.5   \n",
       "3044               12.8                64.8                62.0   \n",
       "3046               13.7                48.8                76.1   \n",
       "\n",
       "      pctempprivcoverage  pctpubliccoverage  pctpubliccoveragealone  \\\n",
       "0                   41.6               32.9                    14.0   \n",
       "1                   43.6               31.1                    15.3   \n",
       "2                   34.9               42.1                    21.1   \n",
       "3                   35.0               45.3                    25.0   \n",
       "4                   35.1               44.0                    22.7   \n",
       "...                  ...                ...                     ...   \n",
       "3041                52.9               24.3                     9.5   \n",
       "3042                44.6               31.7                    13.2   \n",
       "3043                48.6               28.8                    17.7   \n",
       "3044                47.8               26.6                    16.8   \n",
       "3046                22.9               25.1                    12.6   \n",
       "\n",
       "       pctwhite  pctotherrace  pctmarriedhouseholds  birthrate      Y  \n",
       "0     81.780529      1.843479             52.856076   6.118831  164.9  \n",
       "1     89.228509      3.741352             45.372500   4.333096  161.3  \n",
       "2     90.922190      2.747358             54.444868   3.729488  174.7  \n",
       "3     91.744686      1.362643             51.021514   4.603841  194.8  \n",
       "4     94.104024      0.492135             54.027460   6.796657  144.4  \n",
       "...         ...           ...                   ...        ...    ...  \n",
       "3041  94.291726      1.014038             43.276779   3.977583  146.4  \n",
       "3042  90.280811      1.700468             51.063830   7.773512  149.6  \n",
       "3043  75.706245     14.130288             52.007937   8.186470  150.1  \n",
       "3044  87.961629      5.680705             55.153949   7.809192  153.9  \n",
       "3046  70.098132      1.356457             56.040242   8.981723  213.6  \n",
       "\n",
       "[2895 rows x 16 columns]"
      ]
     },
     "execution_count": 357,
     "metadata": {},
     "output_type": "execute_result"
    }
   ],
   "source": [
    "data = data3[significant_inputs].copy()\n",
    "data['Y'] = data3['target_deathrate']\n",
    "data"
   ]
  },
  {
   "cell_type": "markdown",
   "metadata": {},
   "source": [
    "---\n",
    "\n",
    "# Part 4: Feature subset selection "
   ]
  },
  {
   "cell_type": "markdown",
   "metadata": {},
   "source": [
    "## 4.1 Split `data` into training, validation, and testing datasets (done already)\n",
    "\n",
    "We will use 70% of the data for training, 15% for validation, and 15% for testing.\n",
    "\n",
    "1. Define `Dtrain` as the first `Ntrain` rows of `data`.\n",
    "2. Define `Dvalidate` as the next `Nvalidate` rows of `data`.\n",
    "3. Define `Dtest` as the last `Ntest` rows of `data`.\n",
    "\n",
    "Here we use pandas' [iloc](https://pandas.pydata.org/docs/reference/api/pandas.DataFrame.iloc.html) method for selecting the three datasets."
   ]
  },
  {
   "cell_type": "code",
   "execution_count": 358,
   "metadata": {
    "execution": {
     "iopub.execute_input": "2025-03-17T23:12:34.246032Z",
     "iopub.status.busy": "2025-03-17T23:12:34.245902Z",
     "iopub.status.idle": "2025-03-17T23:12:34.248112Z",
     "shell.execute_reply": "2025-03-17T23:12:34.247842Z"
    }
   },
   "outputs": [],
   "source": [
    "Ntrain = round(0.7*N)\n",
    "Nvalidate = round(0.15*N)\n",
    "Ntest = N - Ntrain - Nvalidate\n",
    "Ntrain, Nvalidate, Ntest\n",
    "\n",
    "Dtrain = data.iloc[:Ntrain,:]\n",
    "Dvalidate = data.iloc[Ntrain:Ntrain+Nvalidate,:]\n",
    "Dtest = data.iloc[Ntrain+Nvalidate:,:]"
   ]
  },
  {
   "cell_type": "markdown",
   "metadata": {
    "deletable": false,
    "editable": false
   },
   "source": [
    "## 4.2 Linear regression training function\n",
    "\n",
    "Create a function called `train` that receives a list of features `S` and a dataset `Dtrain` and does the following:\n",
    "1. Selects the features `S` from `Dtrain` and stores them in `X`. (done already)\n",
    "2. Selects the target values from `Dtrain` and stores them in `Y`. (done already)\n",
    "3. Performs the linear regression calculations from parts 2.2, 2.3, and 2.4 (copy your code from those parts into the `train` method)\n",
    "4. Returns the estimated parameters `theta0hat` and `theta1hat`."
   ]
  },
  {
   "cell_type": "code",
   "execution_count": 359,
   "metadata": {
    "execution": {
     "iopub.execute_input": "2025-03-17T23:12:34.249386Z",
     "iopub.status.busy": "2025-03-17T23:12:34.249255Z",
     "iopub.status.idle": "2025-03-17T23:12:34.252198Z",
     "shell.execute_reply": "2025-03-17T23:12:34.251932Z"
    },
    "tags": [
     "otter_answer_cell"
    ]
   },
   "outputs": [],
   "source": [
    "def train(S, Dtrain):\n",
    "\n",
    "    X = Dtrain[list(S)].values\n",
    "    Y = Dtrain['Y'].values\n",
    "\n",
    "    # 2.2 Center the inputs \n",
    "    muhatX = X.mean(axis=0)\n",
    "    Xc = X - muhatX\n",
    "\n",
    "    # 2.3 Center the outputs \n",
    "    muhatY = Y.mean()\n",
    "    Yc = Y - muhatY\n",
    "\n",
    "    # 2.4 Compute the inverse input covariance matrix\n",
    "    invCovX = np.linalg.inv((1 / (N - 1)) * Xc.T @ Xc)\n",
    "    SigmaXY = (1 / (N - 1)) * Xc.T @ Yc\n",
    "    \n",
    "    # 2.5 Compute the least squares estimates of the parameters\n",
    "    theta1hat = invCovX @ SigmaXY\n",
    "    theta0hat = muhatY - (muhatX @ theta1hat)\n",
    "\n",
    "    return theta0hat, theta1hat"
   ]
  },
  {
   "cell_type": "code",
   "execution_count": 360,
   "metadata": {
    "execution": {
     "iopub.execute_input": "2025-03-17T23:12:34.253390Z",
     "iopub.status.busy": "2025-03-17T23:12:34.253220Z",
     "iopub.status.idle": "2025-03-17T23:12:34.255360Z",
     "shell.execute_reply": "2025-03-17T23:12:34.255106Z"
    },
    "tags": [
     "otter_answer_cell"
    ]
   },
   "outputs": [],
   "source": [
    "# Use this cell to test your code\n",
    "\n",
    "# theta0hat, theta1hat = train(['incidencerate','birthrate'], Dtrain)"
   ]
  },
  {
   "cell_type": "code",
   "execution_count": 361,
   "metadata": {
    "deletable": false,
    "editable": false
   },
   "outputs": [
    {
     "data": {
      "text/html": [
       "<p><strong><pre style='display: inline;'>q4p2</pre></strong> passed! 🎉</p>"
      ],
      "text/plain": [
       "q4p2 results: All test cases passed!"
      ]
     },
     "execution_count": 361,
     "metadata": {},
     "output_type": "execute_result"
    }
   ],
   "source": [
    "grader.check(\"q4p2\")"
   ]
  },
  {
   "cell_type": "markdown",
   "metadata": {
    "deletable": false,
    "editable": false
   },
   "source": [
    "## 4.3 Model assessment function\n",
    "\n",
    "Create a function called `assess` that receives the linear regression parameters `theta0hat` and `theta1hat`, their corresponding feature names `S`, and a dataset `D`, which may be the validation, the training, or the testing dataset.\n",
    "\n",
    "The function should evaluate the mean squared error (MSE) of the model using this data.\n",
    "\n",
    "The steps are:\n",
    "1. Select the features `S` from `D` and stores them in `X`. (done already)\n",
    "2. Select the target values from `D` and stores them in `Y`. (done already)\n",
    "3. Compute `Yhat`, as in part 2.6.\n",
    "4. Evaluate MSE:\n",
    "\n",
    "$$MSE = \\frac{1}{N}\\sum_{i=1}^{N} ( y_i-\\hat{y}_i)^2$$"
   ]
  },
  {
   "cell_type": "code",
   "execution_count": 362,
   "metadata": {
    "execution": {
     "iopub.execute_input": "2025-03-17T23:12:34.264149Z",
     "iopub.status.busy": "2025-03-17T23:12:34.264003Z",
     "iopub.status.idle": "2025-03-17T23:12:34.266493Z",
     "shell.execute_reply": "2025-03-17T23:12:34.266242Z"
    },
    "tags": [
     "otter_answer_cell"
    ]
   },
   "outputs": [],
   "source": [
    "def assess( S, theta0hat, theta1hat, D):\n",
    "\n",
    "    X = D[list(S)].values\n",
    "    Y = D['Y'].values\n",
    "\n",
    "    # 2.6 Compute predictions for each of the samples\n",
    "    Yhat = (np.full((1, len(D)), 1) * theta0hat)[0] + (X @ theta1hat)\n",
    "\n",
    "    # 2.7 Model performance\n",
    "    MSE = (1 / len(D)) * sum((Y - Yhat)**2)\n",
    "    \n",
    "    return MSE"
   ]
  },
  {
   "cell_type": "code",
   "execution_count": 363,
   "metadata": {
    "execution": {
     "iopub.execute_input": "2025-03-17T23:12:34.267615Z",
     "iopub.status.busy": "2025-03-17T23:12:34.267433Z",
     "iopub.status.idle": "2025-03-17T23:12:34.269801Z",
     "shell.execute_reply": "2025-03-17T23:12:34.269569Z"
    },
    "tags": [
     "otter_answer_cell"
    ]
   },
   "outputs": [],
   "source": [
    "# Use this cell to test your code\n",
    "\n",
    "# theta0hat, theta1hat = train(['incidencerate','birthrate'], Dtrain)\n",
    "# mse = assess(['incidencerate','birthrate'], theta0hat, theta1hat, Dtrain)"
   ]
  },
  {
   "cell_type": "code",
   "execution_count": 364,
   "metadata": {
    "deletable": false,
    "editable": false
   },
   "outputs": [
    {
     "data": {
      "text/html": [
       "<p><strong><pre style='display: inline;'>q4p3</pre></strong> passed! 💯</p>"
      ],
      "text/plain": [
       "q4p3 results: All test cases passed!"
      ]
     },
     "execution_count": 364,
     "metadata": {},
     "output_type": "execute_result"
    }
   ],
   "source": [
    "grader.check(\"q4p3\")"
   ]
  },
  {
   "cell_type": "markdown",
   "metadata": {},
   "source": [
    "## 4.4 Forward stepwise selection\n",
    "\n",
    "Below is a method that implements the forward stepwise feature selection algorithm that was described by your GSI in lab. \n",
    "\n",
    "This part has no deliverables."
   ]
  },
  {
   "cell_type": "code",
   "execution_count": 365,
   "metadata": {
    "execution": {
     "iopub.execute_input": "2025-03-17T23:12:34.278851Z",
     "iopub.status.busy": "2025-03-17T23:12:34.278699Z",
     "iopub.status.idle": "2025-03-17T23:12:34.281758Z",
     "shell.execute_reply": "2025-03-17T23:12:34.281499Z"
    }
   },
   "outputs": [],
   "source": [
    "def forward_stepwise_selection(all_inputs):\n",
    "\n",
    "    D = len(all_inputs)\n",
    "    setD = set(all_inputs)\n",
    "    setS = [set() for i in range(D+1)]\n",
    "    ellk = np.full(D+1,np.inf)\n",
    "\n",
    "    setS[0] = set()\n",
    "\n",
    "    for k in range(1,D+1):\n",
    "        \n",
    "        setA = [set() for i in range(D-k+1)]\n",
    "        ellkappa = np.full(D-k+1,np.inf)\n",
    "\n",
    "        for kappa, xp in enumerate(setD-setS[k-1]):\n",
    "            setA[kappa] = setS[k-1].union({xp})\n",
    "            theta0hat, theta1hat = train(setA[kappa],Dtrain)\n",
    "            ellkappa[kappa] = assess(setA[kappa], \n",
    "                                     theta0hat,theta1hat, \n",
    "                                     Dvalidate)\n",
    "\n",
    "        kappastar = ellkappa.argmin()\n",
    "        setS[k] = setA[kappastar]\n",
    "        ellk[k] = ellkappa[kappastar]\n",
    "\n",
    "    kstar = ellk.argmin()\n",
    "    Sstar = setS[kstar]\n",
    "    theta0star, theta1star = train(Sstar, Dtrain)\n",
    "    ellstar = assess(Sstar, theta0star, theta1star, Dtest)\n",
    "\n",
    "    return ellk, ellstar, kstar"
   ]
  },
  {
   "cell_type": "code",
   "execution_count": 366,
   "metadata": {
    "execution": {
     "iopub.execute_input": "2025-03-17T23:12:34.282842Z",
     "iopub.status.busy": "2025-03-17T23:12:34.282749Z",
     "iopub.status.idle": "2025-03-17T23:12:34.330519Z",
     "shell.execute_reply": "2025-03-17T23:12:34.330100Z"
    }
   },
   "outputs": [],
   "source": [
    "# You can run forward stepwise selection on the collection of significant inputs\n",
    "\n",
    "# f_ellk, f_ellstar, f_kstar = forward_stepwise_selection(significant_inputs)"
   ]
  },
  {
   "cell_type": "markdown",
   "metadata": {
    "deletable": false,
    "editable": false
   },
   "source": [
    "## 4.5 Backward stepwise selection\n",
    "\n",
    "Implement backward stepwise selection."
   ]
  },
  {
   "cell_type": "code",
   "execution_count": 367,
   "metadata": {
    "execution": {
     "iopub.execute_input": "2025-03-17T23:12:34.331990Z",
     "iopub.status.busy": "2025-03-17T23:12:34.331861Z",
     "iopub.status.idle": "2025-03-17T23:12:34.336429Z",
     "shell.execute_reply": "2025-03-17T23:12:34.336138Z"
    },
    "tags": [
     "otter_answer_cell"
    ]
   },
   "outputs": [],
   "source": [
    "def backward_stepwise_selection(all_inputs):\n",
    "    D = len(all_inputs)\n",
    "    setD = set(all_inputs)\n",
    "    setS = [set() for i in range(D + 1)]\n",
    "    ellk = np.full(D + 1, np.inf)\n",
    "\n",
    "    # Start with all features\n",
    "    setS[0] = setD.copy()\n",
    "\n",
    "    for k in range(1, D + 1):\n",
    "        setA = [set() for i in range(D - k + 1)]\n",
    "        ellkappa = np.full(D - k + 1, np.inf)\n",
    "\n",
    "        for kappa, xp in enumerate(setS[k - 1]):\n",
    "            setA[kappa] = setS[k - 1].difference({xp})\n",
    "            theta0hat, theta1hat = train(setA[kappa], Dtrain)\n",
    "            ellkappa[kappa] = assess(setA[kappa], theta0hat, theta1hat, Dvalidate)\n",
    "\n",
    "        kappastar = ellkappa.argmin()\n",
    "        setS[k] = setA[kappastar]\n",
    "        ellk[k] = ellkappa[kappastar]\n",
    "\n",
    "    # Select the best subset (lowest validation error)\n",
    "    kstar = ellk.argmin()\n",
    "    Sstar = setS[kstar]\n",
    "    theta0star, theta1star = train(Sstar, Dtrain)\n",
    "    ellstar = assess(Sstar, theta0star, theta1star, Dtest)\n",
    "\n",
    "    return ellk, ellstar, D - kstar"
   ]
  },
  {
   "cell_type": "code",
   "execution_count": 368,
   "metadata": {
    "execution": {
     "iopub.execute_input": "2025-03-17T23:12:34.337613Z",
     "iopub.status.busy": "2025-03-17T23:12:34.337449Z",
     "iopub.status.idle": "2025-03-17T23:12:34.388062Z",
     "shell.execute_reply": "2025-03-17T23:12:34.387653Z"
    },
    "tags": [
     "otter_answer_cell"
    ]
   },
   "outputs": [],
   "source": [
    "# Use this cell to test your code\n",
    "\n",
    "# b_ellk, b_ellstar, b_kstar = backward_stepwise_selection(significant_inputs)"
   ]
  },
  {
   "cell_type": "code",
   "execution_count": 369,
   "metadata": {
    "deletable": false,
    "editable": false
   },
   "outputs": [
    {
     "data": {
      "text/html": [
       "<p><strong><pre style='display: inline;'>q4p5</pre></strong> passed! 🌟</p>"
      ],
      "text/plain": [
       "q4p5 results: All test cases passed!"
      ]
     },
     "execution_count": 369,
     "metadata": {},
     "output_type": "execute_result"
    }
   ],
   "source": [
    "grader.check(\"q4p5\")"
   ]
  },
  {
   "cell_type": "markdown",
   "metadata": {},
   "source": [
    "## Plot\n",
    "\n",
    "The following plot shows the results of forward and backward stepwise feature selection for this regression problem. In each case, the star indicates the test error for the model with the smallest validation error."
   ]
  },
  {
   "cell_type": "code",
   "execution_count": 370,
   "metadata": {
    "execution": {
     "iopub.execute_input": "2025-03-17T23:12:34.449425Z",
     "iopub.status.busy": "2025-03-17T23:12:34.449299Z",
     "iopub.status.idle": "2025-03-17T23:12:34.640771Z",
     "shell.execute_reply": "2025-03-17T23:12:34.640462Z"
    }
   },
   "outputs": [],
   "source": [
    "# f_ellk, f_ellstar, f_kstar = forward_stepwise_selection(significant_inputs)\n",
    "# b_ellk, b_ellstar, b_kstar = backward_stepwise_selection(significant_inputs)\n",
    "# D = len(significant_inputs)\n",
    "\n",
    "# plt.figure(figsize=(10,5))\n",
    "\n",
    "# plt.plot(range(D+1),f_ellk,'o-',color='blue',label='forward',linewidth=3)\n",
    "# plt.plot([f_kstar,f_kstar],[f_ellk[f_kstar],f_ellstar],color='blue',linestyle='--',linewidth=2)\n",
    "# plt.plot(f_kstar,f_ellstar,'*',color='blue',markersize=22)\n",
    "\n",
    "# c = 'darkorange'\n",
    "# plt.plot(range(D+1),b_ellk,'o-',color=c,label='backward',linewidth=2)\n",
    "# plt.plot([b_kstar,b_kstar],[b_ellk[b_kstar],b_ellstar],color=c,linestyle=':',linewidth=2)\n",
    "# plt.plot(b_kstar,b_ellstar,'*',color=c,markersize=16)\n",
    "# plt.legend(fontsize=16)\n",
    "\n",
    "# plt.grid(linestyle=':')\n",
    "\n",
    "# plt.ylim(340,480)\n",
    "# plt.xlim(0,16)\n",
    "# plt.xticks(range(16),fontsize=16)\n",
    "# plt.xlabel('k',fontsize=16)\n",
    "# plt.ylabel('MSE',fontsize=16)"
   ]
  },
  {
   "cell_type": "markdown",
   "metadata": {
    "deletable": false,
    "editable": false
   },
   "source": [
    "---\n",
    "\n",
    "To double-check your work, the cell below will rerun all of the autograder tests."
   ]
  },
  {
   "cell_type": "code",
   "execution_count": 371,
   "metadata": {
    "deletable": false,
    "editable": false
   },
   "outputs": [
    {
     "data": {
      "text/plain": [
       "q1p2 results: All test cases passed!\n",
       "\n",
       "q1p3 results: All test cases passed!\n",
       "\n",
       "q1p4 results: All test cases passed!\n",
       "\n",
       "q1p5 results: All test cases passed!\n",
       "\n",
       "q1p6 results: All test cases passed!\n",
       "\n",
       "q2p1 results: All test cases passed!\n",
       "\n",
       "q2p2 results: All test cases passed!\n",
       "\n",
       "q2p3 results: All test cases passed!\n",
       "\n",
       "q2p4 results: All test cases passed!\n",
       "\n",
       "q2p5 results: All test cases passed!\n",
       "\n",
       "q2p6 results: All test cases passed!\n",
       "\n",
       "q2p7 results: All test cases passed!\n",
       "\n",
       "q2p8 results: All test cases passed!\n",
       "\n",
       "q3p1 results: All test cases passed!\n",
       "\n",
       "q3p2 results: All test cases passed!\n",
       "\n",
       "q3p3 results: All test cases passed!\n",
       "\n",
       "q3p4 results: All test cases passed!\n",
       "\n",
       "q3p6 results: All test cases passed!\n",
       "\n",
       "q4p2 results: All test cases passed!\n",
       "\n",
       "q4p3 results: All test cases passed!\n",
       "\n",
       "q4p5 results: All test cases passed!"
      ]
     },
     "execution_count": 371,
     "metadata": {},
     "output_type": "execute_result"
    }
   ],
   "source": [
    "grader.check_all()"
   ]
  },
  {
   "cell_type": "markdown",
   "metadata": {
    "deletable": false,
    "editable": false
   },
   "source": [
    "## Submission\n",
    "\n",
    "Make sure you have run all cells in your notebook in order before running the cell below, so that all images/graphs appear in the output. The cell below will generate a zip file for you to submit. **Please save before exporting!**\n",
    "\n",
    "Make sure you submit the .zip file to Gradescope."
   ]
  },
  {
   "cell_type": "code",
   "execution_count": 372,
   "metadata": {
    "deletable": false,
    "editable": false
   },
   "outputs": [
    {
     "data": {
      "text/html": [
       "\n",
       "                    <p>\n",
       "                        Your submission has been exported. Click\n",
       "                        <a href=\"lab4_2025_04_01T17_59_52_116323.zip\" download=\"lab4_2025_04_01T17_59_52_116323.zip\" target=\"_blank\">here</a> to download\n",
       "                        the zip file.\n",
       "                    </p>\n",
       "                "
      ],
      "text/plain": [
       "<IPython.core.display.HTML object>"
      ]
     },
     "metadata": {},
     "output_type": "display_data"
    }
   ],
   "source": [
    "# Save your notebook first, then run this cell to export your submission.\n",
    "grader.export(pdf=False)"
   ]
  },
  {
   "cell_type": "markdown",
   "metadata": {},
   "source": [
    " "
   ]
  }
 ],
 "metadata": {
  "kernelspec": {
   "display_name": "RajDS",
   "language": "python",
   "name": "python3"
  },
  "language_info": {
   "codemirror_mode": {
    "name": "ipython",
    "version": 3
   },
   "file_extension": ".py",
   "mimetype": "text/x-python",
   "name": "python",
   "nbconvert_exporter": "python",
   "pygments_lexer": "ipython3",
   "version": "3.12.8"
  },
  "otter": {
   "OK_FORMAT": true,
   "assignment_name": "lab4",
   "tests": {
    "q1p2": {
     "name": "q1p2",
     "points": null,
     "suites": [
      {
       "cases": [
        {
         "code": ">>> non_numerical_inputs == {'geography', 'binnedinc'}\nTrue",
         "hidden": false,
         "locked": false,
         "points": 1
        },
        {
         "code": ">>> null_entry_inputs == {'pctsomecol18_24', 'pctprivatecoveragealone', 'pctemployed16_over'}\nTrue",
         "hidden": false,
         "locked": false,
         "points": 1
        }
       ],
       "scored": true,
       "setup": "",
       "teardown": "",
       "type": "doctest"
      }
     ]
    },
    "q1p3": {
     "name": "q1p3",
     "points": null,
     "suites": [
      {
       "cases": [
        {
         "code": ">>> data1.shape[0] > 3000 and data1.shape[0] < 3100\nTrue",
         "hidden": false,
         "locked": false,
         "points": 0
        },
        {
         "code": ">>> data1.shape[1] == 26\nTrue",
         "hidden": false,
         "locked": false,
         "points": 0
        },
        {
         "code": ">>> A = data1.columns.to_numpy().copy()\n>>> A.sort()\n>>> h = [get_hash(a) for a in A]\n>>> h == ['0ad6752935593b398c5b2e03e67956a8', '01915914efcc68fd29e1958648d4ad9a', '6e2ef10ca497cec351147c5548df65b0', 'bd6282c738ee849dcf6df51cbacb6fb6', '9aed79c74c3b56d88a469bd924d5536a', 'f6f19e7962a9cb1519a04973bb9e8767', '019ecaf6b6730586dfbed865d892a780', '426951735326c71c501d00ef63df3e71', '311b38f064bf47006677ad0580e442f8', 'ea892d7d8efd039319033bd345077f3b', '98af7560c20e755217434ab3ef503d00', 'b0b242280111a535759eeaece794e5cf', 'c7f0a021cd78750c0d124f83b0fdb731', '979395d25696c193bd3e11f9b7f625db', '5aa96cfedb0cd72cf87612147fab5aba', '3c2052cb47e7261583fabe6f76b74a64', '1d4775730357445b9b289574d854c3c5', 'f636665ff9d00921e2e0178931e00cf3', '46926b87727f040d06ae16b5f01f858e', 'c096e7dd49576ce7b9be6461f5c3650f', '0941e7200c731e193120b119d5e3be71', '7c85111de502c96aba2feafba12005d4', 'b533d326331997223720398741cb3f93', '9862bc7c6c3f3bf6b5bdd11faf2b18c2', 'eb4ff559f5f2be0b9d8ee50d9532703e', '102fb5f603a205bd350961efb6054b1c']\nTrue",
         "hidden": false,
         "locked": false,
         "points": 3
        }
       ],
       "scored": true,
       "setup": "",
       "teardown": "",
       "type": "doctest"
      }
     ]
    },
    "q1p4": {
     "name": "q1p4",
     "points": null,
     "suites": [
      {
       "cases": [
        {
         "code": ">>> thresh > 2700 and thresh < 2800\nTrue",
         "hidden": false,
         "locked": false,
         "points": 0
        },
        {
         "code": ">>> data2.shape[1] == 24\nTrue",
         "hidden": false,
         "locked": false,
         "points": 0
        },
        {
         "code": ">>> get_hash(thresh, 4) == '4fd32b31ea0748490ef09f7fe56b8d6f'\nTrue",
         "hidden": false,
         "locked": false,
         "points": 1
        },
        {
         "code": ">>> A = data2.columns.to_list()\n>>> A.sort()\n>>> [get_hash(a) for a in A] == ['0ad6752935593b398c5b2e03e67956a8', '01915914efcc68fd29e1958648d4ad9a', '6e2ef10ca497cec351147c5548df65b0', 'bd6282c738ee849dcf6df51cbacb6fb6', '9aed79c74c3b56d88a469bd924d5536a', 'f6f19e7962a9cb1519a04973bb9e8767', '019ecaf6b6730586dfbed865d892a780', '426951735326c71c501d00ef63df3e71', '311b38f064bf47006677ad0580e442f8', 'ea892d7d8efd039319033bd345077f3b', '98af7560c20e755217434ab3ef503d00', 'b0b242280111a535759eeaece794e5cf', 'c7f0a021cd78750c0d124f83b0fdb731', '979395d25696c193bd3e11f9b7f625db', '5aa96cfedb0cd72cf87612147fab5aba', '3c2052cb47e7261583fabe6f76b74a64', '1d4775730357445b9b289574d854c3c5', '46926b87727f040d06ae16b5f01f858e', 'c096e7dd49576ce7b9be6461f5c3650f', '7c85111de502c96aba2feafba12005d4', 'b533d326331997223720398741cb3f93', '9862bc7c6c3f3bf6b5bdd11faf2b18c2', 'eb4ff559f5f2be0b9d8ee50d9532703e', '102fb5f603a205bd350961efb6054b1c']\nTrue",
         "hidden": false,
         "locked": false,
         "points": 1
        }
       ],
       "scored": true,
       "setup": "",
       "teardown": "",
       "type": "doctest"
      }
     ]
    },
    "q1p5": {
     "name": "q1p5",
     "points": null,
     "suites": [
      {
       "cases": [
        {
         "code": ">>> data3.shape == (2895, 24)\nTrue",
         "hidden": false,
         "locked": false,
         "points": 0
        },
        {
         "code": ">>> get_hash(data3.index, 4) == '5e33b407227c7dda3c52b4b51485be0e'\nTrue",
         "hidden": false,
         "locked": false,
         "points": 1
        }
       ],
       "scored": true,
       "setup": "",
       "teardown": "",
       "type": "doctest"
      }
     ]
    },
    "q1p6": {
     "name": "q1p6",
     "points": null,
     "suites": [
      {
       "cases": [
        {
         "code": ">>> corr_target_sort.shape == (24,)\nTrue",
         "hidden": false,
         "locked": false,
         "points": 0
        },
        {
         "code": ">>> A = top_5_sort.copy()\n>>> A.sort()\n>>> h = [get_hash(a) for a in A]\n>>> h == ['6e2ef10ca497cec351147c5548df65b0', '9aed79c74c3b56d88a469bd924d5536a', '426951735326c71c501d00ef63df3e71', 'c096e7dd49576ce7b9be6461f5c3650f', 'eb4ff559f5f2be0b9d8ee50d9532703e']\nTrue",
         "hidden": false,
         "locked": false,
         "points": 3
        }
       ],
       "scored": true,
       "setup": "",
       "teardown": "",
       "type": "doctest"
      }
     ]
    },
    "q2p1": {
     "name": "q2p1",
     "points": null,
     "suites": [
      {
       "cases": [
        {
         "code": ">>> N > 1000 and N < 3000 and (D > 10) and (D < 30) and (all_inputs.shape[0] == 23) and (Y.shape[0] == 2895) and (X.shape == (2895, 23))\nTrue",
         "hidden": false,
         "locked": false,
         "points": 0
        },
        {
         "code": ">>> get_hash(N, 4) == 'c455fdadcc5232e7e119979863ef3848'\nTrue",
         "hidden": false,
         "locked": false,
         "points": 1
        },
        {
         "code": ">>> get_hash(D, 2) == '6bc071ec71e51c704acd13cdc898fd93'\nTrue",
         "hidden": false,
         "locked": false,
         "points": 1
        }
       ],
       "scored": true,
       "setup": "",
       "teardown": "",
       "type": "doctest"
      }
     ]
    },
    "q2p2": {
     "name": "q2p2",
     "points": null,
     "suites": [
      {
       "cases": [
        {
         "code": ">>> muhatX.shape == (23,)\nTrue",
         "hidden": false,
         "locked": false,
         "points": 0
        },
        {
         "code": ">>> Xc.shape == (2895, 23)\nTrue",
         "hidden": false,
         "locked": false,
         "points": 0
        },
        {
         "code": ">>> get_hash(muhatX, 4) == 'd3b9e3451b30c05adf3eae1beb231ce9'\nTrue",
         "hidden": false,
         "locked": false,
         "points": 2
        },
        {
         "code": ">>> get_hash(Xc, 3) == '02f312181e07841edaa62e20c1c346c7'\nTrue",
         "hidden": false,
         "locked": false,
         "points": 2
        }
       ],
       "scored": true,
       "setup": "",
       "teardown": "",
       "type": "doctest"
      }
     ]
    },
    "q2p3": {
     "name": "q2p3",
     "points": null,
     "suites": [
      {
       "cases": [
        {
         "code": ">>> muhatY > 150 and muhatY < 200 and (Yc.shape == (2895,))\nTrue",
         "hidden": false,
         "locked": false,
         "points": 0
        },
        {
         "code": ">>> get_hash(muhatY, 4) == '7262c932665bb83af233f3ac9c4ab604'\nTrue",
         "hidden": false,
         "locked": false,
         "points": 2
        },
        {
         "code": ">>> get_hash(Yc, 4) == '343cfcc5198ad67c6fcb742a3bbaad05'\nTrue",
         "hidden": false,
         "locked": false,
         "points": 2
        }
       ],
       "scored": true,
       "setup": "",
       "teardown": "",
       "type": "doctest"
      }
     ]
    },
    "q2p4": {
     "name": "q2p4",
     "points": null,
     "suites": [
      {
       "cases": [
        {
         "code": ">>> Sigma2X.shape == (23, 23)\nTrue",
         "hidden": false,
         "locked": false,
         "points": 0
        },
        {
         "code": ">>> get_hash(Sigma2X, 4) == '3fff0db39e3dd3a2679b7ae71db2527a'\nTrue",
         "hidden": false,
         "locked": false,
         "points": 3
        }
       ],
       "scored": true,
       "setup": "",
       "teardown": "",
       "type": "doctest"
      }
     ]
    },
    "q2p5": {
     "name": "q2p5",
     "points": null,
     "suites": [
      {
       "cases": [
        {
         "code": ">>> SigmaXY.shape == (23,)\nTrue",
         "hidden": false,
         "locked": false,
         "points": 0
        },
        {
         "code": ">>> get_hash(SigmaXY, 4) == '986c4c1351dfc304be35f35f5fc6c45f'\nTrue",
         "hidden": false,
         "locked": false,
         "points": 3
        }
       ],
       "scored": true,
       "setup": "",
       "teardown": "",
       "type": "doctest"
      }
     ]
    },
    "q2p6": {
     "name": "q2p6",
     "points": null,
     "suites": [
      {
       "cases": [
        {
         "code": ">>> theta1hat.shape[0] == 23 and theta0hat.shape == ()\nTrue",
         "hidden": false,
         "locked": false,
         "points": 0
        },
        {
         "code": ">>> get_hash(theta1hat, 4) == '598d817c35ff8dd43907a6470ed5ebfa'\nTrue",
         "hidden": false,
         "locked": false,
         "points": 2
        },
        {
         "code": ">>> get_hash(theta0hat, 4) == 'aa75626390499106698bbc42e492af3a'\nTrue",
         "hidden": false,
         "locked": false,
         "points": 2
        }
       ],
       "scored": true,
       "setup": "",
       "teardown": "",
       "type": "doctest"
      }
     ]
    },
    "q2p7": {
     "name": "q2p7",
     "points": null,
     "suites": [
      {
       "cases": [
        {
         "code": ">>> Yhat.shape == (2895,)\nTrue",
         "hidden": false,
         "locked": false,
         "points": 0
        },
        {
         "code": ">>> get_hash(Yhat, 4) == '1f8b043cdf729e97b6f8b8592bed2336'\nTrue",
         "hidden": false,
         "locked": false,
         "points": 2
        }
       ],
       "scored": true,
       "setup": "",
       "teardown": "",
       "type": "doctest"
      }
     ]
    },
    "q2p8": {
     "name": "q2p8",
     "points": null,
     "suites": [
      {
       "cases": [
        {
         "code": ">>> bool(R2 > 0.5 and R2 < 0.6)\nTrue",
         "hidden": false,
         "locked": false,
         "points": 0
        },
        {
         "code": ">>> get_hash(R2, 4) == 'f71f388290a0e65c50c79a675b8f1811'\nTrue",
         "hidden": false,
         "locked": false,
         "points": 1
        }
       ],
       "scored": true,
       "setup": "",
       "teardown": "",
       "type": "doctest"
      }
     ]
    },
    "q3p1": {
     "name": "q3p1",
     "points": null,
     "suites": [
      {
       "cases": [
        {
         "code": ">>> bool(sigmahat2 > 300 and sigmahat2 < 400)\nTrue",
         "hidden": false,
         "locked": false,
         "points": 0
        },
        {
         "code": ">>> get_hash(sigmahat2, 4) == 'd4dbd5f2e721125a067d995f84a394f0'\nTrue",
         "hidden": false,
         "locked": false,
         "points": 2
        }
       ],
       "scored": true,
       "setup": "",
       "teardown": "",
       "type": "doctest"
      }
     ]
    },
    "q3p2": {
     "name": "q3p2",
     "points": null,
     "suites": [
      {
       "cases": [
        {
         "code": ">>> var_thetahat.shape[0] == 23\nTrue",
         "hidden": false,
         "locked": false,
         "points": 0
        },
        {
         "code": ">>> get_hash(var_thetahat, 4) == '53ec6c6ab5e14697ed4eed1de7877090'\nTrue",
         "hidden": false,
         "locked": false,
         "points": 2
        }
       ],
       "scored": true,
       "setup": "",
       "teardown": "",
       "type": "doctest"
      }
     ]
    },
    "q3p3": {
     "name": "q3p3",
     "points": null,
     "suites": [
      {
       "cases": [
        {
         "code": ">>> rho.shape == (23,)\nTrue",
         "hidden": false,
         "locked": false,
         "points": 0
        },
        {
         "code": ">>> get_hash(rho, 4) == '68e52ca65ae047457e67cb4d8d3b53d8'\nTrue",
         "hidden": false,
         "locked": false,
         "points": 2
        }
       ],
       "scored": true,
       "setup": "",
       "teardown": "",
       "type": "doctest"
      }
     ]
    },
    "q3p4": {
     "name": "q3p4",
     "points": null,
     "suites": [
      {
       "cases": [
        {
         "code": ">>> bool(np.sum(significant) == 15)\nTrue",
         "hidden": false,
         "locked": false,
         "points": 0
        },
        {
         "code": ">>> get_hash(rho, 4) == '68e52ca65ae047457e67cb4d8d3b53d8'\nTrue",
         "hidden": false,
         "locked": false,
         "points": 2
        }
       ],
       "scored": true,
       "setup": "",
       "teardown": "",
       "type": "doctest"
      }
     ]
    },
    "q3p6": {
     "name": "q3p6",
     "points": null,
     "suites": [
      {
       "cases": [
        {
         "code": ">>> type(significant_inputs) == np.ndarray\nTrue",
         "hidden": false,
         "locked": false,
         "points": 1
        },
        {
         "code": ">>> significant_inputs.shape == (15,)\nTrue",
         "hidden": false,
         "locked": false,
         "points": 0
        },
        {
         "code": ">>> A = significant_inputs.copy()\n>>> A.sort()\n>>> [get_hash(a) for a in A] == ['01915914efcc68fd29e1958648d4ad9a', '6e2ef10ca497cec351147c5548df65b0', '426951735326c71c501d00ef63df3e71', 'ea892d7d8efd039319033bd345077f3b', '98af7560c20e755217434ab3ef503d00', 'b0b242280111a535759eeaece794e5cf', 'c7f0a021cd78750c0d124f83b0fdb731', '979395d25696c193bd3e11f9b7f625db', '5aa96cfedb0cd72cf87612147fab5aba', '3c2052cb47e7261583fabe6f76b74a64', '1d4775730357445b9b289574d854c3c5', '46926b87727f040d06ae16b5f01f858e', 'c096e7dd49576ce7b9be6461f5c3650f', 'b533d326331997223720398741cb3f93', '9862bc7c6c3f3bf6b5bdd11faf2b18c2']\nTrue",
         "hidden": false,
         "locked": false,
         "points": 1
        }
       ],
       "scored": true,
       "setup": "",
       "teardown": "",
       "type": "doctest"
      }
     ]
    },
    "q4p2": {
     "name": "q4p2",
     "points": null,
     "suites": [
      {
       "cases": [
        {
         "code": ">>> theta0hat, theta1hat = train(['incidencerate', 'birthrate'], Dtrain)\n>>> bool(np.isclose(theta0hat, 92.08, atol=0.01) and np.all(np.isclose(theta1hat, [0.196, -0.245], atol=0.01)))\nTrue",
         "hidden": false,
         "locked": false,
         "points": 0
        },
        {
         "code": ">>> theta0hat, theta1hat = train(['pctnohs18_24', 'pcths18_24', 'pcths25_over'], Dtrain)\n>>> get_hash(theta0hat, 4) == 'a2f0b5d8ec2cf04c504d7552105fe286' and get_hash(theta1hat, 4) == 'f5d744e0744194880b0804a36740335d'\nTrue",
         "hidden": false,
         "locked": false,
         "points": 4
        }
       ],
       "scored": true,
       "setup": "",
       "teardown": "",
       "type": "doctest"
      }
     ]
    },
    "q4p3": {
     "name": "q4p3",
     "points": null,
     "suites": [
      {
       "cases": [
        {
         "code": ">>> theta0hat, theta1hat = train(['incidencerate', 'birthrate'], Dtrain)\n>>> mse = assess(['incidencerate', 'birthrate'], theta0hat, theta1hat, Dtrain)\n>>> bool(np.isclose(mse, 609.692, atol=0.01))\nTrue",
         "hidden": false,
         "locked": false,
         "points": 0
        },
        {
         "code": ">>> theta0hat, theta1hat = train(['pctnohs18_24', 'pcths18_24', 'pcths25_over'], Dtrain)\n>>> mse = assess(['pctnohs18_24', 'pcths18_24', 'pcths25_over'], theta0hat, theta1hat, Dtrain)\n>>> get_hash(mse, 4) == '0ae47fda3c3156a910fd29ca5c08f2c8'\nTrue",
         "hidden": false,
         "locked": false,
         "points": 3
        }
       ],
       "scored": true,
       "setup": "",
       "teardown": "",
       "type": "doctest"
      }
     ]
    },
    "q4p5": {
     "name": "q4p5",
     "points": null,
     "suites": [
      {
       "cases": [
        {
         "code": ">>> b_ellk, b_ellstar, b_kstar = backward_stepwise_selection(significant_inputs)\n>>> b_ellk.shape == (16,) and bool(b_ellstar > 400 and b_ellstar < 450)\nTrue",
         "hidden": false,
         "locked": false,
         "points": 0
        },
        {
         "code": ">>> get_hash(b_ellstar, 4) == '2a328cccc9fe2d321a6da1cd250fabf2'\nTrue",
         "hidden": false,
         "locked": false,
         "points": 2
        },
        {
         "code": ">>> get_hash(b_kstar, 2) == '02ad845d2f8ac57a5c265ea083b2169b'\nTrue",
         "hidden": false,
         "locked": false,
         "points": 2
        }
       ],
       "scored": true,
       "setup": "",
       "teardown": "",
       "type": "doctest"
      }
     ]
    }
   }
  }
 },
 "nbformat": 4,
 "nbformat_minor": 4
}
