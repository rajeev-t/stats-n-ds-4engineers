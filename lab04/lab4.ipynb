{
 "cells": [
  {
   "cell_type": "code",
   "execution_count": null,
   "metadata": {
    "deletable": false,
    "editable": false
   },
   "outputs": [],
   "source": [
    "# Initialize Otter\n",
    "import otter\n",
    "grader = otter.Notebook(\"lab4.ipynb\")"
   ]
  },
  {
   "cell_type": "markdown",
   "metadata": {},
   "source": [
    "---\n",
    "\n",
    "<h1><center>SDSE Lab 4 <br><br> Linear regression and Feature selection </center></h1>\n",
    "\n",
    "---\n",
    "\n",
    "In this lab we will use linear regression to predict cancer mortality rates based on data obtained from the American Community Survey of the [U.S. Census Bureau](https://www.census.gov/). The lab has four parts. In part 1 you will load the data and do basic manipulations using [pandas](https://pandas.pydata.org/docs/index.html). Pandas is a Python package that specializes in tabular data. It is widely used in data science and machine learning since the data in these fields are usually structured as a table. Pandas is a very powerful library that is well worth investing some time in. [Here](https://pandas.pydata.org/docs/getting_started/index.html#getting-started) and [here](https://pandas.pydata.org/docs/user_guide/index.html) are resources to learn more.\n",
    "\n",
    "In part 2 you will perform linear regression on the full feature set. In part 3 you will compute confidence intervals on the paramters from part 2. Finally, in part 4 you will run the forward and backward stepwise feature selection algorithms and estimate the performance of the resulting model using a test dataset."
   ]
  },
  {
   "cell_type": "code",
   "execution_count": null,
   "metadata": {
    "execution": {
     "iopub.execute_input": "2025-03-17T23:12:33.183099Z",
     "iopub.status.busy": "2025-03-17T23:12:33.182542Z",
     "iopub.status.idle": "2025-03-17T23:12:33.882239Z",
     "shell.execute_reply": "2025-03-17T23:12:33.881639Z"
    }
   },
   "outputs": [],
   "source": [
    "import numpy as np\n",
    "import matplotlib.pyplot as plt\n",
    "import pandas as pd\n",
    "import scipy.stats as stats\n",
    "from resources.hashutils import *"
   ]
  },
  {
   "cell_type": "markdown",
   "metadata": {},
   "source": [
    "# Part 1:  Loading and cleaning the data"
   ]
  },
  {
   "cell_type": "markdown",
   "metadata": {
    "deletable": false,
    "editable": false
   },
   "source": [
    "## 1.1 Load the data into a pandas DataFrame\n",
    "\n",
    "Use [pd.read_csv](https://pandas.pydata.org/docs/reference/api/pandas.read_csv.html) to load the data from `cancerdata.csv`.\n",
    "\n",
    "You can obtain information about the data using these DataFrame methods and attributes:\n",
    "+ [`data0.head()`](https://pandas.pydata.org/docs/reference/api/pandas.DataFrame.head.html): displays the first 5 rows of the DataFrame.\n",
    "+ [`data0.tail()`](https://pandas.pydata.org/docs/reference/api/pandas.DataFrame.tail.html): displays the last 5 rows of the DataFrame.\n",
    "+ [`data0.shape`](https://pandas.pydata.org/docs/reference/api/pandas.DataFrame.shape.html): a tuple with the number of rows and of columns in the DataFrame.\n",
    "+ [`data0.columns`](https://pandas.pydata.org/docs/reference/api/pandas.DataFrame.columns.html): the column headers.\n",
    "+ [`data0.index`](https://pandas.pydata.org/docs/reference/api/pandas.DataFrame.index.html): a unique identifier for each row."
   ]
  },
  {
   "cell_type": "code",
   "execution_count": null,
   "metadata": {
    "execution": {
     "iopub.execute_input": "2025-03-17T23:12:33.884305Z",
     "iopub.status.busy": "2025-03-17T23:12:33.883929Z",
     "iopub.status.idle": "2025-03-17T23:12:33.895557Z",
     "shell.execute_reply": "2025-03-17T23:12:33.895270Z"
    },
    "tags": [
     "otter_answer_cell"
    ]
   },
   "outputs": [],
   "source": [
    "data0 = ...  # TODO"
   ]
  },
  {
   "cell_type": "markdown",
   "metadata": {
    "deletable": false,
    "editable": false
   },
   "source": [
    "## 1.2 Inspect columns\n",
    "\n",
    "Run `data0.info()` and note:\n",
    " a) which inputs are non-numerical (Dtype=object), and\n",
    " b) which inputs have null entries (Non-Null Count<3047).\n",
    "\n",
    "Store the names ('Column' entry) of the non-numerical inputs in a [set](https://www.w3schools.com/python/python_sets.asp) called `non_numerical_inputs`. Store the names of inputs with null entries in a set called `null_entry_inputs`.\n",
    "\n",
    "**Note**: If not all of the rows of `data0.info()` are displayed, you'll probably have this message at the bottom:\n",
    "\n",
    "*``Output is truncated. View as a scrollable element or open in a text editor. Adjust cell output settings...''*"
   ]
  },
  {
   "cell_type": "code",
   "execution_count": null,
   "metadata": {
    "execution": {
     "iopub.execute_input": "2025-03-17T23:12:33.919045Z",
     "iopub.status.busy": "2025-03-17T23:12:33.918894Z",
     "iopub.status.idle": "2025-03-17T23:12:33.925724Z",
     "shell.execute_reply": "2025-03-17T23:12:33.925355Z"
    },
    "tags": [
     "otter_answer_cell"
    ]
   },
   "outputs": [],
   "source": [
    "data0.info()\n",
    "non_numerical_inputs = {...,...}      # TODO\n",
    "null_entry_inputs = {...,...,...}     # TODO"
   ]
  },
  {
   "cell_type": "code",
   "execution_count": null,
   "metadata": {
    "deletable": false,
    "editable": false
   },
   "outputs": [],
   "source": [
    "grader.check(\"q1p2\")"
   ]
  },
  {
   "cell_type": "markdown",
   "metadata": {
    "deletable": false,
    "editable": false
   },
   "source": [
    "## 1.3 Discard non-numerical columns\n",
    "\n",
    "Remove the two columns with non-numeric data.\n",
    "\n",
    "Hints:\n",
    "+ `data0.dtypes` lists the data types for each column.\n",
    "+ You can construct a boolean mask for non-numeric columns with `data0.dtypes=='object'`.\n",
    "+ Use that mask to index `data.columns`\n",
    "+ Use [`data0.drop`](https://pandas.pydata.org/docs/reference/api/pandas.DataFrame.drop.html) to remove the selected columns.\n",
    "+ Save the result as `data1`"
   ]
  },
  {
   "cell_type": "code",
   "execution_count": null,
   "metadata": {
    "execution": {
     "iopub.execute_input": "2025-03-17T23:12:33.933687Z",
     "iopub.status.busy": "2025-03-17T23:12:33.933411Z",
     "iopub.status.idle": "2025-03-17T23:12:33.936890Z",
     "shell.execute_reply": "2025-03-17T23:12:33.936608Z"
    },
    "tags": [
     "otter_answer_cell"
    ]
   },
   "outputs": [],
   "source": [
    "ind = ...               # TODO\n",
    "drop_cols = ...         # TODO\n",
    "data1 = data0.drop(...)       # TODO"
   ]
  },
  {
   "cell_type": "code",
   "execution_count": null,
   "metadata": {
    "deletable": false,
    "editable": false
   },
   "outputs": [],
   "source": [
    "grader.check(\"q1p3\")"
   ]
  },
  {
   "cell_type": "markdown",
   "metadata": {
    "deletable": false,
    "editable": false
   },
   "source": [
    "## 1.4 Discard columns where more than 10% of values are nan\n",
    "\n",
    "Hints:\n",
    "+ [`.dropna`](https://pandas.pydata.org/docs/reference/api/pandas.DataFrame.dropna.html)\n",
    "+ Use `axis=1` to drop columns (as opposed to `axis=1` for rows.\n",
    "+ Use the `thresh` argument. The condition for dropping a column is that it has less than `round(0.9*data1.shape[0])` non-nans.\n",
    "+ Save the result as `data2`"
   ]
  },
  {
   "cell_type": "code",
   "execution_count": null,
   "metadata": {
    "execution": {
     "iopub.execute_input": "2025-03-17T23:12:33.948964Z",
     "iopub.status.busy": "2025-03-17T23:12:33.948760Z",
     "iopub.status.idle": "2025-03-17T23:12:33.952264Z",
     "shell.execute_reply": "2025-03-17T23:12:33.951989Z"
    },
    "tags": [
     "otter_answer_cell"
    ]
   },
   "outputs": [],
   "source": [
    "thresh = ...                # TODO\n",
    "data2 = data1.dropna(...)     # TODO"
   ]
  },
  {
   "cell_type": "code",
   "execution_count": null,
   "metadata": {
    "deletable": false,
    "editable": false
   },
   "outputs": [],
   "source": [
    "grader.check(\"q1p4\")"
   ]
  },
  {
   "cell_type": "markdown",
   "metadata": {
    "deletable": false,
    "editable": false
   },
   "source": [
    "## 1.5 Drop all rows that contain one or more nans.\n",
    "\n",
    "Save the result as `data3`.\n",
    "\n",
    "Hint: You can again use `dropna` for this."
   ]
  },
  {
   "cell_type": "code",
   "execution_count": null,
   "metadata": {
    "execution": {
     "iopub.execute_input": "2025-03-17T23:12:33.966785Z",
     "iopub.status.busy": "2025-03-17T23:12:33.966657Z",
     "iopub.status.idle": "2025-03-17T23:12:33.969754Z",
     "shell.execute_reply": "2025-03-17T23:12:33.969492Z"
    },
    "tags": [
     "otter_answer_cell"
    ]
   },
   "outputs": [],
   "source": [
    "data3 = ...      # TODO"
   ]
  },
  {
   "cell_type": "code",
   "execution_count": null,
   "metadata": {
    "deletable": false,
    "editable": false
   },
   "outputs": [],
   "source": [
    "grader.check(\"q1p5\")"
   ]
  },
  {
   "cell_type": "markdown",
   "metadata": {
    "deletable": false,
    "editable": false
   },
   "source": [
    "## 1.6 Inspect correlations\n",
    "\n",
    "Next we'll look at the sample correlation coefficients between each of the inputs and the output (a.k.a. target variable) `target_deathrate`. This is a quick way to check which of the inputs may be most useful to include in a model. Correlations only provide an initial guess, however. Remember that the correlation coefficient only measures the linear relationship between variables. That's perfect when the model is linear (as in this lab activity), but less useful for nonlinear models.\n",
    "\n",
    "1) Use `data3.corr()` to build the correlations matrix.\n",
    "2) Inspect the column (or row) corresponding to `target_deathrate`.\n",
    "3) Rank (i.e. sort) the inputs from most to least correlated with the output. This ranking is in terms of the absolute value of the sample correlation coefficient.\n",
    "4) Save the top 5 correlated inputs to `top_5_corr`. `top_5_corr` should be a numpy array with shape `(5,)`.\n",
    "\n",
    "Hints:\n",
    "+ [`abs`](https://pandas.pydata.org/docs/reference/api/pandas.Series.abs.html)\n",
    "+ [`sort_values`](https://pandas.pydata.org/docs/reference/api/pandas.Series.sort_values.html)\n",
    "+ [`to_numpy`](https://pandas.pydata.org/docs/reference/api/pandas.Series.to_numpy.html)"
   ]
  },
  {
   "cell_type": "code",
   "execution_count": null,
   "metadata": {
    "execution": {
     "iopub.execute_input": "2025-03-17T23:12:33.977351Z",
     "iopub.status.busy": "2025-03-17T23:12:33.977204Z",
     "iopub.status.idle": "2025-03-17T23:12:33.983155Z",
     "shell.execute_reply": "2025-03-17T23:12:33.982921Z"
    },
    "tags": [
     "otter_answer_cell"
    ]
   },
   "outputs": [],
   "source": [
    "# correlation matrix\n",
    "C = ...         # TODO\n",
    "\n",
    "# vector correlations between the inputs and target_deathrate\n",
    "corr_target = ...         # TODO\n",
    "\n",
    "# sorted corr_target_sort\n",
    "corr_target_sort = ...         # TODO\n",
    "\n",
    "# top 5 correlations with target_deathrate\n",
    "top_5_sort = ...         # TODO"
   ]
  },
  {
   "cell_type": "code",
   "execution_count": null,
   "metadata": {
    "deletable": false,
    "editable": false
   },
   "outputs": [],
   "source": [
    "grader.check(\"q1p6\")"
   ]
  },
  {
   "cell_type": "markdown",
   "metadata": {
    "deletable": false,
    "editable": false
   },
   "source": [
    "## 1.7 Scatter plot\n",
    "\n",
    "Make a scatter plot of the data with the most correlated input along the x axis, and the target along the y axis.\n",
    "\n",
    "Hint: You can use the plotting function attached to the DataFrame: [data3.plot(kind='scatter',x=..., y=...)](https://pandas.pydata.org/docs/reference/api/pandas.DataFrame.plot.html)"
   ]
  },
  {
   "cell_type": "code",
   "execution_count": null,
   "metadata": {
    "execution": {
     "iopub.execute_input": "2025-03-17T23:12:33.991101Z",
     "iopub.status.busy": "2025-03-17T23:12:33.990979Z",
     "iopub.status.idle": "2025-03-17T23:12:34.076001Z",
     "shell.execute_reply": "2025-03-17T23:12:34.075729Z"
    },
    "tags": [
     "otter_answer_cell"
    ]
   },
   "outputs": [],
   "source": [
    "data3.plot(kind='scatter',x=...,y=...)   # TODO"
   ]
  },
  {
   "cell_type": "markdown",
   "metadata": {},
   "source": [
    "---\n",
    "\n",
    "# Part 2: Linear regression "
   ]
  },
  {
   "cell_type": "markdown",
   "metadata": {
    "deletable": false,
    "editable": false
   },
   "source": [
    "## 2.1 Extract `X` and `Y` from `data3`\n",
    "\n",
    "The next cell extracts the `X` and `Y` matrices from `data3` and constructs a list of `inputs`. Define the number of samples `N` and the total number of inputs `D`."
   ]
  },
  {
   "cell_type": "code",
   "execution_count": null,
   "metadata": {
    "execution": {
     "iopub.execute_input": "2025-03-17T23:12:34.077288Z",
     "iopub.status.busy": "2025-03-17T23:12:34.077179Z",
     "iopub.status.idle": "2025-03-17T23:12:34.080513Z",
     "shell.execute_reply": "2025-03-17T23:12:34.080259Z"
    },
    "tags": [
     "otter_answer_cell"
    ]
   },
   "outputs": [],
   "source": [
    "X = data3.drop(columns='target_deathrate').values\n",
    "inputs = data3.columns.values\n",
    "inputs = inputs[inputs!='target_deathrate']\n",
    "Y = data3['target_deathrate'].values\n",
    "\n",
    "N = ...\n",
    "D = ..."
   ]
  },
  {
   "cell_type": "code",
   "execution_count": null,
   "metadata": {
    "deletable": false,
    "editable": false
   },
   "outputs": [],
   "source": [
    "grader.check(\"q2p1\")"
   ]
  },
  {
   "cell_type": "markdown",
   "metadata": {
    "deletable": false,
    "editable": false
   },
   "source": [
    "## 2.2 Center the inputs\n",
    "\n",
    "\\begin{align*}\n",
    "\\hat\\mu_X &= \\frac{1}{N} \\mathbf{1}^T_N \\mathbf{X} \\\\\n",
    "\\mathbf{X}^c&=\\mathbf{X}-\\mathbf{1}_N\\hat\\mu_X\n",
    "\\end{align*}\n",
    "\n",
    "Compute the column-wise means `muhatX` and subtract them from `X` to obtain `Xc`. \n",
    "\n",
    "Hint: \n",
    "+ Use `X.mean(axis=...)`. Should it be `axis=0` or `axis=1`? \n",
    "+ The formula for `Xc` above has $\\mathbf{1}_N\\hat\\mu_X$. The broadcasting rules of numpy make multiplying $\\hat\\mu_X$ by $\\mathbf{1}_N$ unnecessary.\n",
    "\n",
    "Check that the column-wise means of `Xc` equal zero (to machine precision). "
   ]
  },
  {
   "cell_type": "code",
   "execution_count": null,
   "metadata": {
    "execution": {
     "iopub.execute_input": "2025-03-17T23:12:34.091772Z",
     "iopub.status.busy": "2025-03-17T23:12:34.091683Z",
     "iopub.status.idle": "2025-03-17T23:12:34.094206Z",
     "shell.execute_reply": "2025-03-17T23:12:34.093971Z"
    },
    "tags": [
     "otter_answer_cell"
    ]
   },
   "outputs": [],
   "source": [
    "muhatX = ...    # TODO\n",
    "Xc = ...        # TODO"
   ]
  },
  {
   "cell_type": "code",
   "execution_count": null,
   "metadata": {
    "deletable": false,
    "editable": false
   },
   "outputs": [],
   "source": [
    "grader.check(\"q2p2\")"
   ]
  },
  {
   "cell_type": "markdown",
   "metadata": {
    "deletable": false,
    "editable": false
   },
   "source": [
    "## 2.3 Center the outputs\n",
    "\n",
    "Compute `muhatY` and the centered outputs `Yc` according to\n",
    "\n",
    "\\begin{align*}\n",
    "\\hat\\mu_Y &= \\frac{1}{N} \\mathbf{1}^T_N \\mathbf{Y} \\\\\n",
    "\\mathbf{Y}^c&=\\mathbf{Y}-\\mathbf{1}_N\\hat\\mu_Y\n",
    "\\end{align*}\n"
   ]
  },
  {
   "cell_type": "code",
   "execution_count": null,
   "metadata": {
    "execution": {
     "iopub.execute_input": "2025-03-17T23:12:34.109822Z",
     "iopub.status.busy": "2025-03-17T23:12:34.109731Z",
     "iopub.status.idle": "2025-03-17T23:12:34.112025Z",
     "shell.execute_reply": "2025-03-17T23:12:34.111797Z"
    },
    "tags": [
     "otter_answer_cell"
    ]
   },
   "outputs": [],
   "source": [
    "muhatY = ...  # TODO\n",
    "Yc = ... # TODO"
   ]
  },
  {
   "cell_type": "code",
   "execution_count": null,
   "metadata": {
    "deletable": false,
    "editable": false
   },
   "outputs": [],
   "source": [
    "grader.check(\"q2p3\")"
   ]
  },
  {
   "cell_type": "markdown",
   "metadata": {
    "deletable": false,
    "editable": false
   },
   "source": [
    "## 2.4 Compute the input covariance martrix.\n",
    "\n",
    "\n",
    "$$\\Sigma^{2}_X=\\frac{1}{N-1}(\\mathbf{X}^c)^T \\mathbf{X}^c$$\n",
    "\n",
    "Hints:\n",
    "+ NumPy's @ operator and matrix transposition (`Xc.T`). See [this](https://numpy.org/devdocs/user/numpy-for-matlab-users.html) summary of the key differences between numpy and Matlab.\n"
   ]
  },
  {
   "cell_type": "code",
   "execution_count": null,
   "metadata": {
    "execution": {
     "iopub.execute_input": "2025-03-17T23:12:34.123265Z",
     "iopub.status.busy": "2025-03-17T23:12:34.123112Z",
     "iopub.status.idle": "2025-03-17T23:12:34.125312Z",
     "shell.execute_reply": "2025-03-17T23:12:34.125061Z"
    },
    "tags": [
     "otter_answer_cell"
    ]
   },
   "outputs": [],
   "source": [
    "Sigma2X = ...   # TODO"
   ]
  },
  {
   "cell_type": "code",
   "execution_count": null,
   "metadata": {
    "deletable": false,
    "editable": false
   },
   "outputs": [],
   "source": [
    "grader.check(\"q2p4\")"
   ]
  },
  {
   "cell_type": "markdown",
   "metadata": {
    "deletable": false,
    "editable": false,
    "vscode": {
     "languageId": "raw"
    }
   },
   "source": [
    "# Compute Input/Output covariance matrix\n",
    "\n",
    "$$\\Sigma_{XY}=\\frac{1}{N-1}(\\mathbf{X}^c)^T \\mathbf{Y}^c$$"
   ]
  },
  {
   "cell_type": "code",
   "execution_count": null,
   "metadata": {
    "execution": {
     "iopub.execute_input": "2025-03-17T23:12:34.134385Z",
     "iopub.status.busy": "2025-03-17T23:12:34.134227Z",
     "iopub.status.idle": "2025-03-17T23:12:34.136359Z",
     "shell.execute_reply": "2025-03-17T23:12:34.136112Z"
    },
    "tags": [
     "otter_answer_cell"
    ]
   },
   "outputs": [],
   "source": [
    "SigmaXY = ...   # TODO"
   ]
  },
  {
   "cell_type": "code",
   "execution_count": null,
   "metadata": {
    "deletable": false,
    "editable": false
   },
   "outputs": [],
   "source": [
    "grader.check(\"q2p5\")"
   ]
  },
  {
   "cell_type": "markdown",
   "metadata": {
    "deletable": false,
    "editable": false
   },
   "source": [
    "## 2.6 Compute the least squares estimates of the parameters\n",
    "\n",
    "\\begin{align*}\n",
    "\\underline{\\hat\\theta}_1 &= (\\Sigma^{2}_X)^{-1}\\Sigma_{XY} \\\\\n",
    "\\hat\\theta_0 &= \\hat\\mu_Y - \\hat\\mu_X \\underline{\\hat\\theta}_1\n",
    "\\end{align*}\n",
    "\n",
    "\n",
    "Hint:\n",
    "+ [np.linalg.inv](https://numpy.org/doc/stable/reference/generated/numpy.linalg.inv.html)\n"
   ]
  },
  {
   "cell_type": "code",
   "execution_count": null,
   "metadata": {
    "execution": {
     "iopub.execute_input": "2025-03-17T23:12:34.143949Z",
     "iopub.status.busy": "2025-03-17T23:12:34.143783Z",
     "iopub.status.idle": "2025-03-17T23:12:34.145943Z",
     "shell.execute_reply": "2025-03-17T23:12:34.145733Z"
    },
    "tags": [
     "otter_answer_cell"
    ]
   },
   "outputs": [],
   "source": [
    "theta1hat = ...  # TODO\n",
    "theta0hat = ...  # TODO"
   ]
  },
  {
   "cell_type": "code",
   "execution_count": null,
   "metadata": {
    "deletable": false,
    "editable": false
   },
   "outputs": [],
   "source": [
    "grader.check(\"q2p6\")"
   ]
  },
  {
   "cell_type": "markdown",
   "metadata": {
    "deletable": false,
    "editable": false
   },
   "source": [
    "## 2.7 Compute predictions for each of the training samples\n",
    "\n",
    "$$\\mathbf{\\hat{Y}} = \\mathbf{1}_N\\hat\\theta_0 + \\mathbf{X}\\underline{\\hat\\theta}_1$$\n"
   ]
  },
  {
   "cell_type": "code",
   "execution_count": null,
   "metadata": {
    "execution": {
     "iopub.execute_input": "2025-03-17T23:12:34.156700Z",
     "iopub.status.busy": "2025-03-17T23:12:34.156548Z",
     "iopub.status.idle": "2025-03-17T23:12:34.158800Z",
     "shell.execute_reply": "2025-03-17T23:12:34.158543Z"
    },
    "tags": [
     "otter_answer_cell"
    ]
   },
   "outputs": [],
   "source": [
    "Yhat = ...  # TODO"
   ]
  },
  {
   "cell_type": "code",
   "execution_count": null,
   "metadata": {
    "deletable": false,
    "editable": false
   },
   "outputs": [],
   "source": [
    "grader.check(\"q2p7\")"
   ]
  },
  {
   "cell_type": "markdown",
   "metadata": {
    "deletable": false,
    "editable": false
   },
   "source": [
    "## 2.8 Model performance\n",
    "\n",
    "Compute the coefficient of determination $R^2$ for this model on the training data.\n",
    "\n",
    "$$ R^2 = 1 - \\frac{\\sum_{i=1}^N (y_i-\\hat{y}_i)^2}{\\sum_{i=1}^N (y_i-\\hat\\mu_Y)^2}$$"
   ]
  },
  {
   "cell_type": "code",
   "execution_count": null,
   "metadata": {
    "execution": {
     "iopub.execute_input": "2025-03-17T23:12:34.166648Z",
     "iopub.status.busy": "2025-03-17T23:12:34.166496Z",
     "iopub.status.idle": "2025-03-17T23:12:34.168881Z",
     "shell.execute_reply": "2025-03-17T23:12:34.168634Z"
    },
    "tags": [
     "otter_answer_cell"
    ]
   },
   "outputs": [],
   "source": [
    "R2 = ...    # TODO"
   ]
  },
  {
   "cell_type": "code",
   "execution_count": null,
   "metadata": {
    "deletable": false,
    "editable": false
   },
   "outputs": [],
   "source": [
    "grader.check(\"q2p8\")"
   ]
  },
  {
   "cell_type": "markdown",
   "metadata": {},
   "source": [
    "---\n",
    "\n",
    "# Part 3: Parameter uncertainty"
   ]
  },
  {
   "cell_type": "markdown",
   "metadata": {
    "deletable": false,
    "editable": false
   },
   "source": [
    "## 3.1 Estimate the variance of the output\n",
    "\n",
    "$$\\hat\\sigma^2 = \\frac{1}{N-D-1} \\sum_{i=1}^{N}(y_i-\\hat{y}_i)^2$$"
   ]
  },
  {
   "cell_type": "code",
   "execution_count": null,
   "metadata": {
    "execution": {
     "iopub.execute_input": "2025-03-17T23:12:34.176308Z",
     "iopub.status.busy": "2025-03-17T23:12:34.176159Z",
     "iopub.status.idle": "2025-03-17T23:12:34.178435Z",
     "shell.execute_reply": "2025-03-17T23:12:34.178206Z"
    },
    "tags": [
     "otter_answer_cell"
    ]
   },
   "outputs": [],
   "source": [
    "sigmahat2 = ..."
   ]
  },
  {
   "cell_type": "code",
   "execution_count": null,
   "metadata": {
    "deletable": false,
    "editable": false
   },
   "outputs": [],
   "source": [
    "grader.check(\"q3p1\")"
   ]
  },
  {
   "cell_type": "markdown",
   "metadata": {
    "deletable": false,
    "editable": false
   },
   "source": [
    "## 3.2 Compute the variances of the slope parameters\n",
    "\n",
    "These are the diagonal entries of \n",
    "\n",
    "$$Var\\left[ \\underline{\\widehat{\\Theta}}_1 \\right]\\;=\\;   \\sigma^2  \\left((\\mathbf{X}^c)^T \\mathbf{X}^c \\right)^{-1}  $$\n",
    "\n",
    "The variance of $\\hat\\theta_d$ is the $(d\\!-\\!1)$'th diagonal entry of $\\hat\\sigma^2 (\\Sigma^{2}_X)^{-1}$.\n",
    "\n",
    "`var_thetahat` should be a 1D array with the variances of each of the slope parameters. \n",
    "\n",
    "**Hint**: [`np.diag`](https://numpy.org/doc/stable/reference/generated/numpy.diag.html)"
   ]
  },
  {
   "cell_type": "code",
   "execution_count": null,
   "metadata": {
    "execution": {
     "iopub.execute_input": "2025-03-17T23:12:34.186023Z",
     "iopub.status.busy": "2025-03-17T23:12:34.185874Z",
     "iopub.status.idle": "2025-03-17T23:12:34.188115Z",
     "shell.execute_reply": "2025-03-17T23:12:34.187851Z"
    },
    "tags": [
     "otter_answer_cell"
    ]
   },
   "outputs": [],
   "source": [
    "var_thetahat = ... # TODO"
   ]
  },
  {
   "cell_type": "code",
   "execution_count": null,
   "metadata": {
    "deletable": false,
    "editable": false
   },
   "outputs": [],
   "source": [
    "grader.check(\"q3p2\")"
   ]
  },
  {
   "cell_type": "markdown",
   "metadata": {
    "deletable": false,
    "editable": false
   },
   "source": [
    "## 3.3 Compute the radiuses of the confidence intervals"
   ]
  },
  {
   "cell_type": "markdown",
   "metadata": {
    "deletable": false,
    "editable": false
   },
   "source": [
    "Having the variances of each of the slope parameters in `var_thetahat`, and assuming that the output measurement noise is Gaussian, we can compute the radius of the confidence interval for the $d$'th slope parameter with\n",
    "$$\\rho_d =\\sqrt{v_d} \\left| F^{-1}_{\\mathcal{N}}\\left( \\frac{1-\\gamma}{2}\\right)\\right| $$\n",
    "Here $v_d$ is the variance of the $d$'th slope parameter, i.e. `var_thetahat[d]`.\n",
    "\n",
    "Compute the radiuses of the 95\\% confidence intervals for the slope parameters. Store these in the array `rho`."
   ]
  },
  {
   "cell_type": "code",
   "execution_count": null,
   "metadata": {
    "execution": {
     "iopub.execute_input": "2025-03-17T23:12:34.195691Z",
     "iopub.status.busy": "2025-03-17T23:12:34.195533Z",
     "iopub.status.idle": "2025-03-17T23:12:34.198361Z",
     "shell.execute_reply": "2025-03-17T23:12:34.198113Z"
    },
    "tags": [
     "otter_answer_cell"
    ]
   },
   "outputs": [],
   "source": [
    "gamma = 0.95\n",
    "rho = ... # TODO"
   ]
  },
  {
   "cell_type": "code",
   "execution_count": null,
   "metadata": {
    "deletable": false,
    "editable": false
   },
   "outputs": [],
   "source": [
    "grader.check(\"q3p3\")"
   ]
  },
  {
   "cell_type": "markdown",
   "metadata": {
    "deletable": false,
    "editable": false,
    "vscode": {
     "languageId": "raw"
    }
   },
   "source": [
    "## 3.4 Tag as \"significant\" those parameters whose confidence interval does not include zero.\n",
    "\n",
    "Create a 1D NumPy boolean array of the same size as `theta1hat` called `significant`. The $d$'th entry of `significant` should be `True` if the 95\\% confidence interval for the corresponding slope parameter **does not** include 0, and `False` otherwise. In other words, an input is considered significant if its slope parameter is non-zero with 95\\% confidence. "
   ]
  },
  {
   "cell_type": "code",
   "execution_count": null,
   "metadata": {
    "execution": {
     "iopub.execute_input": "2025-03-17T23:12:34.205609Z",
     "iopub.status.busy": "2025-03-17T23:12:34.205474Z",
     "iopub.status.idle": "2025-03-17T23:12:34.207609Z",
     "shell.execute_reply": "2025-03-17T23:12:34.207361Z"
    },
    "tags": [
     "otter_answer_cell"
    ]
   },
   "outputs": [],
   "source": [
    "significant = ..."
   ]
  },
  {
   "cell_type": "code",
   "execution_count": null,
   "metadata": {
    "deletable": false,
    "editable": false
   },
   "outputs": [],
   "source": [
    "grader.check(\"q3p4\")"
   ]
  },
  {
   "cell_type": "markdown",
   "metadata": {},
   "source": [
    "## 3.5 Parameters table (done already)\n",
    "Make a DataFrame with one row for each input. The index of the table should be the input names. The columns should be:\n",
    "+ `slope`: the estimates of the slope parameter associated with the input. \n",
    "+ `slope stddev`: the standard deviation of the slope parameter.\n",
    "+ `significant`: whether the input is significant according to part 3.4."
   ]
  },
  {
   "cell_type": "code",
   "execution_count": null,
   "metadata": {
    "execution": {
     "iopub.execute_input": "2025-03-17T23:12:34.214821Z",
     "iopub.status.busy": "2025-03-17T23:12:34.214676Z",
     "iopub.status.idle": "2025-03-17T23:12:34.220408Z",
     "shell.execute_reply": "2025-03-17T23:12:34.220160Z"
    }
   },
   "outputs": [],
   "source": [
    "params_table = pd.DataFrame(index=all_inputs,\n",
    "             data={'slope':theta1hat,\n",
    "                   'slope stddev':np.sqrt(var_thetahat),\n",
    "                   'significant':significant})\n",
    "\n",
    "params_table"
   ]
  },
  {
   "cell_type": "markdown",
   "metadata": {
    "deletable": false,
    "editable": false
   },
   "source": [
    "## 3.6 Build an array of significant inputs\n",
    "\n",
    "Extract the names of the significant inputs from `params_table` using the `significant` array from part 3.4.\n",
    "\n",
    "Store these significant input names as `significant_inputs`. \n",
    "\n",
    "`significant_inputs` should be a NumPy array with shape `(15,)`.\n",
    "\n",
    "Here's one way you can do this that doesn't require a \"for\" loop:\n",
    "1. Use the `significant` column to select the rows of the table corresponding to significant inputs. \n",
    "2. Use `.index` to obtain the names of the inputs for those rows. \n",
    "3. Use `.to_numpy()` to convert the result to a NumPy array."
   ]
  },
  {
   "cell_type": "code",
   "execution_count": null,
   "metadata": {
    "execution": {
     "iopub.execute_input": "2025-03-17T23:12:34.221553Z",
     "iopub.status.busy": "2025-03-17T23:12:34.221426Z",
     "iopub.status.idle": "2025-03-17T23:12:34.223795Z",
     "shell.execute_reply": "2025-03-17T23:12:34.223551Z"
    },
    "tags": [
     "otter_answer_cell"
    ]
   },
   "outputs": [],
   "source": [
    "...\n",
    "significant_inputs = ...  # TODO"
   ]
  },
  {
   "cell_type": "code",
   "execution_count": null,
   "metadata": {
    "deletable": false,
    "editable": false
   },
   "outputs": [],
   "source": [
    "grader.check(\"q3p6\")"
   ]
  },
  {
   "cell_type": "markdown",
   "metadata": {},
   "source": [
    "## 3.7 Create a new table with significant inputs only (done already)\n",
    "\n",
    "This table is called `data` and the target variable is now called `Y`."
   ]
  },
  {
   "cell_type": "code",
   "execution_count": null,
   "metadata": {
    "execution": {
     "iopub.execute_input": "2025-03-17T23:12:34.234519Z",
     "iopub.status.busy": "2025-03-17T23:12:34.234357Z",
     "iopub.status.idle": "2025-03-17T23:12:34.244802Z",
     "shell.execute_reply": "2025-03-17T23:12:34.244559Z"
    }
   },
   "outputs": [],
   "source": [
    "data = data3[significant_inputs].copy()\n",
    "data['Y'] = data3['target_deathrate']\n",
    "data"
   ]
  },
  {
   "cell_type": "markdown",
   "metadata": {},
   "source": [
    "---\n",
    "\n",
    "# Part 4: Feature subset selection "
   ]
  },
  {
   "cell_type": "markdown",
   "metadata": {},
   "source": [
    "## 4.1 Split `data` into training, validation, and testing datasets (done already)\n",
    "\n",
    "We will use 70% of the data for training, 15% for validation, and 15% for testing.\n",
    "\n",
    "1. Define `Dtrain` as the first `Ntrain` rows of `data`.\n",
    "2. Define `Dvalidate` as the next `Nvalidate` rows of `data`.\n",
    "3. Define `Dtest` as the last `Ntest` rows of `data`.\n",
    "\n",
    "Here we use pandas' [iloc](https://pandas.pydata.org/docs/reference/api/pandas.DataFrame.iloc.html) method for selecting the three datasets."
   ]
  },
  {
   "cell_type": "code",
   "execution_count": null,
   "metadata": {
    "execution": {
     "iopub.execute_input": "2025-03-17T23:12:34.246032Z",
     "iopub.status.busy": "2025-03-17T23:12:34.245902Z",
     "iopub.status.idle": "2025-03-17T23:12:34.248112Z",
     "shell.execute_reply": "2025-03-17T23:12:34.247842Z"
    }
   },
   "outputs": [],
   "source": [
    "Ntrain = round(0.7*N)\n",
    "Nvalidate = round(0.15*N)\n",
    "Ntest = N - Ntrain - Nvalidate\n",
    "Ntrain, Nvalidate, Ntest\n",
    "\n",
    "Dtrain = data.iloc[:Ntrain,:]\n",
    "Dvalidate = data.iloc[Ntrain:Ntrain+Nvalidate,:]\n",
    "Dtest = data.iloc[Ntrain+Nvalidate:,:]"
   ]
  },
  {
   "cell_type": "markdown",
   "metadata": {
    "deletable": false,
    "editable": false
   },
   "source": [
    "## 4.2 Linear regression training function\n",
    "\n",
    "Create a function called `train` that receives a list of features `S` and a dataset `Dtrain` and does the following:\n",
    "1. Selects the features `S` from `Dtrain` and stores them in `X`. (done already)\n",
    "2. Selects the target values from `Dtrain` and stores them in `Y`. (done already)\n",
    "3. Performs the linear regression calculations from parts 2.2, 2.3, and 2.4 (copy your code from those parts into the `train` method)\n",
    "4. Returns the estimated parameters `theta0hat` and `theta1hat`."
   ]
  },
  {
   "cell_type": "code",
   "execution_count": null,
   "metadata": {
    "execution": {
     "iopub.execute_input": "2025-03-17T23:12:34.249386Z",
     "iopub.status.busy": "2025-03-17T23:12:34.249255Z",
     "iopub.status.idle": "2025-03-17T23:12:34.252198Z",
     "shell.execute_reply": "2025-03-17T23:12:34.251932Z"
    },
    "tags": [
     "otter_answer_cell"
    ]
   },
   "outputs": [],
   "source": [
    "def train(S, Dtrain):\n",
    "\n",
    "    X = Dtrain[list(S)].values\n",
    "    Y = Dtrain['Y'].values\n",
    "\n",
    "    # 2.2 Center the inputs \n",
    "    muhatX = ...    # TODO\n",
    "    Xc = ...    # TODO\n",
    "\n",
    "    # 2.3 Center the outputs \n",
    "    muhatY = ...    # TODO\n",
    "    Yc = ...    # TODO\n",
    "\n",
    "    # 2.4 Compute the inverse input covariance matrix\n",
    "    invCovX = ...    # TODO\n",
    "\n",
    "    # 2.5 Compute the least squares estimates of the parameters\n",
    "    theta1hat = ...    # TODO\n",
    "    theta0hat = ...    # TODO\n",
    "\n",
    "    return theta0hat, theta1hat"
   ]
  },
  {
   "cell_type": "code",
   "execution_count": null,
   "metadata": {
    "execution": {
     "iopub.execute_input": "2025-03-17T23:12:34.253390Z",
     "iopub.status.busy": "2025-03-17T23:12:34.253220Z",
     "iopub.status.idle": "2025-03-17T23:12:34.255360Z",
     "shell.execute_reply": "2025-03-17T23:12:34.255106Z"
    },
    "tags": [
     "otter_answer_cell"
    ]
   },
   "outputs": [],
   "source": [
    "# Use this cell to test your code\n",
    "\n",
    "theta0hat, theta1hat = train(['incidencerate','birthrate'], Dtrain)"
   ]
  },
  {
   "cell_type": "code",
   "execution_count": null,
   "metadata": {
    "deletable": false,
    "editable": false
   },
   "outputs": [],
   "source": [
    "grader.check(\"q4p2\")"
   ]
  },
  {
   "cell_type": "markdown",
   "metadata": {
    "deletable": false,
    "editable": false
   },
   "source": [
    "## 4.3 Model assessment function\n",
    "\n",
    "Create a function called `assess` that receives the linear regression parameters `theta0hat` and `theta1hat`, their corresponding feature names `S`, and a dataset `D`, which may be the validation, the training, or the testing dataset.\n",
    "\n",
    "The function should evaluate the mean squared error (MSE) of the model using this data.\n",
    "\n",
    "The steps are:\n",
    "1. Select the features `S` from `D` and stores them in `X`. (done already)\n",
    "2. Select the target values from `D` and stores them in `Y`. (done already)\n",
    "3. Compute `Yhat`, as in part 2.6.\n",
    "4. Evaluate MSE:\n",
    "\n",
    "$$MSE = \\frac{1}{N}\\sum_{i=1}^{N} ( y_i-\\hat{y}_i)^2$$"
   ]
  },
  {
   "cell_type": "code",
   "execution_count": null,
   "metadata": {
    "execution": {
     "iopub.execute_input": "2025-03-17T23:12:34.264149Z",
     "iopub.status.busy": "2025-03-17T23:12:34.264003Z",
     "iopub.status.idle": "2025-03-17T23:12:34.266493Z",
     "shell.execute_reply": "2025-03-17T23:12:34.266242Z"
    },
    "tags": [
     "otter_answer_cell"
    ]
   },
   "outputs": [],
   "source": [
    "def assess( S, theta0hat, theta1hat, D):\n",
    "\n",
    "    X = D[list(S)].values\n",
    "    Y = D['Y'].values\n",
    "\n",
    "    # 2.6 Compute predictions for each of the samples\n",
    "    Yhat = ... # TODO\n",
    "\n",
    "    # 2.7 Model performance\n",
    "    MSE = ... # TODO\n",
    "    \n",
    "    return MSE"
   ]
  },
  {
   "cell_type": "code",
   "execution_count": null,
   "metadata": {
    "execution": {
     "iopub.execute_input": "2025-03-17T23:12:34.267615Z",
     "iopub.status.busy": "2025-03-17T23:12:34.267433Z",
     "iopub.status.idle": "2025-03-17T23:12:34.269801Z",
     "shell.execute_reply": "2025-03-17T23:12:34.269569Z"
    },
    "tags": [
     "otter_answer_cell"
    ]
   },
   "outputs": [],
   "source": [
    "# Use this cell to test your code\n",
    "\n",
    "theta0hat, theta1hat = train(['incidencerate','birthrate'], Dtrain)\n",
    "mse = assess(['incidencerate','birthrate'], theta0hat, theta1hat, Dtrain)"
   ]
  },
  {
   "cell_type": "code",
   "execution_count": null,
   "metadata": {
    "deletable": false,
    "editable": false
   },
   "outputs": [],
   "source": [
    "grader.check(\"q4p3\")"
   ]
  },
  {
   "cell_type": "markdown",
   "metadata": {},
   "source": [
    "## 4.4 Forward stepwise selection\n",
    "\n",
    "Below is a method that implements the forward stepwise feature selection algorithm that was described by your GSI in lab. \n",
    "\n",
    "This part has no deliverables."
   ]
  },
  {
   "cell_type": "code",
   "execution_count": null,
   "metadata": {
    "execution": {
     "iopub.execute_input": "2025-03-17T23:12:34.278851Z",
     "iopub.status.busy": "2025-03-17T23:12:34.278699Z",
     "iopub.status.idle": "2025-03-17T23:12:34.281758Z",
     "shell.execute_reply": "2025-03-17T23:12:34.281499Z"
    }
   },
   "outputs": [],
   "source": [
    "def forward_stepwise_selection(all_inputs):\n",
    "\n",
    "    D = len(all_inputs)\n",
    "    setD = set(all_inputs)\n",
    "    setS = [set() for i in range(D+1)]\n",
    "    ellk = np.full(D+1,np.inf)\n",
    "\n",
    "    setS[0] = set()\n",
    "\n",
    "    for k in range(1,D+1):\n",
    "        \n",
    "        setA = [set() for i in range(D-k+1)]\n",
    "        ellkappa = np.full(D-k+1,np.inf)\n",
    "\n",
    "        for kappa, xp in enumerate(setD-setS[k-1]):\n",
    "            setA[kappa] = setS[k-1].union({xp})\n",
    "            theta0hat, theta1hat = train(setA[kappa],Dtrain)\n",
    "            ellkappa[kappa] = assess(setA[kappa], \n",
    "                                     theta0hat,theta1hat, \n",
    "                                     Dvalidate)\n",
    "\n",
    "        kappastar = ellkappa.argmin()\n",
    "        setS[k] = setA[kappastar]\n",
    "        ellk[k] = ellkappa[kappastar]\n",
    "\n",
    "    kstar = ellk.argmin()\n",
    "    Sstar = setS[kstar]\n",
    "    theta0star, theta1star = train(Sstar, Dtrain)\n",
    "    ellstar = assess(Sstar, theta0star, theta1star, Dtest)\n",
    "\n",
    "    return ellk, ellstar, kstar"
   ]
  },
  {
   "cell_type": "code",
   "execution_count": null,
   "metadata": {
    "execution": {
     "iopub.execute_input": "2025-03-17T23:12:34.282842Z",
     "iopub.status.busy": "2025-03-17T23:12:34.282749Z",
     "iopub.status.idle": "2025-03-17T23:12:34.330519Z",
     "shell.execute_reply": "2025-03-17T23:12:34.330100Z"
    }
   },
   "outputs": [],
   "source": [
    "# You can run forward stepwise selection on the collection of significant inputs\n",
    "\n",
    "f_ellk, f_ellstar, f_kstar = forward_stepwise_selection(significant_inputs)"
   ]
  },
  {
   "cell_type": "markdown",
   "metadata": {
    "deletable": false,
    "editable": false
   },
   "source": [
    "## 4.5 Backward stepwise selection\n",
    "\n",
    "Implement backward stepwise selection."
   ]
  },
  {
   "cell_type": "code",
   "execution_count": null,
   "metadata": {
    "execution": {
     "iopub.execute_input": "2025-03-17T23:12:34.331990Z",
     "iopub.status.busy": "2025-03-17T23:12:34.331861Z",
     "iopub.status.idle": "2025-03-17T23:12:34.336429Z",
     "shell.execute_reply": "2025-03-17T23:12:34.336138Z"
    },
    "tags": [
     "otter_answer_cell"
    ]
   },
   "outputs": [],
   "source": [
    "def backward_stepwise_selection(all_inputs):\n",
    "\n",
    "    ...\n",
    "\n",
    "    return ellk, ellstar, kstar"
   ]
  },
  {
   "cell_type": "code",
   "execution_count": null,
   "metadata": {
    "execution": {
     "iopub.execute_input": "2025-03-17T23:12:34.337613Z",
     "iopub.status.busy": "2025-03-17T23:12:34.337449Z",
     "iopub.status.idle": "2025-03-17T23:12:34.388062Z",
     "shell.execute_reply": "2025-03-17T23:12:34.387653Z"
    },
    "tags": [
     "otter_answer_cell"
    ]
   },
   "outputs": [],
   "source": [
    "# Use this cell to test your code\n",
    "\n",
    "b_ellk, b_ellstar, b_kstar = backward_stepwise_selection(significant_inputs)"
   ]
  },
  {
   "cell_type": "code",
   "execution_count": null,
   "metadata": {
    "deletable": false,
    "editable": false
   },
   "outputs": [],
   "source": [
    "grader.check(\"q4p5\")"
   ]
  },
  {
   "cell_type": "markdown",
   "metadata": {},
   "source": [
    "## Plot\n",
    "\n",
    "The following plot shows the results of forward and backward stepwise feature selection for this regression problem. In each case, the star indicates the test error for the model with the smallest validation error."
   ]
  },
  {
   "cell_type": "code",
   "execution_count": null,
   "metadata": {
    "execution": {
     "iopub.execute_input": "2025-03-17T23:12:34.449425Z",
     "iopub.status.busy": "2025-03-17T23:12:34.449299Z",
     "iopub.status.idle": "2025-03-17T23:12:34.640771Z",
     "shell.execute_reply": "2025-03-17T23:12:34.640462Z"
    }
   },
   "outputs": [],
   "source": [
    "f_ellk, f_ellstar, f_kstar = forward_stepwise_selection(significant_inputs)\n",
    "b_ellk, b_ellstar, b_kstar = backward_stepwise_selection(significant_inputs)\n",
    "D = len(significant_inputs)\n",
    "\n",
    "plt.figure(figsize=(10,5))\n",
    "\n",
    "plt.plot(range(D+1),f_ellk,'o-',color='blue',label='forward',linewidth=3)\n",
    "plt.plot([f_kstar,f_kstar],[f_ellk[f_kstar],f_ellstar],color='blue',linestyle='--',linewidth=2)\n",
    "plt.plot(f_kstar,f_ellstar,'*',color='blue',markersize=22)\n",
    "\n",
    "c = 'darkorange'\n",
    "plt.plot(range(D+1),b_ellk,'o-',color=c,label='backward',linewidth=2)\n",
    "plt.plot([b_kstar,b_kstar],[b_ellk[b_kstar],b_ellstar],color=c,linestyle=':',linewidth=2)\n",
    "plt.plot(b_kstar,b_ellstar,'*',color=c,markersize=16)\n",
    "plt.legend(fontsize=16)\n",
    "\n",
    "plt.grid(linestyle=':')\n",
    "\n",
    "# plt.ylim(340,480)\n",
    "# plt.xlim(0,16)\n",
    "plt.xticks(range(16),fontsize=16)\n",
    "plt.xlabel('k',fontsize=16)\n",
    "plt.ylabel('MSE',fontsize=16)"
   ]
  },
  {
   "cell_type": "markdown",
   "metadata": {
    "deletable": false,
    "editable": false
   },
   "source": [
    "---\n",
    "\n",
    "To double-check your work, the cell below will rerun all of the autograder tests."
   ]
  },
  {
   "cell_type": "code",
   "execution_count": null,
   "metadata": {
    "deletable": false,
    "editable": false
   },
   "outputs": [],
   "source": [
    "grader.check_all()"
   ]
  },
  {
   "cell_type": "markdown",
   "metadata": {
    "deletable": false,
    "editable": false
   },
   "source": [
    "## Submission\n",
    "\n",
    "Make sure you have run all cells in your notebook in order before running the cell below, so that all images/graphs appear in the output. The cell below will generate a zip file for you to submit. **Please save before exporting!**\n",
    "\n",
    "Make sure you submit the .zip file to Gradescope."
   ]
  },
  {
   "cell_type": "code",
   "execution_count": null,
   "metadata": {
    "deletable": false,
    "editable": false
   },
   "outputs": [],
   "source": [
    "# Save your notebook first, then run this cell to export your submission.\n",
    "grader.export(pdf=False)"
   ]
  },
  {
   "cell_type": "markdown",
   "metadata": {},
   "source": [
    " "
   ]
  }
 ],
 "metadata": {
  "kernelspec": {
   "display_name": "Python 3 (ipykernel)",
   "language": "python",
   "name": "python3"
  },
  "language_info": {
   "codemirror_mode": {
    "name": "ipython",
    "version": 3
   },
   "file_extension": ".py",
   "mimetype": "text/x-python",
   "name": "python",
   "nbconvert_exporter": "python",
   "pygments_lexer": "ipython3",
   "version": "3.11.11"
  },
  "otter": {
   "OK_FORMAT": true,
   "assignment_name": "lab4",
   "tests": {
    "q1p2": {
     "name": "q1p2",
     "points": null,
     "suites": [
      {
       "cases": [
        {
         "code": ">>> non_numerical_inputs == {'geography', 'binnedinc'}\nTrue",
         "hidden": false,
         "locked": false,
         "points": 1
        },
        {
         "code": ">>> null_entry_inputs == {'pctsomecol18_24', 'pctprivatecoveragealone', 'pctemployed16_over'}\nTrue",
         "hidden": false,
         "locked": false,
         "points": 1
        }
       ],
       "scored": true,
       "setup": "",
       "teardown": "",
       "type": "doctest"
      }
     ]
    },
    "q1p3": {
     "name": "q1p3",
     "points": null,
     "suites": [
      {
       "cases": [
        {
         "code": ">>> data1.shape[0] > 3000 and data1.shape[0] < 3100\nTrue",
         "hidden": false,
         "locked": false,
         "points": 0
        },
        {
         "code": ">>> data1.shape[1] == 26\nTrue",
         "hidden": false,
         "locked": false,
         "points": 0
        },
        {
         "code": ">>> A = data1.columns.to_numpy().copy()\n>>> A.sort()\n>>> h = [get_hash(a) for a in A]\n>>> h == ['0ad6752935593b398c5b2e03e67956a8', '01915914efcc68fd29e1958648d4ad9a', '6e2ef10ca497cec351147c5548df65b0', 'bd6282c738ee849dcf6df51cbacb6fb6', '9aed79c74c3b56d88a469bd924d5536a', 'f6f19e7962a9cb1519a04973bb9e8767', '019ecaf6b6730586dfbed865d892a780', '426951735326c71c501d00ef63df3e71', '311b38f064bf47006677ad0580e442f8', 'ea892d7d8efd039319033bd345077f3b', '98af7560c20e755217434ab3ef503d00', 'b0b242280111a535759eeaece794e5cf', 'c7f0a021cd78750c0d124f83b0fdb731', '979395d25696c193bd3e11f9b7f625db', '5aa96cfedb0cd72cf87612147fab5aba', '3c2052cb47e7261583fabe6f76b74a64', '1d4775730357445b9b289574d854c3c5', 'f636665ff9d00921e2e0178931e00cf3', '46926b87727f040d06ae16b5f01f858e', 'c096e7dd49576ce7b9be6461f5c3650f', '0941e7200c731e193120b119d5e3be71', '7c85111de502c96aba2feafba12005d4', 'b533d326331997223720398741cb3f93', '9862bc7c6c3f3bf6b5bdd11faf2b18c2', 'eb4ff559f5f2be0b9d8ee50d9532703e', '102fb5f603a205bd350961efb6054b1c']\nTrue",
         "hidden": false,
         "locked": false,
         "points": 3
        }
       ],
       "scored": true,
       "setup": "",
       "teardown": "",
       "type": "doctest"
      }
     ]
    },
    "q1p4": {
     "name": "q1p4",
     "points": null,
     "suites": [
      {
       "cases": [
        {
         "code": ">>> thresh > 2700 and thresh < 2800\nTrue",
         "hidden": false,
         "locked": false,
         "points": 0
        },
        {
         "code": ">>> data2.shape[1] == 24\nTrue",
         "hidden": false,
         "locked": false,
         "points": 0
        },
        {
         "code": ">>> get_hash(thresh, 4) == '4fd32b31ea0748490ef09f7fe56b8d6f'\nTrue",
         "hidden": false,
         "locked": false,
         "points": 1
        },
        {
         "code": ">>> A = data2.columns.to_list()\n>>> A.sort()\n>>> [get_hash(a) for a in A] == ['0ad6752935593b398c5b2e03e67956a8', '01915914efcc68fd29e1958648d4ad9a', '6e2ef10ca497cec351147c5548df65b0', 'bd6282c738ee849dcf6df51cbacb6fb6', '9aed79c74c3b56d88a469bd924d5536a', 'f6f19e7962a9cb1519a04973bb9e8767', '019ecaf6b6730586dfbed865d892a780', '426951735326c71c501d00ef63df3e71', '311b38f064bf47006677ad0580e442f8', 'ea892d7d8efd039319033bd345077f3b', '98af7560c20e755217434ab3ef503d00', 'b0b242280111a535759eeaece794e5cf', 'c7f0a021cd78750c0d124f83b0fdb731', '979395d25696c193bd3e11f9b7f625db', '5aa96cfedb0cd72cf87612147fab5aba', '3c2052cb47e7261583fabe6f76b74a64', '1d4775730357445b9b289574d854c3c5', '46926b87727f040d06ae16b5f01f858e', 'c096e7dd49576ce7b9be6461f5c3650f', '7c85111de502c96aba2feafba12005d4', 'b533d326331997223720398741cb3f93', '9862bc7c6c3f3bf6b5bdd11faf2b18c2', 'eb4ff559f5f2be0b9d8ee50d9532703e', '102fb5f603a205bd350961efb6054b1c']\nTrue",
         "hidden": false,
         "locked": false,
         "points": 1
        }
       ],
       "scored": true,
       "setup": "",
       "teardown": "",
       "type": "doctest"
      }
     ]
    },
    "q1p5": {
     "name": "q1p5",
     "points": null,
     "suites": [
      {
       "cases": [
        {
         "code": ">>> data3.shape == (2895, 24)\nTrue",
         "hidden": false,
         "locked": false,
         "points": 0
        },
        {
         "code": ">>> get_hash(data3.index, 4) == '5e33b407227c7dda3c52b4b51485be0e'\nTrue",
         "hidden": false,
         "locked": false,
         "points": 1
        }
       ],
       "scored": true,
       "setup": "",
       "teardown": "",
       "type": "doctest"
      }
     ]
    },
    "q1p6": {
     "name": "q1p6",
     "points": null,
     "suites": [
      {
       "cases": [
        {
         "code": ">>> corr_target_sort.shape == (24,)\nTrue",
         "hidden": false,
         "locked": false,
         "points": 0
        },
        {
         "code": ">>> A = top_5_sort.copy()\n>>> A.sort()\n>>> h = [get_hash(a) for a in A]\n>>> h == ['6e2ef10ca497cec351147c5548df65b0', '9aed79c74c3b56d88a469bd924d5536a', '426951735326c71c501d00ef63df3e71', 'c096e7dd49576ce7b9be6461f5c3650f', 'eb4ff559f5f2be0b9d8ee50d9532703e']\nTrue",
         "hidden": false,
         "locked": false,
         "points": 3
        }
       ],
       "scored": true,
       "setup": "",
       "teardown": "",
       "type": "doctest"
      }
     ]
    },
    "q2p1": {
     "name": "q2p1",
     "points": null,
     "suites": [
      {
       "cases": [
        {
         "code": ">>> N > 1000 and N < 3000 and (D > 10) and (D < 30) and (all_inputs.shape[0] == 23) and (Y.shape[0] == 2895) and (X.shape == (2895, 23))\nTrue",
         "hidden": false,
         "locked": false,
         "points": 0
        },
        {
         "code": ">>> get_hash(N, 4) == 'c455fdadcc5232e7e119979863ef3848'\nTrue",
         "hidden": false,
         "locked": false,
         "points": 1
        },
        {
         "code": ">>> get_hash(D, 2) == '6bc071ec71e51c704acd13cdc898fd93'\nTrue",
         "hidden": false,
         "locked": false,
         "points": 1
        }
       ],
       "scored": true,
       "setup": "",
       "teardown": "",
       "type": "doctest"
      }
     ]
    },
    "q2p2": {
     "name": "q2p2",
     "points": null,
     "suites": [
      {
       "cases": [
        {
         "code": ">>> muhatX.shape == (23,)\nTrue",
         "hidden": false,
         "locked": false,
         "points": 0
        },
        {
         "code": ">>> Xc.shape == (2895, 23)\nTrue",
         "hidden": false,
         "locked": false,
         "points": 0
        },
        {
         "code": ">>> get_hash(muhatX, 4) == 'd3b9e3451b30c05adf3eae1beb231ce9'\nTrue",
         "hidden": false,
         "locked": false,
         "points": 2
        },
        {
         "code": ">>> get_hash(Xc, 3) == '02f312181e07841edaa62e20c1c346c7'\nTrue",
         "hidden": false,
         "locked": false,
         "points": 2
        }
       ],
       "scored": true,
       "setup": "",
       "teardown": "",
       "type": "doctest"
      }
     ]
    },
    "q2p3": {
     "name": "q2p3",
     "points": null,
     "suites": [
      {
       "cases": [
        {
         "code": ">>> muhatY > 150 and muhatY < 200 and (Yc.shape == (2895,))\nTrue",
         "hidden": false,
         "locked": false,
         "points": 0
        },
        {
         "code": ">>> get_hash(muhatY, 4) == '7262c932665bb83af233f3ac9c4ab604'\nTrue",
         "hidden": false,
         "locked": false,
         "points": 2
        },
        {
         "code": ">>> get_hash(Yc, 4) == '343cfcc5198ad67c6fcb742a3bbaad05'\nTrue",
         "hidden": false,
         "locked": false,
         "points": 2
        }
       ],
       "scored": true,
       "setup": "",
       "teardown": "",
       "type": "doctest"
      }
     ]
    },
    "q2p4": {
     "name": "q2p4",
     "points": null,
     "suites": [
      {
       "cases": [
        {
         "code": ">>> Sigma2X.shape == (23, 23)\nTrue",
         "hidden": false,
         "locked": false,
         "points": 0
        },
        {
         "code": ">>> get_hash(Sigma2X, 4) == '3fff0db39e3dd3a2679b7ae71db2527a'\nTrue",
         "hidden": false,
         "locked": false,
         "points": 3
        }
       ],
       "scored": true,
       "setup": "",
       "teardown": "",
       "type": "doctest"
      }
     ]
    },
    "q2p5": {
     "name": "q2p5",
     "points": null,
     "suites": [
      {
       "cases": [
        {
         "code": ">>> SigmaXY.shape == (23,)\nTrue",
         "hidden": false,
         "locked": false,
         "points": 0
        },
        {
         "code": ">>> get_hash(SigmaXY, 4) == '986c4c1351dfc304be35f35f5fc6c45f'\nTrue",
         "hidden": false,
         "locked": false,
         "points": 3
        }
       ],
       "scored": true,
       "setup": "",
       "teardown": "",
       "type": "doctest"
      }
     ]
    },
    "q2p6": {
     "name": "q2p6",
     "points": null,
     "suites": [
      {
       "cases": [
        {
         "code": ">>> theta1hat.shape[0] == 23 and theta0hat.shape == ()\nTrue",
         "hidden": false,
         "locked": false,
         "points": 0
        },
        {
         "code": ">>> get_hash(theta1hat, 4) == '598d817c35ff8dd43907a6470ed5ebfa'\nTrue",
         "hidden": false,
         "locked": false,
         "points": 2
        },
        {
         "code": ">>> get_hash(theta0hat, 4) == 'aa75626390499106698bbc42e492af3a'\nTrue",
         "hidden": false,
         "locked": false,
         "points": 2
        }
       ],
       "scored": true,
       "setup": "",
       "teardown": "",
       "type": "doctest"
      }
     ]
    },
    "q2p7": {
     "name": "q2p7",
     "points": null,
     "suites": [
      {
       "cases": [
        {
         "code": ">>> Yhat.shape == (2895,)\nTrue",
         "hidden": false,
         "locked": false,
         "points": 0
        },
        {
         "code": ">>> get_hash(Yhat, 4) == '1f8b043cdf729e97b6f8b8592bed2336'\nTrue",
         "hidden": false,
         "locked": false,
         "points": 2
        }
       ],
       "scored": true,
       "setup": "",
       "teardown": "",
       "type": "doctest"
      }
     ]
    },
    "q2p8": {
     "name": "q2p8",
     "points": null,
     "suites": [
      {
       "cases": [
        {
         "code": ">>> bool(R2 > 0.5 and R2 < 0.6)\nTrue",
         "hidden": false,
         "locked": false,
         "points": 0
        },
        {
         "code": ">>> get_hash(R2, 4) == 'f71f388290a0e65c50c79a675b8f1811'\nTrue",
         "hidden": false,
         "locked": false,
         "points": 1
        }
       ],
       "scored": true,
       "setup": "",
       "teardown": "",
       "type": "doctest"
      }
     ]
    },
    "q3p1": {
     "name": "q3p1",
     "points": null,
     "suites": [
      {
       "cases": [
        {
         "code": ">>> bool(sigmahat2 > 300 and sigmahat2 < 400)\nTrue",
         "hidden": false,
         "locked": false,
         "points": 0
        },
        {
         "code": ">>> get_hash(sigmahat2, 4) == 'd4dbd5f2e721125a067d995f84a394f0'\nTrue",
         "hidden": false,
         "locked": false,
         "points": 2
        }
       ],
       "scored": true,
       "setup": "",
       "teardown": "",
       "type": "doctest"
      }
     ]
    },
    "q3p2": {
     "name": "q3p2",
     "points": null,
     "suites": [
      {
       "cases": [
        {
         "code": ">>> var_thetahat.shape[0] == 23\nTrue",
         "hidden": false,
         "locked": false,
         "points": 0
        },
        {
         "code": ">>> get_hash(var_thetahat, 4) == '53ec6c6ab5e14697ed4eed1de7877090'\nTrue",
         "hidden": false,
         "locked": false,
         "points": 2
        }
       ],
       "scored": true,
       "setup": "",
       "teardown": "",
       "type": "doctest"
      }
     ]
    },
    "q3p3": {
     "name": "q3p3",
     "points": null,
     "suites": [
      {
       "cases": [
        {
         "code": ">>> rho.shape == (23,)\nTrue",
         "hidden": false,
         "locked": false,
         "points": 0
        },
        {
         "code": ">>> get_hash(rho, 4) == '68e52ca65ae047457e67cb4d8d3b53d8'\nTrue",
         "hidden": false,
         "locked": false,
         "points": 2
        }
       ],
       "scored": true,
       "setup": "",
       "teardown": "",
       "type": "doctest"
      }
     ]
    },
    "q3p4": {
     "name": "q3p4",
     "points": null,
     "suites": [
      {
       "cases": [
        {
         "code": ">>> bool(np.sum(significant) == 15)\nTrue",
         "hidden": false,
         "locked": false,
         "points": 0
        },
        {
         "code": ">>> get_hash(rho, 4) == '68e52ca65ae047457e67cb4d8d3b53d8'\nTrue",
         "hidden": false,
         "locked": false,
         "points": 2
        }
       ],
       "scored": true,
       "setup": "",
       "teardown": "",
       "type": "doctest"
      }
     ]
    },
    "q3p6": {
     "name": "q3p6",
     "points": null,
     "suites": [
      {
       "cases": [
        {
         "code": ">>> type(significant_inputs) == np.ndarray\nTrue",
         "hidden": false,
         "locked": false,
         "points": 1
        },
        {
         "code": ">>> significant_inputs.shape == (15,)\nTrue",
         "hidden": false,
         "locked": false,
         "points": 0
        },
        {
         "code": ">>> A = significant_inputs.copy()\n>>> A.sort()\n>>> [get_hash(a) for a in A] == ['01915914efcc68fd29e1958648d4ad9a', '6e2ef10ca497cec351147c5548df65b0', '426951735326c71c501d00ef63df3e71', 'ea892d7d8efd039319033bd345077f3b', '98af7560c20e755217434ab3ef503d00', 'b0b242280111a535759eeaece794e5cf', 'c7f0a021cd78750c0d124f83b0fdb731', '979395d25696c193bd3e11f9b7f625db', '5aa96cfedb0cd72cf87612147fab5aba', '3c2052cb47e7261583fabe6f76b74a64', '1d4775730357445b9b289574d854c3c5', '46926b87727f040d06ae16b5f01f858e', 'c096e7dd49576ce7b9be6461f5c3650f', 'b533d326331997223720398741cb3f93', '9862bc7c6c3f3bf6b5bdd11faf2b18c2']\nTrue",
         "hidden": false,
         "locked": false,
         "points": 1
        }
       ],
       "scored": true,
       "setup": "",
       "teardown": "",
       "type": "doctest"
      }
     ]
    },
    "q4p2": {
     "name": "q4p2",
     "points": null,
     "suites": [
      {
       "cases": [
        {
         "code": ">>> theta0hat, theta1hat = train(['incidencerate', 'birthrate'], Dtrain)\n>>> bool(np.isclose(theta0hat, 92.08, atol=0.01) and np.all(np.isclose(theta1hat, [0.196, -0.245], atol=0.01)))\nTrue",
         "hidden": false,
         "locked": false,
         "points": 0
        },
        {
         "code": ">>> theta0hat, theta1hat = train(['pctnohs18_24', 'pcths18_24', 'pcths25_over'], Dtrain)\n>>> get_hash(theta0hat, 4) == 'a2f0b5d8ec2cf04c504d7552105fe286' and get_hash(theta1hat, 4) == 'f5d744e0744194880b0804a36740335d'\nTrue",
         "hidden": false,
         "locked": false,
         "points": 4
        }
       ],
       "scored": true,
       "setup": "",
       "teardown": "",
       "type": "doctest"
      }
     ]
    },
    "q4p3": {
     "name": "q4p3",
     "points": null,
     "suites": [
      {
       "cases": [
        {
         "code": ">>> theta0hat, theta1hat = train(['incidencerate', 'birthrate'], Dtrain)\n>>> mse = assess(['incidencerate', 'birthrate'], theta0hat, theta1hat, Dtrain)\n>>> bool(np.isclose(mse, 609.692, atol=0.01))\nTrue",
         "hidden": false,
         "locked": false,
         "points": 0
        },
        {
         "code": ">>> theta0hat, theta1hat = train(['pctnohs18_24', 'pcths18_24', 'pcths25_over'], Dtrain)\n>>> mse = assess(['pctnohs18_24', 'pcths18_24', 'pcths25_over'], theta0hat, theta1hat, Dtrain)\n>>> get_hash(mse, 4) == '0ae47fda3c3156a910fd29ca5c08f2c8'\nTrue",
         "hidden": false,
         "locked": false,
         "points": 3
        }
       ],
       "scored": true,
       "setup": "",
       "teardown": "",
       "type": "doctest"
      }
     ]
    },
    "q4p5": {
     "name": "q4p5",
     "points": null,
     "suites": [
      {
       "cases": [
        {
         "code": ">>> b_ellk, b_ellstar, b_kstar = backward_stepwise_selection(significant_inputs)\n>>> b_ellk.shape == (16,) and bool(b_ellstar > 400 and b_ellstar < 450)\nTrue",
         "hidden": false,
         "locked": false,
         "points": 0
        },
        {
         "code": ">>> get_hash(b_ellstar, 4) == '2a328cccc9fe2d321a6da1cd250fabf2'\nTrue",
         "hidden": false,
         "locked": false,
         "points": 2
        },
        {
         "code": ">>> get_hash(b_kstar, 2) == '02ad845d2f8ac57a5c265ea083b2169b'\nTrue",
         "hidden": false,
         "locked": false,
         "points": 2
        }
       ],
       "scored": true,
       "setup": "",
       "teardown": "",
       "type": "doctest"
      }
     ]
    }
   }
  }
 },
 "nbformat": 4,
 "nbformat_minor": 4
}
