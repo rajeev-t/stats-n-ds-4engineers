{
 "cells": [
  {
   "cell_type": "code",
   "execution_count": null,
   "metadata": {
    "deletable": false,
    "editable": false
   },
   "outputs": [],
   "source": [
    "# Initialize Otter\n",
    "import otter\n",
    "grader = otter.Notebook(\"hw4.ipynb\")"
   ]
  },
  {
   "cell_type": "markdown",
   "metadata": {},
   "source": [
    "---\n",
    "\n",
    "<h1><center>SDSE Homework 4<br><br> Simple linear regression </center></h1>\n",
    "\n",
    "---"
   ]
  },
  {
   "cell_type": "code",
   "execution_count": null,
   "metadata": {
    "execution": {
     "iopub.execute_input": "2025-03-31T05:32:55.695580Z",
     "iopub.status.busy": "2025-03-31T05:32:55.695414Z",
     "iopub.status.idle": "2025-03-31T05:32:56.325727Z",
     "shell.execute_reply": "2025-03-31T05:32:56.325377Z"
    }
   },
   "outputs": [],
   "source": [
    "import numpy as np\n",
    "import scipy.stats as stats\n",
    "import matplotlib.pyplot as plt\n",
    "import pickle\n",
    "from resources.hashutils import *"
   ]
  },
  {
   "cell_type": "markdown",
   "metadata": {},
   "source": [
    "# 0. Load the data\n",
    "\n",
    "In this homework we will implement simple linear regression and apply it to four different datasets. \n",
    "\n",
    "All of the formulas can be found in the lecture and reader. \n",
    "\n",
    "The four datasets are contained in `resources/hw4data.pickle`. Each dataset is a tuple with entries `x` and `y`:  `DA = (x,y)`."
   ]
  },
  {
   "cell_type": "code",
   "execution_count": null,
   "metadata": {
    "execution": {
     "iopub.execute_input": "2025-03-31T05:32:56.327407Z",
     "iopub.status.busy": "2025-03-31T05:32:56.327214Z",
     "iopub.status.idle": "2025-03-31T05:32:56.329427Z",
     "shell.execute_reply": "2025-03-31T05:32:56.329159Z"
    }
   },
   "outputs": [],
   "source": [
    "with open('resources/hw4data.pickle','rb') as f:\n",
    "    DA, DB, DC, DD = pickle.load(f)"
   ]
  },
  {
   "cell_type": "code",
   "execution_count": null,
   "metadata": {
    "execution": {
     "iopub.execute_input": "2025-03-31T05:32:56.330793Z",
     "iopub.status.busy": "2025-03-31T05:32:56.330585Z",
     "iopub.status.idle": "2025-03-31T05:32:56.332181Z",
     "shell.execute_reply": "2025-03-31T05:32:56.331961Z"
    }
   },
   "outputs": [],
   "source": [
    "# Use type() and .shape to explore the contents of DA through DD\n"
   ]
  },
  {
   "cell_type": "markdown",
   "metadata": {
    "deletable": false,
    "editable": false
   },
   "source": [
    "# 1. Scatter plots\n",
    "\n",
    "Display each of the four datasets using matplotlib [scatter](https://matplotlib.org/stable/api/_as_gen/matplotlib.pyplot.scatter.html) plots. Your plot should look similar to the one below, with two rows and two columns of plots.  \n",
    "\n",
    "<img src=\"resources/f1.png\" />"
   ]
  },
  {
   "cell_type": "code",
   "execution_count": null,
   "metadata": {
    "execution": {
     "iopub.execute_input": "2025-03-31T05:32:56.333339Z",
     "iopub.status.busy": "2025-03-31T05:32:56.333208Z",
     "iopub.status.idle": "2025-03-31T05:32:56.509024Z",
     "shell.execute_reply": "2025-03-31T05:32:56.508698Z"
    },
    "tags": [
     "otter_answer_cell"
    ]
   },
   "outputs": [],
   "source": [
    "fig, ax = plt.subplots(nrows=...,ncols=...)\n",
    "ax[...,...].scatter(...,...,color='k',marker='.')   # plot DA in the upper left corner\n",
    "...   # plot DB in the upper right corner\n",
    "...   # plot DC in the lower left corner\n",
    "...   # plot DD in the lower right corner"
   ]
  },
  {
   "cell_type": "markdown",
   "metadata": {
    "deletable": false,
    "editable": false
   },
   "source": [
    "# 2. Sample correlation coefficient\n",
    "\n",
    "Implement the function `corr(D)` that takes a dataset tuple `D` and returns its sample correlation coefficient $r$. "
   ]
  },
  {
   "cell_type": "code",
   "execution_count": null,
   "metadata": {
    "execution": {
     "iopub.execute_input": "2025-03-31T05:32:56.510346Z",
     "iopub.status.busy": "2025-03-31T05:32:56.510189Z",
     "iopub.status.idle": "2025-03-31T05:32:56.514034Z",
     "shell.execute_reply": "2025-03-31T05:32:56.513630Z"
    },
    "tags": [
     "otter_answer_cell"
    ]
   },
   "outputs": [],
   "source": [
    "def corr(D):\n",
    "    ...             # TODO\n",
    "    return ...      # TODO"
   ]
  },
  {
   "cell_type": "code",
   "execution_count": null,
   "metadata": {
    "execution": {
     "iopub.execute_input": "2025-03-31T05:32:56.515181Z",
     "iopub.status.busy": "2025-03-31T05:32:56.515070Z",
     "iopub.status.idle": "2025-03-31T05:32:56.517870Z",
     "shell.execute_reply": "2025-03-31T05:32:56.517502Z"
    },
    "tags": [
     "otter_answer_cell"
    ]
   },
   "outputs": [],
   "source": [
    "rA = corr(DA)\n",
    "rB = corr(DB)\n",
    "rC = corr(DC)\n",
    "rD = corr(DD)\n",
    "\n",
    "print(f'rA = {rA}')\n",
    "print(f'rB = {rB}')\n",
    "print(f'rC = {rC}')\n",
    "print(f'rD = {rD}')"
   ]
  },
  {
   "cell_type": "code",
   "execution_count": null,
   "metadata": {
    "deletable": false,
    "editable": false
   },
   "outputs": [],
   "source": [
    "grader.check(\"q2\")"
   ]
  },
  {
   "cell_type": "markdown",
   "metadata": {
    "deletable": false,
    "editable": false
   },
   "source": [
    "# 3. Compute linear regresssion coefficients\n",
    "\n",
    "Implement the function `compute_linear_regression(D)` that takes a dataset tuple `D` and returns the coefficients of the linear regression $\\hat{\\theta}_0$ and $\\hat{\\theta}_1$. "
   ]
  },
  {
   "cell_type": "code",
   "execution_count": null,
   "metadata": {
    "execution": {
     "iopub.execute_input": "2025-03-31T05:32:56.532672Z",
     "iopub.status.busy": "2025-03-31T05:32:56.532460Z",
     "iopub.status.idle": "2025-03-31T05:32:56.535097Z",
     "shell.execute_reply": "2025-03-31T05:32:56.534870Z"
    },
    "tags": [
     "otter_answer_cell"
    ]
   },
   "outputs": [],
   "source": [
    "def compute_linear_regression(D):\n",
    "    ...                 # TODO\n",
    "    thetahat1 = ...        # TODO\n",
    "    thetahat0 = ...        # TODO\n",
    "    return thetahat0, thetahat1"
   ]
  },
  {
   "cell_type": "code",
   "execution_count": null,
   "metadata": {
    "execution": {
     "iopub.execute_input": "2025-03-31T05:32:56.536136Z",
     "iopub.status.busy": "2025-03-31T05:32:56.535951Z",
     "iopub.status.idle": "2025-03-31T05:32:56.538571Z",
     "shell.execute_reply": "2025-03-31T05:32:56.538287Z"
    },
    "tags": [
     "otter_answer_cell"
    ]
   },
   "outputs": [],
   "source": [
    "thetahatA = compute_linear_regression(DA)\n",
    "thetahatB = compute_linear_regression(DB)\n",
    "thetahatC = compute_linear_regression(DC)\n",
    "thetahatD = compute_linear_regression(DD)\n",
    "\n",
    "print(f'A: thetahat0 = {thetahatA[0]:.2e}, thetahat1 = {thetahatA[1]:.2e}')\n",
    "print(f'B: thetahat0 = {thetahatB[0]:.2e}, thetahat1 = {thetahatB[1]:.2e}')\n",
    "print(f'C: thetahat0 = {thetahatC[0]:.2e}, thetahat1 = {thetahatC[1]:.2e}')\n",
    "print(f'D: thetahat0 = {thetahatD[0]:.2e}, Vhetahat1 = {thetahatD[1]:.2e}')"
   ]
  },
  {
   "cell_type": "code",
   "execution_count": null,
   "metadata": {
    "deletable": false,
    "editable": false
   },
   "outputs": [],
   "source": [
    "grader.check(\"q3\")"
   ]
  },
  {
   "cell_type": "markdown",
   "metadata": {
    "deletable": false,
    "editable": false
   },
   "source": [
    "# 4. Evaluate linear regresssion prediction\n",
    "\n",
    "Implement the function `predict(thetahat,D)` that takes parameter tuple $\\hat\\theta=(\\hat\\theta_0,\\hat\\theta_1)$ and the dataset `D` and returns the array of predictions $\\hat{y}$ for `D`: \n",
    "$$\\hat{y} = \\hat\\theta_0 + x \\hat\\theta_1$$"
   ]
  },
  {
   "cell_type": "code",
   "execution_count": null,
   "metadata": {
    "execution": {
     "iopub.execute_input": "2025-03-31T05:32:56.556831Z",
     "iopub.status.busy": "2025-03-31T05:32:56.556682Z",
     "iopub.status.idle": "2025-03-31T05:32:56.559085Z",
     "shell.execute_reply": "2025-03-31T05:32:56.558841Z"
    },
    "tags": [
     "otter_answer_cell"
    ]
   },
   "outputs": [],
   "source": [
    "def predict(thetahat,D):\n",
    "    ...             # TODO\n",
    "    return ...      # TODO"
   ]
  },
  {
   "cell_type": "code",
   "execution_count": null,
   "metadata": {
    "execution": {
     "iopub.execute_input": "2025-03-31T05:32:56.560129Z",
     "iopub.status.busy": "2025-03-31T05:32:56.560025Z",
     "iopub.status.idle": "2025-03-31T05:32:56.562723Z",
     "shell.execute_reply": "2025-03-31T05:32:56.562448Z"
    },
    "tags": [
     "otter_answer_cell"
    ]
   },
   "outputs": [],
   "source": [
    "yhatA = predict(thetahatA,DA)\n",
    "yhatB = predict(thetahatB,DB)\n",
    "yhatC = predict(thetahatC,DC)\n",
    "yhatD = predict(thetahatD,DD)\n",
    "\n",
    "print(f'yhatA[:3]={yhatA[:3]}')\n",
    "print(f'yhatB[:3]={yhatB[:3]}')\n",
    "print(f'yhatC[:3]={yhatC[:3]}')\n",
    "print(f'yhatD[:3]={yhatD[:3]}')"
   ]
  },
  {
   "cell_type": "code",
   "execution_count": null,
   "metadata": {
    "deletable": false,
    "editable": false
   },
   "outputs": [],
   "source": [
    "grader.check(\"q4\")"
   ]
  },
  {
   "cell_type": "markdown",
   "metadata": {
    "deletable": false,
    "editable": false
   },
   "source": [
    "# 5. Plot linear regresssion prediction\n",
    "\n",
    "Overlay the linear regression lines on each of the scatter plots from plot 1. Your plot should look like this:\n",
    "\n",
    "<img src=\"resources/f2.png\" />"
   ]
  },
  {
   "cell_type": "code",
   "execution_count": null,
   "metadata": {
    "execution": {
     "iopub.execute_input": "2025-03-31T05:32:56.578630Z",
     "iopub.status.busy": "2025-03-31T05:32:56.578468Z",
     "iopub.status.idle": "2025-03-31T05:32:56.850328Z",
     "shell.execute_reply": "2025-03-31T05:32:56.850019Z"
    },
    "tags": [
     "otter_answer_cell"
    ]
   },
   "outputs": [],
   "source": [
    "fig, ax = plt.subplots(figsize=(12,8),nrows=2,ncols=2)\n",
    "..."
   ]
  },
  {
   "cell_type": "markdown",
   "metadata": {
    "deletable": false,
    "editable": false
   },
   "source": [
    "# 6. Coefficient of determinination\n",
    "\n",
    "Implement the function `eval_Rsquared(thetahat,D)` that takes parameters $\\hat\\theta=(\\hat\\theta_0,\\hat\\theta_1)$ and a dataset `D` and returns the coefficient of determination $R^2$ (formula in the lecture on supervised learning). Verify the identity $R^2=r^2$"
   ]
  },
  {
   "cell_type": "code",
   "execution_count": null,
   "metadata": {
    "execution": {
     "iopub.execute_input": "2025-03-31T05:32:56.851808Z",
     "iopub.status.busy": "2025-03-31T05:32:56.851581Z",
     "iopub.status.idle": "2025-03-31T05:32:56.854404Z",
     "shell.execute_reply": "2025-03-31T05:32:56.854154Z"
    },
    "tags": [
     "otter_answer_cell"
    ]
   },
   "outputs": [],
   "source": [
    "def eval_Rsquared(thetahat,D):\n",
    "    ...             # TODO\n",
    "    return ...      # TODO"
   ]
  },
  {
   "cell_type": "code",
   "execution_count": null,
   "metadata": {
    "execution": {
     "iopub.execute_input": "2025-03-31T05:32:56.855588Z",
     "iopub.status.busy": "2025-03-31T05:32:56.855382Z",
     "iopub.status.idle": "2025-03-31T05:32:56.858181Z",
     "shell.execute_reply": "2025-03-31T05:32:56.857920Z"
    },
    "tags": [
     "otter_answer_cell"
    ]
   },
   "outputs": [],
   "source": [
    "RsquaredA = eval_Rsquared(thetahatA,DA)\n",
    "RsquaredB = eval_Rsquared(thetahatB,DB)\n",
    "RsquaredC = eval_Rsquared(thetahatC,DC)\n",
    "RsquaredD = eval_Rsquared(thetahatD,DD)\n",
    "\n",
    "print( np.isclose( RsquaredA , corr(DA)**2 ))\n",
    "print( np.isclose( RsquaredB , corr(DB)**2 ))\n",
    "print( np.isclose( RsquaredC , corr(DC)**2 ))\n",
    "print( np.isclose( RsquaredD , corr(DD)**2 ))"
   ]
  },
  {
   "cell_type": "code",
   "execution_count": null,
   "metadata": {
    "deletable": false,
    "editable": false
   },
   "outputs": [],
   "source": [
    "grader.check(\"q6\")"
   ]
  },
  {
   "cell_type": "markdown",
   "metadata": {
    "deletable": false,
    "editable": false
   },
   "source": [
    "# 7. Estimate the variance of the output measurement noise ($\\sigma^2$)\n",
    "\n",
    "Implement the function `estimate_sigma2(D)` that takes a dataset `D` and returns the estimated variance of the output measurement noise $\\varepsilon_i$. \n",
    "\n",
    "$$\\hat\\sigma^2  = \\frac{1}{N-2} \\sum_{i=1}^{N} (y_i - \\hat{y}_i)^2$$\n",
    "\n",
    "where $\\hat{y}_i$ are the predictions of linear regression for `D`."
   ]
  },
  {
   "cell_type": "code",
   "execution_count": null,
   "metadata": {
    "execution": {
     "iopub.execute_input": "2025-03-31T05:32:56.873871Z",
     "iopub.status.busy": "2025-03-31T05:32:56.873670Z",
     "iopub.status.idle": "2025-03-31T05:32:56.876143Z",
     "shell.execute_reply": "2025-03-31T05:32:56.875928Z"
    },
    "tags": [
     "otter_answer_cell"
    ]
   },
   "outputs": [],
   "source": [
    "def estimate_sigma2(D):\n",
    "    ...             # TODO\n",
    "    return ...      # TODO"
   ]
  },
  {
   "cell_type": "code",
   "execution_count": null,
   "metadata": {
    "execution": {
     "iopub.execute_input": "2025-03-31T05:32:56.877154Z",
     "iopub.status.busy": "2025-03-31T05:32:56.876966Z",
     "iopub.status.idle": "2025-03-31T05:32:56.879360Z",
     "shell.execute_reply": "2025-03-31T05:32:56.879112Z"
    },
    "tags": [
     "otter_answer_cell"
    ]
   },
   "outputs": [],
   "source": [
    "sigma2hatA = estimate_sigma2(DA)\n",
    "sigma2hatB = estimate_sigma2(DB)\n",
    "sigma2hatC = estimate_sigma2(DC)\n",
    "sigma2hatD = estimate_sigma2(DD)\n",
    "\n",
    "print(f'sigma2A = {sigma2hatA:.2e}')\n",
    "print(f'sigma2B = {sigma2hatB:.2e}')\n",
    "print(f'sigma2C = {sigma2hatC:.2e}')\n",
    "print(f'sigma2D = {sigma2hatD:.2e}')"
   ]
  },
  {
   "cell_type": "code",
   "execution_count": null,
   "metadata": {
    "deletable": false,
    "editable": false
   },
   "outputs": [],
   "source": [
    "grader.check(\"q7\")"
   ]
  },
  {
   "cell_type": "markdown",
   "metadata": {
    "deletable": false,
    "editable": false
   },
   "source": [
    "# 8. Uncertainty in the linear regression coefficients\n",
    "\n",
    "Implement the function `compute_var_param(D)` that takes a dataset `D` and returns the variance associated with the linear regression parameters.\n",
    "\n",
    "$$Var[\\hat\\Theta_1] = \\frac{\\hat\\sigma^2}{(N-1)\\hat{\\sigma}_X^2}$$\n",
    "\n",
    "$$Var[\\hat\\Theta_0] = \\frac{\\hat\\sigma^2}{N} + \\frac{\\hat\\sigma^2 \\hat{\\mu}^2_X  }{(N-1)\\hat{\\sigma}_X^2}$$"
   ]
  },
  {
   "cell_type": "code",
   "execution_count": null,
   "metadata": {
    "execution": {
     "iopub.execute_input": "2025-03-31T05:32:56.892901Z",
     "iopub.status.busy": "2025-03-31T05:32:56.892700Z",
     "iopub.status.idle": "2025-03-31T05:32:56.895883Z",
     "shell.execute_reply": "2025-03-31T05:32:56.895504Z"
    },
    "tags": [
     "otter_answer_cell"
    ]
   },
   "outputs": [],
   "source": [
    "def compute_var_param(D):\n",
    "    ...             # TODO\n",
    "    var1 = ...      # TODO\n",
    "    var0 = ...      # TODO\n",
    "    return var0, var1"
   ]
  },
  {
   "cell_type": "code",
   "execution_count": null,
   "metadata": {
    "execution": {
     "iopub.execute_input": "2025-03-31T05:32:56.897513Z",
     "iopub.status.busy": "2025-03-31T05:32:56.897335Z",
     "iopub.status.idle": "2025-03-31T05:32:56.900232Z",
     "shell.execute_reply": "2025-03-31T05:32:56.899991Z"
    },
    "tags": [
     "otter_answer_cell"
    ]
   },
   "outputs": [],
   "source": [
    "varA = compute_var_param(DA)\n",
    "varB = compute_var_param(DB)\n",
    "varC = compute_var_param(DC)\n",
    "varD = compute_var_param(DD)\n",
    "\n",
    "print(f'A: Var[thetahat0] = {varA[0]:.2e}, Var[thetahat1] = {varA[1]:.2e}')\n",
    "print(f'B: Var[thetahat0] = {varB[0]:.2e}, Var[thetahat1] = {varB[1]:.2e}')\n",
    "print(f'C: Var[thetahat0] = {varC[0]:.2e}, Var[thetahat1] = {varC[1]:.2e}')\n",
    "print(f'D: Var[thetahat0] = {varD[0]:.2e}, Var[thetahat1] = {varD[1]:.2e}')"
   ]
  },
  {
   "cell_type": "code",
   "execution_count": null,
   "metadata": {
    "deletable": false,
    "editable": false
   },
   "outputs": [],
   "source": [
    "grader.check(\"q8\")"
   ]
  },
  {
   "cell_type": "markdown",
   "metadata": {
    "deletable": false,
    "editable": false
   },
   "source": [
    "# 9. Confidence intervals\n",
    "\n",
    "Implement the function `compute_rho(D,gamma)` that takes a dataset `D` and confidence level $\\gamma$, and returns the radiuses $\\rho_0$ and $\\rho_1$ of the $\\gamma$-confidence intervals for $\\hat\\theta_0$ and $\\hat\\theta_1$ respectively.\n",
    "\n",
    "Note:\n",
    "+ See ``Linear Regression part 1'' for the formulas.\n",
    "+ Because $N$ is ``large'' ($N>40$) we can use the inverse cdf of the unit normal distribution. "
   ]
  },
  {
   "cell_type": "code",
   "execution_count": null,
   "metadata": {
    "execution": {
     "iopub.execute_input": "2025-03-31T05:32:56.918921Z",
     "iopub.status.busy": "2025-03-31T05:32:56.918754Z",
     "iopub.status.idle": "2025-03-31T05:32:56.921417Z",
     "shell.execute_reply": "2025-03-31T05:32:56.921171Z"
    },
    "tags": [
     "otter_answer_cell"
    ]
   },
   "outputs": [],
   "source": [
    "def compute_rho(D,gamma):\n",
    "    ...             # TODO\n",
    "    rho0 = ...      # TODO\n",
    "    rho1 = ...      # TODO\n",
    "    return rho0, rho1"
   ]
  },
  {
   "cell_type": "code",
   "execution_count": null,
   "metadata": {
    "execution": {
     "iopub.execute_input": "2025-03-31T05:32:56.922454Z",
     "iopub.status.busy": "2025-03-31T05:32:56.922239Z",
     "iopub.status.idle": "2025-03-31T05:32:56.929103Z",
     "shell.execute_reply": "2025-03-31T05:32:56.928754Z"
    },
    "tags": [
     "otter_answer_cell"
    ]
   },
   "outputs": [],
   "source": [
    "gamma = 0.98\n",
    "rhoA = compute_rho(DA,gamma)\n",
    "rhoB = compute_rho(DB,gamma)\n",
    "rhoC = compute_rho(DC,gamma)\n",
    "rhoD = compute_rho(DD,gamma)\n",
    "\n",
    "print(f'A: rho0 = {rhoA[0]:.2e}, rho1 = {rhoA[1]:.2e}')\n",
    "print(f'B: rho0 = {rhoB[0]:.2e}, rho1 = {rhoB[1]:.2e}')\n",
    "print(f'C: rho0 = {rhoC[0]:.2e}, rho1 = {rhoC[1]:.2e}')\n",
    "print(f'D: rho0 = {rhoD[0]:.2e}, rho1 = {rhoD[1]:.2e}')"
   ]
  },
  {
   "cell_type": "code",
   "execution_count": null,
   "metadata": {
    "deletable": false,
    "editable": false
   },
   "outputs": [],
   "source": [
    "grader.check(\"q9\")"
   ]
  },
  {
   "cell_type": "markdown",
   "metadata": {
    "deletable": false,
    "editable": false
   },
   "source": [
    "# 10. Negligible parameters\n",
    "\n",
    "We consider a slope parameter to be \"negligible\" when it is close to zero. We define \"close\" to mean that zero is within its 95\\% confidence interval. Which of the 4 cases have a negligible slope parameter $\\hat\\theta_1$? Provide your answer as a comma-separated string, e.g. `\"A,B\"`."
   ]
  },
  {
   "cell_type": "code",
   "execution_count": null,
   "metadata": {
    "execution": {
     "iopub.execute_input": "2025-03-31T05:32:56.947474Z",
     "iopub.status.busy": "2025-03-31T05:32:56.947237Z",
     "iopub.status.idle": "2025-03-31T05:32:56.954589Z",
     "shell.execute_reply": "2025-03-31T05:32:56.954325Z"
    },
    "tags": [
     "otter_answer_cell"
    ]
   },
   "outputs": [],
   "source": [
    "def is_negligible(D,gamma):\n",
    "    ...\n",
    "    captures_zero = ...  # a boolean that is true if 0 is within the confidence interval\n",
    "    return captures_zero\n",
    "\n",
    "gamma = 0.95\n",
    "print(is_negligible(DA,gamma))\n",
    "print(is_negligible(DB,gamma))\n",
    "print(is_negligible(DC,gamma))\n",
    "print(is_negligible(DD,gamma))\n",
    "answer = ...      # TODO"
   ]
  },
  {
   "cell_type": "code",
   "execution_count": null,
   "metadata": {
    "deletable": false,
    "editable": false
   },
   "outputs": [],
   "source": [
    "grader.check(\"q10\")"
   ]
  },
  {
   "cell_type": "markdown",
   "metadata": {
    "deletable": false,
    "editable": false
   },
   "source": [
    "# 11. Nonlinear feature vector\n",
    "\n",
    "The dataset `DA` looks like it could be modeled as exponential decay. Let's use this insight to improve the regression model for this dataset. Define a feture vector `phi` with\n",
    "$$\\phi(x) = e^{\\lambda x}$$\n",
    "Using trial-and-error, find a value for $\\lambda$ that achieves an $R^2$ of 0.9 or more. \n",
    "\n",
    "**Note**: The test for this question is hidden and will only be evaluated in Gradescope."
   ]
  },
  {
   "cell_type": "code",
   "execution_count": null,
   "metadata": {
    "execution": {
     "iopub.execute_input": "2025-03-31T05:32:56.959178Z",
     "iopub.status.busy": "2025-03-31T05:32:56.959080Z",
     "iopub.status.idle": "2025-03-31T05:32:57.152417Z",
     "shell.execute_reply": "2025-03-31T05:32:57.152048Z"
    },
    "otter": {
     "tests": [
      "q11"
     ]
    },
    "tags": [
     "otter_answer_cell"
    ]
   },
   "outputs": [],
   "source": [
    "lbda = ...              # TODO\n",
    "x, y = DA\n",
    "phi = np.exp(lbda*x)\n",
    "DA2 = (phi,y)\n",
    "thetahatA2 = compute_linear_regression(DA2)    # TODO\n",
    "RsquaredA2 = eval_Rsquared(thetahatA2,DA2)     # TODO\n",
    "\n",
    "fig, ax = plt.subplots()\n",
    "ax.scatter(DA[0],DA[1],color='k',marker='.')\n",
    "ax.plot(DA[0],predict(thetahatA,DA),label='$R^2$={:.3f}'.format(RsquaredA))\n",
    "ax.plot(DA[0],predict(thetahatA2,DA2),'-',label='$R^2$={:.3f}'.format(RsquaredA2))\n",
    "ax.legend(fontsize=14)"
   ]
  },
  {
   "cell_type": "markdown",
   "metadata": {
    "deletable": false,
    "editable": false
   },
   "source": [
    "# 12. Prediction uncertainty\n",
    "\n",
    "Implement the function `compute_var_prediction(D,x)` that takes a dataset `D` and an array of test input samples `xtest`, and returns the array of variances in the predictions $\\hat{y}$ corresponding to elements in `xtest`.\n",
    "\n",
    "$$Var[\\hat{y}] = \\frac{\\hat\\sigma^2}{N} + \\frac{\\hat\\sigma^2(x-\\hat\\mu_X)^2}{(N-1)\\hat{\\sigma}^2_X}  $$"
   ]
  },
  {
   "cell_type": "code",
   "execution_count": null,
   "metadata": {
    "execution": {
     "iopub.execute_input": "2025-03-31T05:32:57.157075Z",
     "iopub.status.busy": "2025-03-31T05:32:57.156958Z",
     "iopub.status.idle": "2025-03-31T05:32:57.159983Z",
     "shell.execute_reply": "2025-03-31T05:32:57.159728Z"
    },
    "tags": [
     "otter_answer_cell"
    ]
   },
   "outputs": [],
   "source": [
    "def compute_var_prediction(D,xtest):\n",
    "    ...             # TODO\n",
    "    return ...      # TODO"
   ]
  },
  {
   "cell_type": "code",
   "execution_count": null,
   "metadata": {
    "execution": {
     "iopub.execute_input": "2025-03-31T05:32:57.161025Z",
     "iopub.status.busy": "2025-03-31T05:32:57.160798Z",
     "iopub.status.idle": "2025-03-31T05:32:57.164644Z",
     "shell.execute_reply": "2025-03-31T05:32:57.164318Z"
    },
    "tags": [
     "otter_answer_cell"
    ]
   },
   "outputs": [],
   "source": [
    "# Evaluate the prediction variance on the training input samples. \n",
    "\n",
    "varYhatA = compute_var_prediction(DA,DA[0])\n",
    "stddevYhatA = np.sqrt(varYhatA)\n",
    "\n",
    "varYhatB = compute_var_prediction(DB,DB[0])\n",
    "stddevYhatB = np.sqrt(varYhatB)\n",
    "\n",
    "varYhatC = compute_var_prediction(DC,DC[0])\n",
    "stddevYhatC = np.sqrt(varYhatC)\n",
    "\n",
    "varYhatD = compute_var_prediction(DD,DD[0])\n",
    "stddevYhatD = np.sqrt(varYhatD)\n",
    "\n",
    "print(f'stddevYA={stddevYhatA[:20:3]}')\n",
    "print(f'stddevYB={stddevYhatB[:20:3]}')\n",
    "print(f'stddevYC={stddevYhatC[:20:3]}')\n",
    "print(f'stddevYD={stddevYhatD[:20:3]}')"
   ]
  },
  {
   "cell_type": "code",
   "execution_count": null,
   "metadata": {
    "deletable": false,
    "editable": false
   },
   "outputs": [],
   "source": [
    "grader.check(\"q12\")"
   ]
  },
  {
   "cell_type": "markdown",
   "metadata": {
    "deletable": false,
    "editable": false
   },
   "source": [
    "# 13. Plot the prediction with uncertainty bounds\n",
    "\n",
    "Repeat the scatter and prediction plot, but this time overlay an prediction uncertainty band of plus/minus two standard deviations. Your plot should look something like this:\n",
    "\n",
    "<img src=\"resources/f3.png\" />\n"
   ]
  },
  {
   "cell_type": "code",
   "execution_count": null,
   "metadata": {
    "execution": {
     "iopub.execute_input": "2025-03-31T05:32:57.180993Z",
     "iopub.status.busy": "2025-03-31T05:32:57.180804Z",
     "iopub.status.idle": "2025-03-31T05:32:57.421434Z",
     "shell.execute_reply": "2025-03-31T05:32:57.421148Z"
    },
    "tags": [
     "otter_answer_cell"
    ]
   },
   "outputs": [],
   "source": [
    "fig, ax = plt.subplots(figsize=(12,8),nrows=2,ncols=2)\n",
    "\n",
    "a = ax[0,0]\n",
    "D = DA\n",
    "x, y = D\n",
    "thetahat = compute_linear_regression(D)\n",
    "yhat = predict(thetahat,D)\n",
    "stdevY = np.sqrt(compute_var_prediction(D,x))\n",
    "a.scatter(x,y,color='k',marker='.')\n",
    "a.plot(x,yhat)\n",
    "a.fill_between(x,yhat-2*stdevY,yhat+2*stdevY,alpha=0.5)\n",
    "\n",
    "..."
   ]
  },
  {
   "cell_type": "markdown",
   "metadata": {
    "deletable": false,
    "editable": false
   },
   "source": [
    "## Submission\n",
    "\n",
    "Make sure you have run all cells in your notebook in order before running the cell below, so that all images/graphs appear in the output. The cell below will generate a zip file for you to submit. **Please save before exporting!**\n",
    "\n",
    "Make sure you submit the .zip file to Gradescope."
   ]
  },
  {
   "cell_type": "code",
   "execution_count": null,
   "metadata": {
    "deletable": false,
    "editable": false
   },
   "outputs": [],
   "source": [
    "# Save your notebook first, then run this cell to export your submission.\n",
    "grader.export(pdf=False)"
   ]
  },
  {
   "cell_type": "markdown",
   "metadata": {},
   "source": [
    " "
   ]
  }
 ],
 "metadata": {
  "kernelspec": {
   "display_name": "sdse",
   "language": "python",
   "name": "python3"
  },
  "language_info": {
   "codemirror_mode": {
    "name": "ipython",
    "version": 3
   },
   "file_extension": ".py",
   "mimetype": "text/x-python",
   "name": "python",
   "nbconvert_exporter": "python",
   "pygments_lexer": "ipython3",
   "version": "3.12.3"
  },
  "otter": {
   "OK_FORMAT": true,
   "assignment_name": "hw4",
   "tests": {
    "q10": {
     "name": "q10",
     "points": null,
     "suites": [
      {
       "cases": [
        {
         "code": ">>> get_hash(answer) == 'f623e75af30e62bbd73d6df5b50bb7b5'\nTrue",
         "hidden": false,
         "locked": false,
         "points": 1
        }
       ],
       "scored": true,
       "setup": "",
       "teardown": "",
       "type": "doctest"
      }
     ]
    },
    "q11": {
     "name": "q11",
     "points": null,
     "suites": [
      {
       "cases": [],
       "scored": true,
       "setup": "",
       "teardown": "",
       "type": "doctest"
      }
     ]
    },
    "q12": {
     "name": "q12",
     "points": null,
     "suites": [
      {
       "cases": [
        {
         "code": ">>> get_hash(compute_var_prediction(DA, DA[0]), 4) == 'f4db257cd335e98f201ea47d8bf5966c'\nTrue",
         "hidden": false,
         "locked": false,
         "points": 1
        },
        {
         "code": ">>> get_hash(compute_var_prediction(DB, DB[0]), 4) == '749dfa6987e7f0afe8125549d5a737c3'\nTrue",
         "hidden": false,
         "locked": false,
         "points": 1
        },
        {
         "code": ">>> get_hash(compute_var_prediction(DC, DC[0]), 4) == '42abd98bfb3f757280a0b8cd904da0c5'\nTrue",
         "hidden": false,
         "locked": false,
         "points": 1
        },
        {
         "code": ">>> get_hash(compute_var_prediction(DD, DD[0]), 4) == '503b0a53d842c647d84a456dc4ff9434'\nTrue",
         "hidden": false,
         "locked": false,
         "points": 1
        }
       ],
       "scored": true,
       "setup": "",
       "teardown": "",
       "type": "doctest"
      }
     ]
    },
    "q2": {
     "name": "q2",
     "points": null,
     "suites": [
      {
       "cases": [
        {
         "code": ">>> bool(np.isclose(rA, -0.8099147715792736, 0.001))\nTrue",
         "hidden": false,
         "locked": false,
         "points": 0
        },
        {
         "code": ">>> get_hash(rB, 4) == '835a2b7b610ff0f3cbc96d7b636415b7'\nTrue",
         "hidden": false,
         "locked": false,
         "points": 1
        }
       ],
       "scored": true,
       "setup": "",
       "teardown": "",
       "type": "doctest"
      }
     ]
    },
    "q3": {
     "name": "q3",
     "points": null,
     "suites": [
      {
       "cases": [
        {
         "code": ">>> thetahatA = compute_linear_regression(DA)\n>>> bool(thetahatA[0] > 3 and thetahatA[1] < 0)\nTrue",
         "hidden": false,
         "locked": false,
         "points": 0
        },
        {
         "code": ">>> get_hash(compute_linear_regression(DA), 4) == 'ef0f6da7edfcca4e28195f3a4d30a793'\nTrue",
         "hidden": false,
         "locked": false,
         "points": 1
        },
        {
         "code": ">>> get_hash(compute_linear_regression(DB), 4) == '53bdcb310916d5082434d92adecf9ec5'\nTrue",
         "hidden": false,
         "locked": false,
         "points": 1
        },
        {
         "code": ">>> get_hash(compute_linear_regression(DC), 4) == '34147028d6b5b5da4d98154e73ec4888'\nTrue",
         "hidden": false,
         "locked": false,
         "points": 1
        },
        {
         "code": ">>> get_hash(compute_linear_regression(DD), 4) == 'd24429496a8468962395ba9d00e40c20'\nTrue",
         "hidden": false,
         "locked": false,
         "points": 1
        }
       ],
       "scored": true,
       "setup": "",
       "teardown": "",
       "type": "doctest"
      }
     ]
    },
    "q4": {
     "name": "q4",
     "points": null,
     "suites": [
      {
       "cases": [
        {
         "code": ">>> get_hash(predict(compute_linear_regression(DA), DA), 4) == '85c6f31c18559d1d6a77afb2394cdbc9'\nTrue",
         "hidden": false,
         "locked": false,
         "points": 1
        },
        {
         "code": ">>> get_hash(predict(compute_linear_regression(DB), DB), 4) == 'b9a8973df0ca79c46ef2b71b4c702ae2'\nTrue",
         "hidden": false,
         "locked": false,
         "points": 1
        },
        {
         "code": ">>> get_hash(predict(compute_linear_regression(DC), DC), 4) == '8bd3f7c0bf9cc0cfbf30f5bdbd78457e'\nTrue",
         "hidden": false,
         "locked": false,
         "points": 1
        },
        {
         "code": ">>> get_hash(predict(compute_linear_regression(DD), DD), 4) == 'c2a4783c823ea82124b3db5b4ddbe762'\nTrue",
         "hidden": false,
         "locked": false,
         "points": 1
        }
       ],
       "scored": true,
       "setup": "",
       "teardown": "",
       "type": "doctest"
      }
     ]
    },
    "q6": {
     "name": "q6",
     "points": null,
     "suites": [
      {
       "cases": [
        {
         "code": ">>> get_hash(eval_Rsquared(compute_linear_regression(DA), DA), 4) == 'a342403c381016c41ecbc12123699daa'\nTrue",
         "hidden": false,
         "locked": false,
         "points": 1
        },
        {
         "code": ">>> get_hash(eval_Rsquared(compute_linear_regression(DB), DB), 4) == '9bb31e2afd1462aac7abc171d7533791'\nTrue",
         "hidden": false,
         "locked": false,
         "points": 1
        },
        {
         "code": ">>> get_hash(eval_Rsquared(compute_linear_regression(DC), DC), 4) == '9637bf59ecb1b3c0d15f8e1628a083f4'\nTrue",
         "hidden": false,
         "locked": false,
         "points": 1
        },
        {
         "code": ">>> get_hash(eval_Rsquared(compute_linear_regression(DD), DD), 4) == '608bbf3ac101b1f6da9ee89f11e8e564'\nTrue",
         "hidden": false,
         "locked": false,
         "points": 1
        }
       ],
       "scored": true,
       "setup": "",
       "teardown": "",
       "type": "doctest"
      }
     ]
    },
    "q7": {
     "name": "q7",
     "points": null,
     "suites": [
      {
       "cases": [
        {
         "code": ">>> get_hash(estimate_sigma2(DA), 4) == '453bf4d9934d0e3874a71cff19ba92bd'\nTrue",
         "hidden": false,
         "locked": false,
         "points": 1
        },
        {
         "code": ">>> get_hash(estimate_sigma2(DB), 4) == 'd7220b6c2c60895fd32ffff7577b6c95'\nTrue",
         "hidden": false,
         "locked": false,
         "points": 1
        },
        {
         "code": ">>> get_hash(estimate_sigma2(DC), 4) == '06265845401f290b89a5a6717fe6e546'\nTrue",
         "hidden": false,
         "locked": false,
         "points": 1
        },
        {
         "code": ">>> get_hash(estimate_sigma2(DD), 4) == '36552b079970ffb2dd1314115af76c4b'\nTrue",
         "hidden": false,
         "locked": false,
         "points": 1
        }
       ],
       "scored": true,
       "setup": "",
       "teardown": "",
       "type": "doctest"
      }
     ]
    },
    "q8": {
     "name": "q8",
     "points": null,
     "suites": [
      {
       "cases": [
        {
         "code": ">>> varA = compute_var_param(DA)\n>>> bool(varA[1] < 2e-05 and varA[0] > 0.0045)\nTrue",
         "hidden": false,
         "locked": false,
         "points": 0
        },
        {
         "code": ">>> var1A, var0A = compute_var_param(DA)\n>>> get_hash(varA) == '3b6fd29603e19ded47aa34fe96b4b05b'\nTrue",
         "hidden": false,
         "locked": false,
         "points": 1
        },
        {
         "code": ">>> var1B, var0B = compute_var_param(DB)\n>>> get_hash(varB) == '35e3a122f77aa96b0f64968c281b95fb'\nTrue",
         "hidden": false,
         "locked": false,
         "points": 1
        },
        {
         "code": ">>> var1C, var0C = compute_var_param(DC)\n>>> get_hash(varC) == 'da0b4eab8537b82920edb548b587e93e'\nTrue",
         "hidden": false,
         "locked": false,
         "points": 1
        },
        {
         "code": ">>> var1D, var0D = compute_var_param(DD)\n>>> get_hash(varD) == '7f5e54c308b635bd05ffb28ad3368469'\nTrue",
         "hidden": false,
         "locked": false,
         "points": 1
        }
       ],
       "scored": true,
       "setup": "",
       "teardown": "",
       "type": "doctest"
      }
     ]
    },
    "q9": {
     "name": "q9",
     "points": null,
     "suites": [
      {
       "cases": [
        {
         "code": ">>> get_hash(compute_rho(DA, gamma)) == 'b9c4d255171f33e825e0bcb02e200a03'\nTrue",
         "hidden": false,
         "locked": false,
         "points": 1
        },
        {
         "code": ">>> get_hash(compute_rho(DB, gamma), 4) == '265119261e682e2d5e667810484596bd'\nTrue",
         "hidden": false,
         "locked": false,
         "points": 1
        },
        {
         "code": ">>> get_hash(compute_rho(DC, gamma), 4) == 'd2ccbeed10d93b3bae5c2b7bcf0fff75'\nTrue",
         "hidden": false,
         "locked": false,
         "points": 1
        },
        {
         "code": ">>> get_hash(compute_rho(DD, gamma), 4) == 'ebf3a54b7e494cd7b2d856545b58a488'\nTrue",
         "hidden": false,
         "locked": false,
         "points": 1
        }
       ],
       "scored": true,
       "setup": "",
       "teardown": "",
       "type": "doctest"
      }
     ]
    }
   }
  }
 },
 "nbformat": 4,
 "nbformat_minor": 2
}
